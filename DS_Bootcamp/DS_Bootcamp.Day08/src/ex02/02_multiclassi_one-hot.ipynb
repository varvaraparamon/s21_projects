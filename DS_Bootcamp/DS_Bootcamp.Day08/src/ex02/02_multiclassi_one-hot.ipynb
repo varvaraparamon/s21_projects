{
 "cells": [
  {
   "cell_type": "markdown",
   "id": "77ef9ed4",
   "metadata": {},
   "source": [
    "# Day 08. Exercise 02\n",
    "# Multiclass classification. One-hot encoding. Random forest"
   ]
  },
  {
   "cell_type": "markdown",
   "id": "7c851a53",
   "metadata": {},
   "source": [
    "## 0. Imports"
   ]
  },
  {
   "cell_type": "code",
   "execution_count": 1,
   "id": "9c93a26e",
   "metadata": {},
   "outputs": [],
   "source": [
    "import pandas as pd\n",
    "import matplotlib.pyplot as plt\n",
    "import numpy as np\n",
    "from sklearn.preprocessing import StandardScaler, OneHotEncoder\n",
    "from sklearn.metrics import accuracy_score\n",
    "from sklearn.linear_model import LogisticRegression\n",
    "from sklearn.svm import SVC\n",
    "from sklearn.multiclass import OneVsRestClassifier\n",
    "from sklearn.tree import DecisionTreeClassifier\n",
    "from sklearn.ensemble import RandomForestClassifier"
   ]
  },
  {
   "cell_type": "markdown",
   "id": "5a40720f",
   "metadata": {},
   "source": [
    "## 1. Preprocessing"
   ]
  },
  {
   "cell_type": "markdown",
   "id": "3d2e8d12",
   "metadata": {},
   "source": [
    "1. Read the file [`checker-submits.csv`](https://drive.google.com/file/d/14voc4fNJZiLEFaZyd8nEG-lQt5JjatYw/view?usp=sharing).\n",
    "2. Create a dataframe `df` with the columns: `uid`, `labname`, `numTrials`, `hour`, `dayofweek` where `hour` is extracted from the `timestamp` as well as the `dayofweek` (`0` is Monday, `6` is Sunday). We will try to predict the day of the week having data about which user made a commit for which lab at which hour and which try it was.\n",
    "3. Using `OneHotEncoder()` transform your categorical features, delete from the dataframe the initial columns.\n",
    "4. Use `StandardScaler()` and scale your continuous features.\n",
    "5. Save the dataframe as `dayofweek.csv`.\n",
    "6. Before trying out different algorithms, find out the accuracy of the naive algorithms – the one that predicts everything as the most popular class."
   ]
  },
  {
   "cell_type": "code",
   "execution_count": 2,
   "id": "c94cdfdd",
   "metadata": {},
   "outputs": [
    {
     "data": {
      "text/html": [
       "<div>\n",
       "<style scoped>\n",
       "    .dataframe tbody tr th:only-of-type {\n",
       "        vertical-align: middle;\n",
       "    }\n",
       "\n",
       "    .dataframe tbody tr th {\n",
       "        vertical-align: top;\n",
       "    }\n",
       "\n",
       "    .dataframe thead th {\n",
       "        text-align: right;\n",
       "    }\n",
       "</style>\n",
       "<table border=\"1\" class=\"dataframe\">\n",
       "  <thead>\n",
       "    <tr style=\"text-align: right;\">\n",
       "      <th></th>\n",
       "      <th>uid</th>\n",
       "      <th>labname</th>\n",
       "      <th>numTrials</th>\n",
       "      <th>hour</th>\n",
       "      <th>dayofweek</th>\n",
       "    </tr>\n",
       "  </thead>\n",
       "  <tbody>\n",
       "    <tr>\n",
       "      <th>0</th>\n",
       "      <td>user_4</td>\n",
       "      <td>project1</td>\n",
       "      <td>1</td>\n",
       "      <td>5</td>\n",
       "      <td>4</td>\n",
       "    </tr>\n",
       "    <tr>\n",
       "      <th>1</th>\n",
       "      <td>user_4</td>\n",
       "      <td>project1</td>\n",
       "      <td>2</td>\n",
       "      <td>5</td>\n",
       "      <td>4</td>\n",
       "    </tr>\n",
       "    <tr>\n",
       "      <th>2</th>\n",
       "      <td>user_4</td>\n",
       "      <td>project1</td>\n",
       "      <td>3</td>\n",
       "      <td>5</td>\n",
       "      <td>4</td>\n",
       "    </tr>\n",
       "    <tr>\n",
       "      <th>3</th>\n",
       "      <td>user_4</td>\n",
       "      <td>project1</td>\n",
       "      <td>4</td>\n",
       "      <td>5</td>\n",
       "      <td>4</td>\n",
       "    </tr>\n",
       "    <tr>\n",
       "      <th>4</th>\n",
       "      <td>user_4</td>\n",
       "      <td>project1</td>\n",
       "      <td>5</td>\n",
       "      <td>5</td>\n",
       "      <td>4</td>\n",
       "    </tr>\n",
       "  </tbody>\n",
       "</table>\n",
       "</div>"
      ],
      "text/plain": [
       "      uid   labname  numTrials  hour  dayofweek\n",
       "0  user_4  project1          1     5          4\n",
       "1  user_4  project1          2     5          4\n",
       "2  user_4  project1          3     5          4\n",
       "3  user_4  project1          4     5          4\n",
       "4  user_4  project1          5     5          4"
      ]
     },
     "execution_count": 2,
     "metadata": {},
     "output_type": "execute_result"
    }
   ],
   "source": [
    "df = pd.read_csv('../data/checker_submits.csv')\n",
    "df['hour'] = pd.to_datetime(df['timestamp']).dt.hour\n",
    "df['dayofweek'] = pd.to_datetime(df['timestamp']).dt.day_of_week\n",
    "df.drop(columns=['timestamp'], inplace=True)\n",
    "df.head()"
   ]
  },
  {
   "cell_type": "code",
   "execution_count": 3,
   "id": "d7879d7d",
   "metadata": {},
   "outputs": [],
   "source": [
    "scaler = StandardScaler()\n",
    "df[['numTrials', 'hour']] = scaler.fit_transform(pd.DataFrame(df[['numTrials', 'hour']]))"
   ]
  },
  {
   "cell_type": "code",
   "execution_count": 4,
   "id": "a303aad9",
   "metadata": {},
   "outputs": [
    {
     "data": {
      "text/html": [
       "<div>\n",
       "<style scoped>\n",
       "    .dataframe tbody tr th:only-of-type {\n",
       "        vertical-align: middle;\n",
       "    }\n",
       "\n",
       "    .dataframe tbody tr th {\n",
       "        vertical-align: top;\n",
       "    }\n",
       "\n",
       "    .dataframe thead th {\n",
       "        text-align: right;\n",
       "    }\n",
       "</style>\n",
       "<table border=\"1\" class=\"dataframe\">\n",
       "  <thead>\n",
       "    <tr style=\"text-align: right;\">\n",
       "      <th></th>\n",
       "      <th>uid_user_0</th>\n",
       "      <th>uid_user_1</th>\n",
       "      <th>uid_user_10</th>\n",
       "      <th>uid_user_11</th>\n",
       "      <th>uid_user_12</th>\n",
       "      <th>uid_user_13</th>\n",
       "      <th>uid_user_14</th>\n",
       "      <th>uid_user_15</th>\n",
       "      <th>uid_user_16</th>\n",
       "      <th>uid_user_17</th>\n",
       "      <th>...</th>\n",
       "      <th>labname_lab05s</th>\n",
       "      <th>labname_laba04</th>\n",
       "      <th>labname_laba04s</th>\n",
       "      <th>labname_laba05</th>\n",
       "      <th>labname_laba06</th>\n",
       "      <th>labname_laba06s</th>\n",
       "      <th>labname_project1</th>\n",
       "      <th>numTrials</th>\n",
       "      <th>hour</th>\n",
       "      <th>dayofweek</th>\n",
       "    </tr>\n",
       "  </thead>\n",
       "  <tbody>\n",
       "    <tr>\n",
       "      <th>0</th>\n",
       "      <td>0.0</td>\n",
       "      <td>0.0</td>\n",
       "      <td>0.0</td>\n",
       "      <td>0.0</td>\n",
       "      <td>0.0</td>\n",
       "      <td>0.0</td>\n",
       "      <td>0.0</td>\n",
       "      <td>0.0</td>\n",
       "      <td>0.0</td>\n",
       "      <td>0.0</td>\n",
       "      <td>...</td>\n",
       "      <td>0.0</td>\n",
       "      <td>0.0</td>\n",
       "      <td>0.0</td>\n",
       "      <td>0.0</td>\n",
       "      <td>0.0</td>\n",
       "      <td>0.0</td>\n",
       "      <td>1.0</td>\n",
       "      <td>-0.788667</td>\n",
       "      <td>-2.562352</td>\n",
       "      <td>4</td>\n",
       "    </tr>\n",
       "    <tr>\n",
       "      <th>1</th>\n",
       "      <td>0.0</td>\n",
       "      <td>0.0</td>\n",
       "      <td>0.0</td>\n",
       "      <td>0.0</td>\n",
       "      <td>0.0</td>\n",
       "      <td>0.0</td>\n",
       "      <td>0.0</td>\n",
       "      <td>0.0</td>\n",
       "      <td>0.0</td>\n",
       "      <td>0.0</td>\n",
       "      <td>...</td>\n",
       "      <td>0.0</td>\n",
       "      <td>0.0</td>\n",
       "      <td>0.0</td>\n",
       "      <td>0.0</td>\n",
       "      <td>0.0</td>\n",
       "      <td>0.0</td>\n",
       "      <td>1.0</td>\n",
       "      <td>-0.756764</td>\n",
       "      <td>-2.562352</td>\n",
       "      <td>4</td>\n",
       "    </tr>\n",
       "    <tr>\n",
       "      <th>2</th>\n",
       "      <td>0.0</td>\n",
       "      <td>0.0</td>\n",
       "      <td>0.0</td>\n",
       "      <td>0.0</td>\n",
       "      <td>0.0</td>\n",
       "      <td>0.0</td>\n",
       "      <td>0.0</td>\n",
       "      <td>0.0</td>\n",
       "      <td>0.0</td>\n",
       "      <td>0.0</td>\n",
       "      <td>...</td>\n",
       "      <td>0.0</td>\n",
       "      <td>0.0</td>\n",
       "      <td>0.0</td>\n",
       "      <td>0.0</td>\n",
       "      <td>0.0</td>\n",
       "      <td>0.0</td>\n",
       "      <td>1.0</td>\n",
       "      <td>-0.724861</td>\n",
       "      <td>-2.562352</td>\n",
       "      <td>4</td>\n",
       "    </tr>\n",
       "    <tr>\n",
       "      <th>3</th>\n",
       "      <td>0.0</td>\n",
       "      <td>0.0</td>\n",
       "      <td>0.0</td>\n",
       "      <td>0.0</td>\n",
       "      <td>0.0</td>\n",
       "      <td>0.0</td>\n",
       "      <td>0.0</td>\n",
       "      <td>0.0</td>\n",
       "      <td>0.0</td>\n",
       "      <td>0.0</td>\n",
       "      <td>...</td>\n",
       "      <td>0.0</td>\n",
       "      <td>0.0</td>\n",
       "      <td>0.0</td>\n",
       "      <td>0.0</td>\n",
       "      <td>0.0</td>\n",
       "      <td>0.0</td>\n",
       "      <td>1.0</td>\n",
       "      <td>-0.692958</td>\n",
       "      <td>-2.562352</td>\n",
       "      <td>4</td>\n",
       "    </tr>\n",
       "    <tr>\n",
       "      <th>4</th>\n",
       "      <td>0.0</td>\n",
       "      <td>0.0</td>\n",
       "      <td>0.0</td>\n",
       "      <td>0.0</td>\n",
       "      <td>0.0</td>\n",
       "      <td>0.0</td>\n",
       "      <td>0.0</td>\n",
       "      <td>0.0</td>\n",
       "      <td>0.0</td>\n",
       "      <td>0.0</td>\n",
       "      <td>...</td>\n",
       "      <td>0.0</td>\n",
       "      <td>0.0</td>\n",
       "      <td>0.0</td>\n",
       "      <td>0.0</td>\n",
       "      <td>0.0</td>\n",
       "      <td>0.0</td>\n",
       "      <td>1.0</td>\n",
       "      <td>-0.661055</td>\n",
       "      <td>-2.562352</td>\n",
       "      <td>4</td>\n",
       "    </tr>\n",
       "    <tr>\n",
       "      <th>...</th>\n",
       "      <td>...</td>\n",
       "      <td>...</td>\n",
       "      <td>...</td>\n",
       "      <td>...</td>\n",
       "      <td>...</td>\n",
       "      <td>...</td>\n",
       "      <td>...</td>\n",
       "      <td>...</td>\n",
       "      <td>...</td>\n",
       "      <td>...</td>\n",
       "      <td>...</td>\n",
       "      <td>...</td>\n",
       "      <td>...</td>\n",
       "      <td>...</td>\n",
       "      <td>...</td>\n",
       "      <td>...</td>\n",
       "      <td>...</td>\n",
       "      <td>...</td>\n",
       "      <td>...</td>\n",
       "      <td>...</td>\n",
       "      <td>...</td>\n",
       "    </tr>\n",
       "    <tr>\n",
       "      <th>1681</th>\n",
       "      <td>0.0</td>\n",
       "      <td>0.0</td>\n",
       "      <td>0.0</td>\n",
       "      <td>0.0</td>\n",
       "      <td>0.0</td>\n",
       "      <td>0.0</td>\n",
       "      <td>0.0</td>\n",
       "      <td>0.0</td>\n",
       "      <td>0.0</td>\n",
       "      <td>0.0</td>\n",
       "      <td>...</td>\n",
       "      <td>0.0</td>\n",
       "      <td>0.0</td>\n",
       "      <td>0.0</td>\n",
       "      <td>0.0</td>\n",
       "      <td>0.0</td>\n",
       "      <td>1.0</td>\n",
       "      <td>0.0</td>\n",
       "      <td>-0.533442</td>\n",
       "      <td>0.945382</td>\n",
       "      <td>3</td>\n",
       "    </tr>\n",
       "    <tr>\n",
       "      <th>1682</th>\n",
       "      <td>0.0</td>\n",
       "      <td>1.0</td>\n",
       "      <td>0.0</td>\n",
       "      <td>0.0</td>\n",
       "      <td>0.0</td>\n",
       "      <td>0.0</td>\n",
       "      <td>0.0</td>\n",
       "      <td>0.0</td>\n",
       "      <td>0.0</td>\n",
       "      <td>0.0</td>\n",
       "      <td>...</td>\n",
       "      <td>0.0</td>\n",
       "      <td>0.0</td>\n",
       "      <td>0.0</td>\n",
       "      <td>0.0</td>\n",
       "      <td>0.0</td>\n",
       "      <td>1.0</td>\n",
       "      <td>0.0</td>\n",
       "      <td>-0.629151</td>\n",
       "      <td>0.945382</td>\n",
       "      <td>3</td>\n",
       "    </tr>\n",
       "    <tr>\n",
       "      <th>1683</th>\n",
       "      <td>0.0</td>\n",
       "      <td>1.0</td>\n",
       "      <td>0.0</td>\n",
       "      <td>0.0</td>\n",
       "      <td>0.0</td>\n",
       "      <td>0.0</td>\n",
       "      <td>0.0</td>\n",
       "      <td>0.0</td>\n",
       "      <td>0.0</td>\n",
       "      <td>0.0</td>\n",
       "      <td>...</td>\n",
       "      <td>0.0</td>\n",
       "      <td>0.0</td>\n",
       "      <td>0.0</td>\n",
       "      <td>0.0</td>\n",
       "      <td>0.0</td>\n",
       "      <td>1.0</td>\n",
       "      <td>0.0</td>\n",
       "      <td>-0.597248</td>\n",
       "      <td>0.945382</td>\n",
       "      <td>3</td>\n",
       "    </tr>\n",
       "    <tr>\n",
       "      <th>1684</th>\n",
       "      <td>0.0</td>\n",
       "      <td>1.0</td>\n",
       "      <td>0.0</td>\n",
       "      <td>0.0</td>\n",
       "      <td>0.0</td>\n",
       "      <td>0.0</td>\n",
       "      <td>0.0</td>\n",
       "      <td>0.0</td>\n",
       "      <td>0.0</td>\n",
       "      <td>0.0</td>\n",
       "      <td>...</td>\n",
       "      <td>0.0</td>\n",
       "      <td>0.0</td>\n",
       "      <td>0.0</td>\n",
       "      <td>0.0</td>\n",
       "      <td>0.0</td>\n",
       "      <td>1.0</td>\n",
       "      <td>0.0</td>\n",
       "      <td>-0.565345</td>\n",
       "      <td>0.945382</td>\n",
       "      <td>3</td>\n",
       "    </tr>\n",
       "    <tr>\n",
       "      <th>1685</th>\n",
       "      <td>0.0</td>\n",
       "      <td>1.0</td>\n",
       "      <td>0.0</td>\n",
       "      <td>0.0</td>\n",
       "      <td>0.0</td>\n",
       "      <td>0.0</td>\n",
       "      <td>0.0</td>\n",
       "      <td>0.0</td>\n",
       "      <td>0.0</td>\n",
       "      <td>0.0</td>\n",
       "      <td>...</td>\n",
       "      <td>0.0</td>\n",
       "      <td>0.0</td>\n",
       "      <td>0.0</td>\n",
       "      <td>0.0</td>\n",
       "      <td>0.0</td>\n",
       "      <td>1.0</td>\n",
       "      <td>0.0</td>\n",
       "      <td>-0.533442</td>\n",
       "      <td>0.945382</td>\n",
       "      <td>3</td>\n",
       "    </tr>\n",
       "  </tbody>\n",
       "</table>\n",
       "<p>1686 rows × 44 columns</p>\n",
       "</div>"
      ],
      "text/plain": [
       "      uid_user_0  uid_user_1  uid_user_10  uid_user_11  uid_user_12  \\\n",
       "0            0.0         0.0          0.0          0.0          0.0   \n",
       "1            0.0         0.0          0.0          0.0          0.0   \n",
       "2            0.0         0.0          0.0          0.0          0.0   \n",
       "3            0.0         0.0          0.0          0.0          0.0   \n",
       "4            0.0         0.0          0.0          0.0          0.0   \n",
       "...          ...         ...          ...          ...          ...   \n",
       "1681         0.0         0.0          0.0          0.0          0.0   \n",
       "1682         0.0         1.0          0.0          0.0          0.0   \n",
       "1683         0.0         1.0          0.0          0.0          0.0   \n",
       "1684         0.0         1.0          0.0          0.0          0.0   \n",
       "1685         0.0         1.0          0.0          0.0          0.0   \n",
       "\n",
       "      uid_user_13  uid_user_14  uid_user_15  uid_user_16  uid_user_17  ...  \\\n",
       "0             0.0          0.0          0.0          0.0          0.0  ...   \n",
       "1             0.0          0.0          0.0          0.0          0.0  ...   \n",
       "2             0.0          0.0          0.0          0.0          0.0  ...   \n",
       "3             0.0          0.0          0.0          0.0          0.0  ...   \n",
       "4             0.0          0.0          0.0          0.0          0.0  ...   \n",
       "...           ...          ...          ...          ...          ...  ...   \n",
       "1681          0.0          0.0          0.0          0.0          0.0  ...   \n",
       "1682          0.0          0.0          0.0          0.0          0.0  ...   \n",
       "1683          0.0          0.0          0.0          0.0          0.0  ...   \n",
       "1684          0.0          0.0          0.0          0.0          0.0  ...   \n",
       "1685          0.0          0.0          0.0          0.0          0.0  ...   \n",
       "\n",
       "      labname_lab05s  labname_laba04  labname_laba04s  labname_laba05  \\\n",
       "0                0.0             0.0              0.0             0.0   \n",
       "1                0.0             0.0              0.0             0.0   \n",
       "2                0.0             0.0              0.0             0.0   \n",
       "3                0.0             0.0              0.0             0.0   \n",
       "4                0.0             0.0              0.0             0.0   \n",
       "...              ...             ...              ...             ...   \n",
       "1681             0.0             0.0              0.0             0.0   \n",
       "1682             0.0             0.0              0.0             0.0   \n",
       "1683             0.0             0.0              0.0             0.0   \n",
       "1684             0.0             0.0              0.0             0.0   \n",
       "1685             0.0             0.0              0.0             0.0   \n",
       "\n",
       "      labname_laba06  labname_laba06s  labname_project1  numTrials      hour  \\\n",
       "0                0.0              0.0               1.0  -0.788667 -2.562352   \n",
       "1                0.0              0.0               1.0  -0.756764 -2.562352   \n",
       "2                0.0              0.0               1.0  -0.724861 -2.562352   \n",
       "3                0.0              0.0               1.0  -0.692958 -2.562352   \n",
       "4                0.0              0.0               1.0  -0.661055 -2.562352   \n",
       "...              ...              ...               ...        ...       ...   \n",
       "1681             0.0              1.0               0.0  -0.533442  0.945382   \n",
       "1682             0.0              1.0               0.0  -0.629151  0.945382   \n",
       "1683             0.0              1.0               0.0  -0.597248  0.945382   \n",
       "1684             0.0              1.0               0.0  -0.565345  0.945382   \n",
       "1685             0.0              1.0               0.0  -0.533442  0.945382   \n",
       "\n",
       "      dayofweek  \n",
       "0             4  \n",
       "1             4  \n",
       "2             4  \n",
       "3             4  \n",
       "4             4  \n",
       "...         ...  \n",
       "1681          3  \n",
       "1682          3  \n",
       "1683          3  \n",
       "1684          3  \n",
       "1685          3  \n",
       "\n",
       "[1686 rows x 44 columns]"
      ]
     },
     "execution_count": 4,
     "metadata": {},
     "output_type": "execute_result"
    }
   ],
   "source": [
    "enc = OneHotEncoder()\n",
    "encoded_data = enc.fit_transform(df[['uid', 'labname']]).toarray()\n",
    "names = enc.get_feature_names_out(['uid', 'labname'])\n",
    "encoded_data = pd.DataFrame(encoded_data, columns=names)\n",
    "df = pd.concat([encoded_data, df],  axis=1)\n",
    "df = df.drop(columns=['uid', 'labname'])\n",
    "df"
   ]
  },
  {
   "cell_type": "code",
   "execution_count": 5,
   "id": "cc9f182d",
   "metadata": {},
   "outputs": [],
   "source": [
    "df.to_csv('../data/dayofweek.csv')"
   ]
  },
  {
   "cell_type": "code",
   "execution_count": 6,
   "id": "a6ee1f2c",
   "metadata": {},
   "outputs": [
    {
     "data": {
      "text/plain": [
       "dayofweek\n",
       "3    396\n",
       "Name: count, dtype: int64"
      ]
     },
     "execution_count": 6,
     "metadata": {},
     "output_type": "execute_result"
    }
   ],
   "source": [
    "df['dayofweek'].value_counts().sort_values().tail(1)"
   ]
  },
  {
   "cell_type": "code",
   "execution_count": 7,
   "id": "650a8adc",
   "metadata": {},
   "outputs": [
    {
     "data": {
      "text/plain": [
       "0.23487544483985764"
      ]
     },
     "execution_count": 7,
     "metadata": {},
     "output_type": "execute_result"
    }
   ],
   "source": [
    "accuracy_score(df['dayofweek'], [3]*df.shape[0])"
   ]
  },
  {
   "cell_type": "markdown",
   "id": "bec8bc3a",
   "metadata": {},
   "source": [
    "## 2. Algorithms"
   ]
  },
  {
   "cell_type": "markdown",
   "id": "b2db5c01",
   "metadata": {},
   "source": [
    "### a. Logreg"
   ]
  },
  {
   "cell_type": "markdown",
   "id": "c1271472",
   "metadata": {},
   "source": [
    "1. Train logistic regression, for the baseline model use `random_state=21`, `fit_intercept=False`. \n",
    "2. Calculate the accuracy.\n",
    "3. Write a function that draws the plot (`barh`) taking coefficients of any trained models, names of the features and the number of `top-n` most important features to display.\n",
    "4. Draw a plot (`barh`) for the baseline model with top-10 most important features (absolute value) for the trained model.\n",
    "5. Remember that it is a multiclass classification and `coef_` returns a matrix, to calculate importance for a feature you need to sum all the individual feature importances for all the target values."
   ]
  },
  {
   "cell_type": "code",
   "execution_count": 8,
   "id": "8fa4fca3",
   "metadata": {},
   "outputs": [
    {
     "name": "stderr",
     "output_type": "stream",
     "text": [
      "/home/varvara/.local/lib/python3.10/site-packages/sklearn/linear_model/_logistic.py:1296: FutureWarning: Using the 'liblinear' solver for multiclass classification is deprecated. An error will be raised in 1.8. Either use another solver which supports the multinomial loss or wrap the estimator in a OneVsRestClassifier to keep applying a one-versus-rest scheme.\n",
      "  warnings.warn(\n"
     ]
    },
    {
     "data": {
      "text/plain": [
       "0.6215895610913404"
      ]
     },
     "execution_count": 8,
     "metadata": {},
     "output_type": "execute_result"
    }
   ],
   "source": [
    "X = df.drop(columns=['dayofweek'])\n",
    "y = df['dayofweek']\n",
    "logreg = LogisticRegression(random_state=21, fit_intercept=False, solver='liblinear').fit(X, y)\n",
    "y_logreg = logreg.predict(X)\n",
    "accuracy_score(y, y_logreg)"
   ]
  },
  {
   "cell_type": "code",
   "execution_count": 9,
   "id": "f369e0f8",
   "metadata": {},
   "outputs": [],
   "source": [
    "coefs = logreg.coef_\n",
    "column_names = X.columns"
   ]
  },
  {
   "cell_type": "code",
   "execution_count": 10,
   "id": "58a838da",
   "metadata": {},
   "outputs": [
    {
     "data": {
      "image/png": "[encoded data removed]",
      "text/plain": [
       "<Figure size 1500x800 with 1 Axes>"
      ]
     },
     "metadata": {},
     "output_type": "display_data"
    }
   ],
   "source": [
    "def draw_plot(coefs, column_names, n=10):\n",
    "    coefs = pd.DataFrame(coefs).apply(lambda x: abs(x))\n",
    "    top_n = coefs.sum(axis=0).sort_values(ascending=False).head(n)\n",
    "    fig = plt.figure(figsize=(15, 8))\n",
    "    plt.barh(top_n.index.map(lambda x: column_names[x]), top_n.values, color='c')\n",
    "    plt.suptitle(f'Top-{n} features')\n",
    "    plt.xlabel('score sum')\n",
    "    plt.tight_layout()\n",
    "    plt.show()\n",
    "\n",
    "draw_plot(coefs, column_names)"
   ]
  },
  {
   "cell_type": "markdown",
   "id": "f052c1e1",
   "metadata": {},
   "source": [
    "### b. SVC"
   ]
  },
  {
   "cell_type": "markdown",
   "id": "494f1d4b",
   "metadata": {},
   "source": [
    "1. Train a `SVC` model, for the baseline model use parameters `kernel='linear'`, `probability=True`, `random_state=21`. \n",
    "2. Try different kernels, calculate the accuracies.\n",
    "3. Draw a plot (`barh`) for the baseline model with top-10 most important features (absolute value) for the trained model for the linear kernel *\n",
    "\n",
    "*By default SVC uses “one vs one” strategy of the classification, thus in `coef_` it returns a matrix. To calculate importance for a feature you need to use [OneVsRestClassifier](https://scikit-learn.org/stable/modules/generated/sklearn.multiclass.OneVsRestClassifier.html) over the SVC and sum all the individual feature importances for all the target values."
   ]
  },
  {
   "cell_type": "code",
   "execution_count": 122,
   "id": "35d7de29",
   "metadata": {},
   "outputs": [
    {
     "data": {
      "text/plain": [
       "0.702846975088968"
      ]
     },
     "execution_count": 122,
     "metadata": {},
     "output_type": "execute_result"
    }
   ],
   "source": [
    "svc = SVC(kernel='linear', probability=True, random_state=21).fit(X, y)\n",
    "y_svc = svc.predict(X)\n",
    "accuracy_score(y, y_svc)"
   ]
  },
  {
   "cell_type": "code",
   "execution_count": 133,
   "id": "30596b82",
   "metadata": {},
   "outputs": [
    {
     "name": "stdout",
     "output_type": "stream",
     "text": [
      "kernel : linear, accuracy : 0.702846975088968\n",
      "kernel : poly, accuracy : 0.8594306049822064\n",
      "kernel : rbf, accuracy : 0.8558718861209964\n",
      "kernel : sigmoid, accuracy : 0.3997627520759193\n"
     ]
    }
   ],
   "source": [
    "kernels = ['linear', 'poly', 'rbf', 'sigmoid']\n",
    "for kernel_ in kernels:\n",
    "    svc_1 = SVC(kernel=kernel_, probability=True, random_state=21).fit(X, y)\n",
    "    accuracy = accuracy_score(y, svc_1.predict(X))\n",
    "    print(f\"kernel : {kernel_}, accuracy : {accuracy}\")"
   ]
  },
  {
   "cell_type": "code",
   "execution_count": null,
   "id": "11572560",
   "metadata": {},
   "outputs": [],
   "source": [
    "clf = OneVsRestClassifier(svc).fit(X, y)"
   ]
  },
  {
   "cell_type": "code",
   "execution_count": 132,
   "id": "258f5156",
   "metadata": {},
   "outputs": [
    {
     "data": {
      "image/png": "[encoded data removed]",
      "text/plain": [
       "<Figure size 1500x800 with 1 Axes>"
      ]
     },
     "metadata": {},
     "output_type": "display_data"
    }
   ],
   "source": [
    "coefs = np.array([estimator.coef_ for estimator in clf.estimators_]).reshape(7, 43)\n",
    "draw_plot(coefs, column_names)"
   ]
  },
  {
   "cell_type": "markdown",
   "id": "901e536f",
   "metadata": {},
   "source": [
    "### c. Decision tree"
   ]
  },
  {
   "cell_type": "markdown",
   "id": "4cc7e10e",
   "metadata": {},
   "source": [
    "1. Train a `DecisionTreeClassifier` using for the baseline model `max_depth=4`, `random_state=21`. \n",
    "2. Try different values of `max_depth`, calculate the accuracies.\n",
    "3. Draw a plot (`barh`) for the baseline model with top-10 most important features (absolute value) for the trained model using the written function."
   ]
  },
  {
   "cell_type": "code",
   "execution_count": 135,
   "id": "92d3defb",
   "metadata": {},
   "outputs": [
    {
     "data": {
      "text/plain": [
       "0.5516014234875445"
      ]
     },
     "execution_count": 135,
     "metadata": {},
     "output_type": "execute_result"
    }
   ],
   "source": [
    "tree = DecisionTreeClassifier(max_depth=4, random_state=21).fit(X, y)\n",
    "y_tree = tree.predict(X)\n",
    "accuracy_score(y, y_tree)"
   ]
  },
  {
   "cell_type": "code",
   "execution_count": 141,
   "id": "c7f8a019",
   "metadata": {},
   "outputs": [
    {
     "name": "stdout",
     "output_type": "stream",
     "text": [
      "max_depth : 2, accuracy : 0.4389086595492289\n",
      "max_depth : 4, accuracy : 0.5516014234875445\n",
      "max_depth : 6, accuracy : 0.6637010676156584\n",
      "max_depth : 8, accuracy : 0.7502965599051008\n",
      "max_depth : 10, accuracy : 0.8196915776986952\n",
      "max_depth : 12, accuracy : 0.8831553973902728\n",
      "max_depth : 14, accuracy : 0.9317912218268091\n",
      "max_depth : 16, accuracy : 0.9608540925266904\n",
      "max_depth : 18, accuracy : 0.9798339264531435\n",
      "max_depth : 20, accuracy : 0.9869513641755635\n",
      "max_depth : 22, accuracy : 0.9922894424673784\n",
      "max_depth : 24, accuracy : 0.9958481613285883\n",
      "max_depth : 26, accuracy : 0.9988137603795967\n",
      "max_depth : 28, accuracy : 1.0\n"
     ]
    }
   ],
   "source": [
    "for md in range(2, 30, 2):\n",
    "    tree_1 = DecisionTreeClassifier(max_depth=md, random_state=21).fit(X, y)\n",
    "    accuracy = accuracy_score(y, tree_1.predict(X))\n",
    "    print(f\"max_depth : {md}, accuracy : {accuracy}\")"
   ]
  },
  {
   "cell_type": "code",
   "execution_count": 148,
   "id": "ea22755d",
   "metadata": {},
   "outputs": [
    {
     "data": {
      "image/png": "[encoded data removed]",
      "text/plain": [
       "<Figure size 1500x800 with 1 Axes>"
      ]
     },
     "metadata": {},
     "output_type": "display_data"
    }
   ],
   "source": [
    "coefs = pd.DataFrame(tree.feature_importances_).T\n",
    "draw_plot(coefs, column_names)"
   ]
  },
  {
   "cell_type": "markdown",
   "id": "0767992c",
   "metadata": {},
   "source": [
    "### d. Random forest"
   ]
  },
  {
   "cell_type": "markdown",
   "id": "bd72ffd1",
   "metadata": {},
   "source": [
    "In real life forest is a set of trees. The same thing is with machine learning. Random forest is a set of individual decision trees (check the documentation for more details).\n",
    "\n",
    "1. Train a `RandomForestClassifier` using for the baseline model parameters `n_estimators=100`, `max_depth = 25`, `random_state=21`. \n",
    "2. Try different values of `max_depth` and `n_estimators`, calculate the accuracies.\n",
    "3. Draw a plot (`barh`) for the baseline model with top-10 most important features (absolute value) for the trained model using the written function."
   ]
  },
  {
   "cell_type": "code",
   "execution_count": 151,
   "id": "431af39f",
   "metadata": {},
   "outputs": [
    {
     "data": {
      "text/plain": [
       "0.9988137603795967"
      ]
     },
     "execution_count": 151,
     "metadata": {},
     "output_type": "execute_result"
    }
   ],
   "source": [
    "rf = RandomForestClassifier(n_estimators=100, max_depth=25, random_state=21).fit(X, y)\n",
    "y_rf = rf.predict(X)\n",
    "accuracy_score(y, y_rf)"
   ]
  },
  {
   "cell_type": "code",
   "execution_count": 155,
   "id": "ac64dc73",
   "metadata": {},
   "outputs": [
    {
     "name": "stdout",
     "output_type": "stream",
     "text": [
      "max_depth : 10, n_estimators : 50, accuracy : 0.8795966785290629\n",
      "max_depth : 10, n_estimators : 100, accuracy : 0.8701067615658363\n",
      "max_depth : 10, n_estimators : 150, accuracy : 0.8623962040332147\n",
      "max_depth : 15, n_estimators : 50, accuracy : 0.9798339264531435\n",
      "max_depth : 15, n_estimators : 100, accuracy : 0.9804270462633452\n",
      "max_depth : 15, n_estimators : 150, accuracy : 0.9804270462633452\n",
      "max_depth : 20, n_estimators : 50, accuracy : 0.9976275207591934\n",
      "max_depth : 20, n_estimators : 100, accuracy : 0.9976275207591934\n",
      "max_depth : 20, n_estimators : 150, accuracy : 0.99644128113879\n",
      "max_depth : 25, n_estimators : 50, accuracy : 0.9994068801897983\n",
      "max_depth : 25, n_estimators : 100, accuracy : 0.9988137603795967\n",
      "max_depth : 25, n_estimators : 150, accuracy : 0.9994068801897983\n",
      "max_depth : 30, n_estimators : 50, accuracy : 1.0\n",
      "max_depth : 30, n_estimators : 100, accuracy : 1.0\n",
      "max_depth : 30, n_estimators : 150, accuracy : 1.0\n"
     ]
    }
   ],
   "source": [
    "for md in range(10, 35, 5):\n",
    "        for n_e in range(50, 200, 50):\n",
    "            rf_1 = RandomForestClassifier(n_estimators=n_e, max_depth=md, random_state=21).fit(X, y)\n",
    "            accuracy = accuracy_score(y, rf_1.predict(X))\n",
    "            print(f\"max_depth : {md}, n_estimators : {n_e}, accuracy : {accuracy}\")"
   ]
  },
  {
   "cell_type": "code",
   "execution_count": 159,
   "id": "1a4fcd29",
   "metadata": {},
   "outputs": [
    {
     "data": {
      "image/png": "[encoded data removed]",
      "text/plain": [
       "<Figure size 1500x800 with 1 Axes>"
      ]
     },
     "metadata": {},
     "output_type": "display_data"
    }
   ],
   "source": [
    "coefs = pd.DataFrame(rf.feature_importances_).T\n",
    "draw_plot(coefs, column_names)"
   ]
  },
  {
   "cell_type": "code",
   "execution_count": null,
   "id": "45a3497a",
   "metadata": {},
   "outputs": [],
   "source": []
  }
 ],
 "metadata": {
  "kernelspec": {
   "display_name": "Python 3",
   "language": "python",
   "name": "python3"
  },
  "language_info": {
   "codemirror_mode": {
    "name": "ipython",
    "version": 3
   },
   "file_extension": ".py",
   "mimetype": "text/x-python",
   "name": "python",
   "nbconvert_exporter": "python",
   "pygments_lexer": "ipython3",
   "version": "3.10.12"
  }
 },
 "nbformat": 4,
 "nbformat_minor": 5
}
