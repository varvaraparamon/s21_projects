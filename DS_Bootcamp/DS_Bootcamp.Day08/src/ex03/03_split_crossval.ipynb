{
  "cells": [
    {
      "cell_type": "markdown",
      "metadata": {
        "id": "-2JxueqiQ2tW"
      },
      "source": [
        "# Day 08. Exercise 03\n",
        "# Overfitting"
      ]
    },
    {
      "cell_type": "markdown",
      "metadata": {
        "id": "m-HYEdgzQ2tc"
      },
      "source": [
        "## 0. Imports"
      ]
    },
    {
      "cell_type": "code",
      "execution_count": 27,
      "metadata": {
        "id": "2vGB7MFjQ2td"
      },
      "outputs": [],
      "source": [
        "import numpy as np\n",
        "import pandas as pd\n",
        "import matplotlib.pyplot as plt\n",
        "from sklearn.model_selection import train_test_split\n",
        "from sklearn.model_selection import cross_val_score\n",
        "from sklearn.model_selection import GridSearchCV\n",
        "from sklearn.metrics import accuracy_score\n",
        "from sklearn.linear_model import LogisticRegression\n",
        "from sklearn.svm import SVC\n",
        "from sklearn.tree import DecisionTreeClassifier\n",
        "from sklearn.ensemble import RandomForestClassifier\n"
      ]
    },
    {
      "cell_type": "markdown",
      "metadata": {
        "id": "1B-UnpFiQ2te"
      },
      "source": [
        "## 1. Preprocessing"
      ]
    },
    {
      "cell_type": "markdown",
      "metadata": {
        "id": "H56SvOz9Q2tf"
      },
      "source": [
        "1. Read the file `dayofweek.csv` to a dataframe.\n",
        "2. Using `train_test_split` with parameters `test_size=0.2`, `random_state=21` get `X_train`, `y_train`, `X_test`, `y_test`.\n",
        "3. Using, for example, `value_counts()` to check if the distribution of classes is similar in train and test.\n",
        "4. Use the additional parameter `stratify=` and check the distribution again, now it should be more or less similar in both datasets."
      ]
    },
    {
      "cell_type": "code",
      "execution_count": 2,
      "metadata": {
        "id": "huY8ncESQ2tg"
      },
      "outputs": [],
      "source": [
        "df = pd.read_csv(\"../data/dayofweek.csv\", index_col=0)\n",
        "X = df.drop(columns=['dayofweek'])\n",
        "y = df[\"dayofweek\"]\n",
        "X_train, X_test, y_train, y_test = train_test_split(X, y, test_size=0.2, random_state=21)"
      ]
    },
    {
      "cell_type": "code",
      "execution_count": 3,
      "metadata": {
        "id": "CzvMJKOsQ2tg"
      },
      "outputs": [
        {
          "data": {
            "text/plain": [
              "(dayofweek\n",
              " 3    313\n",
              " 6    287\n",
              " 1    222\n",
              " 5    216\n",
              " 2    125\n",
              " 0    105\n",
              " 4     80\n",
              " Name: count, dtype: int64,\n",
              " dayofweek\n",
              " 3    83\n",
              " 6    69\n",
              " 5    55\n",
              " 1    52\n",
              " 0    31\n",
              " 4    24\n",
              " 2    24\n",
              " Name: count, dtype: int64)"
            ]
          },
          "execution_count": 3,
          "metadata": {},
          "output_type": "execute_result"
        }
      ],
      "source": [
        "y_train.value_counts(), y_test.value_counts()"
      ]
    },
    {
      "cell_type": "code",
      "execution_count": 4,
      "metadata": {
        "id": "Ui2ZfVx0Q2th"
      },
      "outputs": [],
      "source": [
        "X_train, X_test, y_train, y_test = train_test_split(X, y, test_size=0.2, random_state=21, stratify=y)"
      ]
    },
    {
      "cell_type": "code",
      "execution_count": 5,
      "metadata": {
        "id": "hWqfvNPlQ2th"
      },
      "outputs": [
        {
          "data": {
            "text/plain": [
              "(dayofweek\n",
              " 3    316\n",
              " 6    285\n",
              " 1    219\n",
              " 5    217\n",
              " 2    119\n",
              " 0    109\n",
              " 4     83\n",
              " Name: count, dtype: int64,\n",
              " dayofweek\n",
              " 3    80\n",
              " 6    71\n",
              " 1    55\n",
              " 5    54\n",
              " 2    30\n",
              " 0    27\n",
              " 4    21\n",
              " Name: count, dtype: int64)"
            ]
          },
          "execution_count": 5,
          "metadata": {},
          "output_type": "execute_result"
        }
      ],
      "source": [
        "y_train.value_counts(), y_test.value_counts()"
      ]
    },
    {
      "cell_type": "markdown",
      "metadata": {
        "id": "bYJVIs12Q2tk"
      },
      "source": [
        "## 2. Baseline models"
      ]
    },
    {
      "cell_type": "markdown",
      "metadata": {
        "id": "u7Ay8yIbQ2tk"
      },
      "source": [
        "1. Train exactly the same baseline models from the previous exercise and calculate the accuracies using the test dataset with stratification.\n",
        "2. Did all the models show the similar values of the metric? Which one has the largest difference comparing the current exercise and the previous? Put the answer to the markdown cell in the end of the section."
      ]
    },
    {
      "cell_type": "markdown",
      "metadata": {
        "id": "YZBPOrP8Q2tl"
      },
      "source": [
        "### a. Logreg"
      ]
    },
    {
      "cell_type": "code",
      "execution_count": 6,
      "metadata": {
        "id": "uJDDiKWPQ2tm"
      },
      "outputs": [
        {
          "name": "stderr",
          "output_type": "stream",
          "text": [
            "/home/varvara/.local/lib/python3.10/site-packages/sklearn/linear_model/_logistic.py:1296: FutureWarning: Using the 'liblinear' solver for multiclass classification is deprecated. An error will be raised in 1.8. Either use another solver which supports the multinomial loss or wrap the estimator in a OneVsRestClassifier to keep applying a one-versus-rest scheme.\n",
            "  warnings.warn(\n"
          ]
        },
        {
          "data": {
            "text/plain": [
              "0.6153846153846154"
            ]
          },
          "execution_count": 6,
          "metadata": {},
          "output_type": "execute_result"
        }
      ],
      "source": [
        "logreg = LogisticRegression(random_state=21, fit_intercept=False, solver='liblinear').fit(X_train, y_train)\n",
        "y_logreg = logreg.predict(X_test)\n",
        "accuracy_score(y_test, y_logreg)"
      ]
    },
    {
      "cell_type": "markdown",
      "metadata": {
        "id": "QVLnyKoeQ2tm"
      },
      "source": [
        "### b. SVM"
      ]
    },
    {
      "cell_type": "code",
      "execution_count": 7,
      "metadata": {
        "id": "QemtizcIQ2tm"
      },
      "outputs": [
        {
          "data": {
            "text/plain": [
              "0.7159763313609467"
            ]
          },
          "execution_count": 7,
          "metadata": {},
          "output_type": "execute_result"
        }
      ],
      "source": [
        "svc = SVC(kernel='linear', probability=True, random_state=21).fit(X_train, y_train)\n",
        "y_svc = svc.predict(X_test)\n",
        "accuracy_score(y_test, y_svc)"
      ]
    },
    {
      "cell_type": "markdown",
      "metadata": {
        "id": "bNR1HkeOQ2tm"
      },
      "source": [
        "### c. Decision tree"
      ]
    },
    {
      "cell_type": "code",
      "execution_count": 8,
      "metadata": {
        "id": "KkCLEniRQ2tn"
      },
      "outputs": [
        {
          "data": {
            "text/plain": [
              "0.5295857988165681"
            ]
          },
          "execution_count": 8,
          "metadata": {},
          "output_type": "execute_result"
        }
      ],
      "source": [
        "tree = DecisionTreeClassifier(max_depth=4, random_state=21).fit(X_train, y_train)\n",
        "y_tree = tree.predict(X_test)\n",
        "accuracy_score(y_test, y_tree)"
      ]
    },
    {
      "cell_type": "markdown",
      "metadata": {
        "id": "Ngk4Cp2iQ2tn"
      },
      "source": [
        "### d. Random forest"
      ]
    },
    {
      "cell_type": "code",
      "execution_count": 9,
      "metadata": {
        "id": "GkNkosn_Q2tn"
      },
      "outputs": [
        {
          "data": {
            "text/plain": [
              "0.9319526627218935"
            ]
          },
          "execution_count": 9,
          "metadata": {},
          "output_type": "execute_result"
        }
      ],
      "source": [
        "rf = RandomForestClassifier(n_estimators=100, max_depth=25, random_state=21).fit(X_train, y_train)\n",
        "y_rf = rf.predict(X_test)\n",
        "accuracy_score(y_test, y_rf)"
      ]
    },
    {
      "cell_type": "markdown",
      "metadata": {
        "id": "d1h33_J8Q2tn"
      },
      "source": [
        "больше всего изменился accuracy у random forest"
      ]
    },
    {
      "cell_type": "markdown",
      "metadata": {
        "id": "w9J2yvY9Q2to"
      },
      "source": [
        "## 3. Crossvalidation"
      ]
    },
    {
      "cell_type": "markdown",
      "metadata": {
        "id": "NgIN8sYwQ2to"
      },
      "source": [
        "We could play with parameters of the model trying to achive a better accuracy on the test dataset, but it is a bad practice. It leads us again to overfitting. Test dataset is only for checking quality of a final model.\n",
        "\n",
        "But there is another way of solving the problem – crossvalidation. It does not use test dataset, but creates one more split of train dataset. Again, there are different ways of doing it, but the common thing is that there is a validation dataset that is used for hyperparameters optimization."
      ]
    },
    {
      "cell_type": "markdown",
      "metadata": {
        "id": "kCKQIFa2Q2tp"
      },
      "source": [
        "1. Using `cross_val_score` with `cv=10` calculate the mean accuracy and standard deviation for every model that you used before (logreg with `solver='liblinear'`, SVC, decision tree, random forest)."
      ]
    },
    {
      "cell_type": "markdown",
      "metadata": {
        "id": "XGda0MF4Q2tp"
      },
      "source": [
        "### a. Logreg"
      ]
    },
    {
      "cell_type": "code",
      "execution_count": 10,
      "metadata": {
        "id": "-07WM0xHQ2tp"
      },
      "outputs": [
        {
          "name": "stderr",
          "output_type": "stream",
          "text": [
            "/home/varvara/.local/lib/python3.10/site-packages/sklearn/linear_model/_logistic.py:1296: FutureWarning: Using the 'liblinear' solver for multiclass classification is deprecated. An error will be raised in 1.8. Either use another solver which supports the multinomial loss or wrap the estimator in a OneVsRestClassifier to keep applying a one-versus-rest scheme.\n",
            "  warnings.warn(\n",
            "/home/varvara/.local/lib/python3.10/site-packages/sklearn/linear_model/_logistic.py:1296: FutureWarning: Using the 'liblinear' solver for multiclass classification is deprecated. An error will be raised in 1.8. Either use another solver which supports the multinomial loss or wrap the estimator in a OneVsRestClassifier to keep applying a one-versus-rest scheme.\n",
            "  warnings.warn(\n",
            "/home/varvara/.local/lib/python3.10/site-packages/sklearn/linear_model/_logistic.py:1296: FutureWarning: Using the 'liblinear' solver for multiclass classification is deprecated. An error will be raised in 1.8. Either use another solver which supports the multinomial loss or wrap the estimator in a OneVsRestClassifier to keep applying a one-versus-rest scheme.\n",
            "  warnings.warn(\n",
            "/home/varvara/.local/lib/python3.10/site-packages/sklearn/linear_model/_logistic.py:1296: FutureWarning: Using the 'liblinear' solver for multiclass classification is deprecated. An error will be raised in 1.8. Either use another solver which supports the multinomial loss or wrap the estimator in a OneVsRestClassifier to keep applying a one-versus-rest scheme.\n",
            "  warnings.warn(\n",
            "/home/varvara/.local/lib/python3.10/site-packages/sklearn/linear_model/_logistic.py:1296: FutureWarning: Using the 'liblinear' solver for multiclass classification is deprecated. An error will be raised in 1.8. Either use another solver which supports the multinomial loss or wrap the estimator in a OneVsRestClassifier to keep applying a one-versus-rest scheme.\n",
            "  warnings.warn(\n",
            "/home/varvara/.local/lib/python3.10/site-packages/sklearn/linear_model/_logistic.py:1296: FutureWarning: Using the 'liblinear' solver for multiclass classification is deprecated. An error will be raised in 1.8. Either use another solver which supports the multinomial loss or wrap the estimator in a OneVsRestClassifier to keep applying a one-versus-rest scheme.\n",
            "  warnings.warn(\n",
            "/home/varvara/.local/lib/python3.10/site-packages/sklearn/linear_model/_logistic.py:1296: FutureWarning: Using the 'liblinear' solver for multiclass classification is deprecated. An error will be raised in 1.8. Either use another solver which supports the multinomial loss or wrap the estimator in a OneVsRestClassifier to keep applying a one-versus-rest scheme.\n",
            "  warnings.warn(\n",
            "/home/varvara/.local/lib/python3.10/site-packages/sklearn/linear_model/_logistic.py:1296: FutureWarning: Using the 'liblinear' solver for multiclass classification is deprecated. An error will be raised in 1.8. Either use another solver which supports the multinomial loss or wrap the estimator in a OneVsRestClassifier to keep applying a one-versus-rest scheme.\n",
            "  warnings.warn(\n",
            "/home/varvara/.local/lib/python3.10/site-packages/sklearn/linear_model/_logistic.py:1296: FutureWarning: Using the 'liblinear' solver for multiclass classification is deprecated. An error will be raised in 1.8. Either use another solver which supports the multinomial loss or wrap the estimator in a OneVsRestClassifier to keep applying a one-versus-rest scheme.\n",
            "  warnings.warn(\n",
            "/home/varvara/.local/lib/python3.10/site-packages/sklearn/linear_model/_logistic.py:1296: FutureWarning: Using the 'liblinear' solver for multiclass classification is deprecated. An error will be raised in 1.8. Either use another solver which supports the multinomial loss or wrap the estimator in a OneVsRestClassifier to keep applying a one-versus-rest scheme.\n",
            "  warnings.warn(\n"
          ]
        },
        {
          "data": {
            "text/plain": [
              "(np.float64(0.5815975677169707), np.float64(0.025322132907253592))"
            ]
          },
          "execution_count": 10,
          "metadata": {},
          "output_type": "execute_result"
        }
      ],
      "source": [
        "logreg = LogisticRegression(random_state=21, fit_intercept=False, solver='liblinear')\n",
        "cv_score = cross_val_score(logreg, X_train, y_train, cv=10)\n",
        "cv_score.mean(), cv_score.std()"
      ]
    },
    {
      "cell_type": "markdown",
      "metadata": {
        "id": "7loZOC6MQ2tp"
      },
      "source": [
        "### b. SVM"
      ]
    },
    {
      "cell_type": "code",
      "execution_count": 11,
      "metadata": {
        "id": "iV-AVBIrQ2tq"
      },
      "outputs": [
        {
          "data": {
            "text/plain": [
              "(np.float64(0.6587064676616916), np.float64(0.043585708770590564))"
            ]
          },
          "execution_count": 11,
          "metadata": {},
          "output_type": "execute_result"
        }
      ],
      "source": [
        "svc = SVC(kernel='linear', probability=True, random_state=21)\n",
        "cv_score = cross_val_score(svc, X_train, y_train, cv=10)\n",
        "cv_score.mean(), cv_score.std()"
      ]
    },
    {
      "cell_type": "markdown",
      "metadata": {
        "id": "rCtlMRpRQ2tq"
      },
      "source": [
        "### c. Decision tree"
      ]
    },
    {
      "cell_type": "code",
      "execution_count": 12,
      "metadata": {
        "id": "sUd1f1d2Q2tq"
      },
      "outputs": [
        {
          "data": {
            "text/plain": [
              "(np.float64(0.5088944168048645), np.float64(0.031903139495514356))"
            ]
          },
          "execution_count": 12,
          "metadata": {},
          "output_type": "execute_result"
        }
      ],
      "source": [
        "tree = DecisionTreeClassifier(max_depth=4, random_state=21)\n",
        "cv_score = cross_val_score(tree, X_train, y_train, cv=10)\n",
        "cv_score.mean(), cv_score.std()"
      ]
    },
    {
      "cell_type": "markdown",
      "metadata": {
        "id": "6U-xZiNhQ2tz"
      },
      "source": [
        "### d. Random forest"
      ]
    },
    {
      "cell_type": "code",
      "execution_count": 13,
      "metadata": {
        "id": "9i71Ws2QQ2t0"
      },
      "outputs": [
        {
          "data": {
            "text/plain": [
              "(np.float64(0.9117191818684356), np.float64(0.017368532539708048))"
            ]
          },
          "execution_count": 13,
          "metadata": {},
          "output_type": "execute_result"
        }
      ],
      "source": [
        "rf = RandomForestClassifier(n_estimators=100, max_depth=25, random_state=21)\n",
        "cv_score = cross_val_score(rf, X_train, y_train, cv=10)\n",
        "cv_score.mean(), cv_score.std()"
      ]
    },
    {
      "cell_type": "markdown",
      "metadata": {
        "id": "ZxPlSfQMQ2t0"
      },
      "source": [
        "## 4. Optimization"
      ]
    },
    {
      "cell_type": "markdown",
      "metadata": {
        "id": "zNbezbYCQ2t0"
      },
      "source": [
        "1. Choose the best model and play a little bit with the parameters on cross-validation, find a good enough parameter or a combination of the parameters.\n",
        "2. Calculate the accuracy for the final model on the test dataset.\n",
        "3. Draw a plot that displays the top-10 most  important features for that model.\n",
        "4. Save the model using `joblib`.\n",
        "5. Load the model, make predictions for the test dataset and calculate the accuracy."
      ]
    },
    {
      "cell_type": "code",
      "execution_count": 28,
      "metadata": {
        "id": "klg586WlQ2t0"
      },
      "outputs": [
        {
          "data": {
            "text/plain": [
              "(np.float64(0.9176506357103372), {'max_depth': 30, 'n_estimators': 100})"
            ]
          },
          "execution_count": 28,
          "metadata": {},
          "output_type": "execute_result"
        }
      ],
      "source": [
        "rf = RandomForestClassifier(random_state=21)\n",
        "\n",
        "param_grid = {\n",
        "    'n_estimators': [50, 100, 200],\n",
        "    'max_depth': [10, 20, 30]\n",
        "}\n",
        "\n",
        "grid_search = GridSearchCV(estimator=rf, param_grid=param_grid, cv=10).fit(X_train, y_train)\n",
        "grid_search.best_score_, grid_search.best_params_"
      ]
    },
    {
      "cell_type": "code",
      "execution_count": 30,
      "metadata": {
        "id": "WTSBtjfzQ2t0"
      },
      "outputs": [
        {
          "data": {
            "text/plain": [
              "0.9349112426035503"
            ]
          },
          "execution_count": 30,
          "metadata": {},
          "output_type": "execute_result"
        }
      ],
      "source": [
        "rf = RandomForestClassifier(n_estimators=100, max_depth=30, random_state=21).fit(X_train, y_train)\n",
        "y_rf = rf.predict(X_test)\n",
        "accuracy_score(y_test, y_rf)"
      ]
    },
    {
      "cell_type": "code",
      "execution_count": 35,
      "metadata": {
        "id": "HM3J90f7Q2t1"
      },
      "outputs": [],
      "source": [
        "def draw_plot(coefs, column_names, n=10):\n",
        "    coefs = pd.DataFrame(coefs).apply(lambda x: abs(x))\n",
        "    top_n = coefs.sum(axis=0).sort_values(ascending=False).head(n)\n",
        "    fig = plt.figure(figsize=(15, 8))\n",
        "    plt.barh(top_n.index.map(lambda x: column_names[x]), top_n.values, color='c')\n",
        "    plt.suptitle(f'Top-{n} features')\n",
        "    plt.xlabel('score sum')\n",
        "    plt.tight_layout()\n",
        "    plt.show()\n"
      ]
    },
    {
      "cell_type": "code",
      "execution_count": 36,
      "metadata": {
        "id": "DIloo7HWQ2t1"
      },
      "outputs": [
        {
          "data": {
            "image/png": "[encoded data removed]",
            "text/plain": [
              "<Figure size 1500x800 with 1 Axes>"
            ]
          },
          "metadata": {},
          "output_type": "display_data"
        }
      ],
      "source": [
        "coefs = pd.DataFrame(rf.feature_importances_).T\n",
        "column_names = X.columns\n",
        "draw_plot(coefs, column_names)"
      ]
    },
    {
      "cell_type": "code",
      "execution_count": 38,
      "metadata": {
        "id": "o6txIMvfQ2t1"
      },
      "outputs": [
        {
          "data": {
            "text/plain": [
              "['model.joblib']"
            ]
          },
          "execution_count": 38,
          "metadata": {},
          "output_type": "execute_result"
        }
      ],
      "source": [
        "from joblib import dump, load\n",
        "dump(rf, 'model.joblib', compress=9)"
      ]
    },
    {
      "cell_type": "code",
      "execution_count": 39,
      "metadata": {
        "id": "gvq5GovgQ2t1"
      },
      "outputs": [],
      "source": [
        "rf = load('model.joblib')"
      ]
    },
    {
      "cell_type": "code",
      "execution_count": 40,
      "metadata": {
        "id": "PqW9pUawQ2t1"
      },
      "outputs": [
        {
          "data": {
            "text/plain": [
              "0.9349112426035503"
            ]
          },
          "execution_count": 40,
          "metadata": {},
          "output_type": "execute_result"
        }
      ],
      "source": [
        "y_rf = rf.predict(X_test)\n",
        "accuracy_score(y_test, y_rf)"
      ]
    }
  ],
  "metadata": {
    "colab": {
      "provenance": []
    },
    "kernelspec": {
      "display_name": "Python 3",
      "language": "python",
      "name": "python3"
    },
    "language_info": {
      "codemirror_mode": {
        "name": "ipython",
        "version": 3
      },
      "file_extension": ".py",
      "mimetype": "text/x-python",
      "name": "python",
      "nbconvert_exporter": "python",
      "pygments_lexer": "ipython3",
      "version": "3.10.12"
    }
  },
  "nbformat": 4,
  "nbformat_minor": 0
}
