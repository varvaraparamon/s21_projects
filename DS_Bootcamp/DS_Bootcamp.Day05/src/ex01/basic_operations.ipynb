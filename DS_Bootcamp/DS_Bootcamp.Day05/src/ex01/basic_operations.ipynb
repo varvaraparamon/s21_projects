{
 "cells": [
  {
   "cell_type": "code",
   "execution_count": 1,
   "id": "6cf70588",
   "metadata": {},
   "outputs": [],
   "source": [
    "import pandas as pd"
   ]
  },
  {
   "cell_type": "markdown",
   "id": "5d111cba",
   "metadata": {},
   "source": [
    "create a dataframe views with two columns: datetime and user by reading feed-views.log\n",
    "\n",
    "- convert the datetime to the datetime64[ns] Dtype\n",
    "\n",
    "- extract the year, month, day, hour, minute, and second from the values of that\n",
    "column to the new columns"
   ]
  },
  {
   "cell_type": "code",
   "execution_count": 2,
   "id": "b758c426",
   "metadata": {},
   "outputs": [
    {
     "data": {
      "text/html": [
       "<div>\n",
       "<style scoped>\n",
       "    .dataframe tbody tr th:only-of-type {\n",
       "        vertical-align: middle;\n",
       "    }\n",
       "\n",
       "    .dataframe tbody tr th {\n",
       "        vertical-align: top;\n",
       "    }\n",
       "\n",
       "    .dataframe thead th {\n",
       "        text-align: right;\n",
       "    }\n",
       "</style>\n",
       "<table border=\"1\" class=\"dataframe\">\n",
       "  <thead>\n",
       "    <tr style=\"text-align: right;\">\n",
       "      <th></th>\n",
       "      <th>datetime</th>\n",
       "      <th>user</th>\n",
       "    </tr>\n",
       "  </thead>\n",
       "  <tbody>\n",
       "    <tr>\n",
       "      <th>0</th>\n",
       "      <td>2020-04-17 12:01:08.463179</td>\n",
       "      <td>artem</td>\n",
       "    </tr>\n",
       "    <tr>\n",
       "      <th>1</th>\n",
       "      <td>2020-04-17 12:01:23.743946</td>\n",
       "      <td>artem</td>\n",
       "    </tr>\n",
       "    <tr>\n",
       "      <th>2</th>\n",
       "      <td>2020-04-17 12:27:30.646665</td>\n",
       "      <td>artem</td>\n",
       "    </tr>\n",
       "    <tr>\n",
       "      <th>3</th>\n",
       "      <td>2020-04-17 12:35:44.884757</td>\n",
       "      <td>artem</td>\n",
       "    </tr>\n",
       "    <tr>\n",
       "      <th>4</th>\n",
       "      <td>2020-04-17 12:35:52.735016</td>\n",
       "      <td>artem</td>\n",
       "    </tr>\n",
       "  </tbody>\n",
       "</table>\n",
       "</div>"
      ],
      "text/plain": [
       "                     datetime   user\n",
       "0  2020-04-17 12:01:08.463179  artem\n",
       "1  2020-04-17 12:01:23.743946  artem\n",
       "2  2020-04-17 12:27:30.646665  artem\n",
       "3  2020-04-17 12:35:44.884757  artem\n",
       "4  2020-04-17 12:35:52.735016  artem"
      ]
     },
     "execution_count": 2,
     "metadata": {},
     "output_type": "execute_result"
    }
   ],
   "source": [
    "views = pd.read_csv(\"../../data/feed-views.log\", names=[\"datetime\", \"user\"], sep=\"\t\")\n",
    "views.head()"
   ]
  },
  {
   "cell_type": "code",
   "execution_count": 3,
   "id": "3c6f0acf",
   "metadata": {},
   "outputs": [
    {
     "data": {
      "text/plain": [
       "datetime    object\n",
       "user        object\n",
       "dtype: object"
      ]
     },
     "execution_count": 3,
     "metadata": {},
     "output_type": "execute_result"
    }
   ],
   "source": [
    "views.dtypes"
   ]
  },
  {
   "cell_type": "code",
   "execution_count": 4,
   "id": "89e6ff38",
   "metadata": {},
   "outputs": [
    {
     "data": {
      "text/plain": [
       "datetime    datetime64[ns]\n",
       "user                object\n",
       "dtype: object"
      ]
     },
     "execution_count": 4,
     "metadata": {},
     "output_type": "execute_result"
    }
   ],
   "source": [
    "views[\"datetime\"] = pd.to_datetime(views[\"datetime\"])\n",
    "views.dtypes"
   ]
  },
  {
   "cell_type": "code",
   "execution_count": 5,
   "id": "a6cf737d",
   "metadata": {},
   "outputs": [],
   "source": [
    "views[\"year\"] = views[\"datetime\"].dt.year\n",
    "views[\"month\"] = views[\"datetime\"].dt.month\n",
    "views[\"day\"] = views[\"datetime\"].dt.day\n",
    "views[\"hour\"] = views[\"datetime\"].dt.hour\n",
    "views[\"minute\"] = views[\"datetime\"].dt.minute\n",
    "views[\"second\"] = views[\"datetime\"].dt.second"
   ]
  },
  {
   "cell_type": "code",
   "execution_count": 6,
   "id": "1df49d6f",
   "metadata": {},
   "outputs": [
    {
     "data": {
      "text/html": [
       "<div>\n",
       "<style scoped>\n",
       "    .dataframe tbody tr th:only-of-type {\n",
       "        vertical-align: middle;\n",
       "    }\n",
       "\n",
       "    .dataframe tbody tr th {\n",
       "        vertical-align: top;\n",
       "    }\n",
       "\n",
       "    .dataframe thead th {\n",
       "        text-align: right;\n",
       "    }\n",
       "</style>\n",
       "<table border=\"1\" class=\"dataframe\">\n",
       "  <thead>\n",
       "    <tr style=\"text-align: right;\">\n",
       "      <th></th>\n",
       "      <th>datetime</th>\n",
       "      <th>user</th>\n",
       "      <th>year</th>\n",
       "      <th>month</th>\n",
       "      <th>day</th>\n",
       "      <th>hour</th>\n",
       "      <th>minute</th>\n",
       "      <th>second</th>\n",
       "    </tr>\n",
       "  </thead>\n",
       "  <tbody>\n",
       "    <tr>\n",
       "      <th>0</th>\n",
       "      <td>2020-04-17 12:01:08.463179</td>\n",
       "      <td>artem</td>\n",
       "      <td>2020</td>\n",
       "      <td>4</td>\n",
       "      <td>17</td>\n",
       "      <td>12</td>\n",
       "      <td>1</td>\n",
       "      <td>8</td>\n",
       "    </tr>\n",
       "    <tr>\n",
       "      <th>1</th>\n",
       "      <td>2020-04-17 12:01:23.743946</td>\n",
       "      <td>artem</td>\n",
       "      <td>2020</td>\n",
       "      <td>4</td>\n",
       "      <td>17</td>\n",
       "      <td>12</td>\n",
       "      <td>1</td>\n",
       "      <td>23</td>\n",
       "    </tr>\n",
       "    <tr>\n",
       "      <th>2</th>\n",
       "      <td>2020-04-17 12:27:30.646665</td>\n",
       "      <td>artem</td>\n",
       "      <td>2020</td>\n",
       "      <td>4</td>\n",
       "      <td>17</td>\n",
       "      <td>12</td>\n",
       "      <td>27</td>\n",
       "      <td>30</td>\n",
       "    </tr>\n",
       "    <tr>\n",
       "      <th>3</th>\n",
       "      <td>2020-04-17 12:35:44.884757</td>\n",
       "      <td>artem</td>\n",
       "      <td>2020</td>\n",
       "      <td>4</td>\n",
       "      <td>17</td>\n",
       "      <td>12</td>\n",
       "      <td>35</td>\n",
       "      <td>44</td>\n",
       "    </tr>\n",
       "    <tr>\n",
       "      <th>4</th>\n",
       "      <td>2020-04-17 12:35:52.735016</td>\n",
       "      <td>artem</td>\n",
       "      <td>2020</td>\n",
       "      <td>4</td>\n",
       "      <td>17</td>\n",
       "      <td>12</td>\n",
       "      <td>35</td>\n",
       "      <td>52</td>\n",
       "    </tr>\n",
       "  </tbody>\n",
       "</table>\n",
       "</div>"
      ],
      "text/plain": [
       "                    datetime   user  year  month  day  hour  minute  second\n",
       "0 2020-04-17 12:01:08.463179  artem  2020      4   17    12       1       8\n",
       "1 2020-04-17 12:01:23.743946  artem  2020      4   17    12       1      23\n",
       "2 2020-04-17 12:27:30.646665  artem  2020      4   17    12      27      30\n",
       "3 2020-04-17 12:35:44.884757  artem  2020      4   17    12      35      44\n",
       "4 2020-04-17 12:35:52.735016  artem  2020      4   17    12      35      52"
      ]
     },
     "execution_count": 6,
     "metadata": {},
     "output_type": "execute_result"
    }
   ],
   "source": [
    "views.head()"
   ]
  },
  {
   "cell_type": "markdown",
   "id": "e46670ac",
   "metadata": {},
   "source": [
    "create the new column daytime\n",
    "\n",
    "- you need to assign the particular time of day value if an hour is within a\n",
    "particular interval, for example, afternoon if the hour is larger than 11 and\n",
    "less or equal to 17\n",
    "\n",
    "- 0 – 3.59 night, 4 – 6.59 early morning, 7 – 10.59 morning, 11 – 16.59 afternoon, 17 – 19.59 early evening, 20 – 23.59 evening\n",
    "\n",
    "- use the method cut to solve this subtask\n",
    "- assign the column user as the index"
   ]
  },
  {
   "cell_type": "code",
   "execution_count": 7,
   "id": "a1fa7b4c",
   "metadata": {},
   "outputs": [],
   "source": [
    "views[\"daytime\"] = pd.cut(views[\"hour\"], bins=[0, 4, 7, 11, 17, 20, 24], right=False, \\\n",
    "       labels=[\"night\", \"early_morning\", \"morning\", \"afternoon\", \"early_evening\", \"evening\"])"
   ]
  },
  {
   "cell_type": "code",
   "execution_count": 8,
   "id": "563485fe",
   "metadata": {},
   "outputs": [
    {
     "data": {
      "text/html": [
       "<div>\n",
       "<style scoped>\n",
       "    .dataframe tbody tr th:only-of-type {\n",
       "        vertical-align: middle;\n",
       "    }\n",
       "\n",
       "    .dataframe tbody tr th {\n",
       "        vertical-align: top;\n",
       "    }\n",
       "\n",
       "    .dataframe thead th {\n",
       "        text-align: right;\n",
       "    }\n",
       "</style>\n",
       "<table border=\"1\" class=\"dataframe\">\n",
       "  <thead>\n",
       "    <tr style=\"text-align: right;\">\n",
       "      <th></th>\n",
       "      <th>datetime</th>\n",
       "      <th>user</th>\n",
       "      <th>year</th>\n",
       "      <th>month</th>\n",
       "      <th>day</th>\n",
       "      <th>hour</th>\n",
       "      <th>minute</th>\n",
       "      <th>second</th>\n",
       "      <th>daytime</th>\n",
       "    </tr>\n",
       "  </thead>\n",
       "  <tbody>\n",
       "    <tr>\n",
       "      <th>1071</th>\n",
       "      <td>2020-05-21 18:45:20.441142</td>\n",
       "      <td>valentina</td>\n",
       "      <td>2020</td>\n",
       "      <td>5</td>\n",
       "      <td>21</td>\n",
       "      <td>18</td>\n",
       "      <td>45</td>\n",
       "      <td>20</td>\n",
       "      <td>early_evening</td>\n",
       "    </tr>\n",
       "    <tr>\n",
       "      <th>1072</th>\n",
       "      <td>2020-05-21 23:03:06.457819</td>\n",
       "      <td>maxim</td>\n",
       "      <td>2020</td>\n",
       "      <td>5</td>\n",
       "      <td>21</td>\n",
       "      <td>23</td>\n",
       "      <td>3</td>\n",
       "      <td>6</td>\n",
       "      <td>evening</td>\n",
       "    </tr>\n",
       "    <tr>\n",
       "      <th>1073</th>\n",
       "      <td>2020-05-21 23:23:49.995349</td>\n",
       "      <td>pavel</td>\n",
       "      <td>2020</td>\n",
       "      <td>5</td>\n",
       "      <td>21</td>\n",
       "      <td>23</td>\n",
       "      <td>23</td>\n",
       "      <td>49</td>\n",
       "      <td>evening</td>\n",
       "    </tr>\n",
       "    <tr>\n",
       "      <th>1074</th>\n",
       "      <td>2020-05-21 23:49:22.386789</td>\n",
       "      <td>artem</td>\n",
       "      <td>2020</td>\n",
       "      <td>5</td>\n",
       "      <td>21</td>\n",
       "      <td>23</td>\n",
       "      <td>49</td>\n",
       "      <td>22</td>\n",
       "      <td>evening</td>\n",
       "    </tr>\n",
       "    <tr>\n",
       "      <th>1075</th>\n",
       "      <td>2020-05-22 10:36:14.662600</td>\n",
       "      <td>artem</td>\n",
       "      <td>2020</td>\n",
       "      <td>5</td>\n",
       "      <td>22</td>\n",
       "      <td>10</td>\n",
       "      <td>36</td>\n",
       "      <td>14</td>\n",
       "      <td>morning</td>\n",
       "    </tr>\n",
       "  </tbody>\n",
       "</table>\n",
       "</div>"
      ],
      "text/plain": [
       "                       datetime       user  year  month  day  hour  minute  \\\n",
       "1071 2020-05-21 18:45:20.441142  valentina  2020      5   21    18      45   \n",
       "1072 2020-05-21 23:03:06.457819      maxim  2020      5   21    23       3   \n",
       "1073 2020-05-21 23:23:49.995349      pavel  2020      5   21    23      23   \n",
       "1074 2020-05-21 23:49:22.386789      artem  2020      5   21    23      49   \n",
       "1075 2020-05-22 10:36:14.662600      artem  2020      5   22    10      36   \n",
       "\n",
       "      second        daytime  \n",
       "1071      20  early_evening  \n",
       "1072       6        evening  \n",
       "1073      49        evening  \n",
       "1074      22        evening  \n",
       "1075      14        morning  "
      ]
     },
     "execution_count": 8,
     "metadata": {},
     "output_type": "execute_result"
    }
   ],
   "source": [
    "views.tail()"
   ]
  },
  {
   "cell_type": "code",
   "execution_count": 9,
   "id": "3d30aa8d",
   "metadata": {},
   "outputs": [
    {
     "data": {
      "text/html": [
       "<div>\n",
       "<style scoped>\n",
       "    .dataframe tbody tr th:only-of-type {\n",
       "        vertical-align: middle;\n",
       "    }\n",
       "\n",
       "    .dataframe tbody tr th {\n",
       "        vertical-align: top;\n",
       "    }\n",
       "\n",
       "    .dataframe thead th {\n",
       "        text-align: right;\n",
       "    }\n",
       "</style>\n",
       "<table border=\"1\" class=\"dataframe\">\n",
       "  <thead>\n",
       "    <tr style=\"text-align: right;\">\n",
       "      <th></th>\n",
       "      <th>datetime</th>\n",
       "      <th>year</th>\n",
       "      <th>month</th>\n",
       "      <th>day</th>\n",
       "      <th>hour</th>\n",
       "      <th>minute</th>\n",
       "      <th>second</th>\n",
       "      <th>daytime</th>\n",
       "    </tr>\n",
       "    <tr>\n",
       "      <th>user</th>\n",
       "      <th></th>\n",
       "      <th></th>\n",
       "      <th></th>\n",
       "      <th></th>\n",
       "      <th></th>\n",
       "      <th></th>\n",
       "      <th></th>\n",
       "      <th></th>\n",
       "    </tr>\n",
       "  </thead>\n",
       "  <tbody>\n",
       "    <tr>\n",
       "      <th>artem</th>\n",
       "      <td>2020-04-17 12:01:08.463179</td>\n",
       "      <td>2020</td>\n",
       "      <td>4</td>\n",
       "      <td>17</td>\n",
       "      <td>12</td>\n",
       "      <td>1</td>\n",
       "      <td>8</td>\n",
       "      <td>afternoon</td>\n",
       "    </tr>\n",
       "    <tr>\n",
       "      <th>artem</th>\n",
       "      <td>2020-04-17 12:01:23.743946</td>\n",
       "      <td>2020</td>\n",
       "      <td>4</td>\n",
       "      <td>17</td>\n",
       "      <td>12</td>\n",
       "      <td>1</td>\n",
       "      <td>23</td>\n",
       "      <td>afternoon</td>\n",
       "    </tr>\n",
       "    <tr>\n",
       "      <th>artem</th>\n",
       "      <td>2020-04-17 12:27:30.646665</td>\n",
       "      <td>2020</td>\n",
       "      <td>4</td>\n",
       "      <td>17</td>\n",
       "      <td>12</td>\n",
       "      <td>27</td>\n",
       "      <td>30</td>\n",
       "      <td>afternoon</td>\n",
       "    </tr>\n",
       "    <tr>\n",
       "      <th>artem</th>\n",
       "      <td>2020-04-17 12:35:44.884757</td>\n",
       "      <td>2020</td>\n",
       "      <td>4</td>\n",
       "      <td>17</td>\n",
       "      <td>12</td>\n",
       "      <td>35</td>\n",
       "      <td>44</td>\n",
       "      <td>afternoon</td>\n",
       "    </tr>\n",
       "    <tr>\n",
       "      <th>artem</th>\n",
       "      <td>2020-04-17 12:35:52.735016</td>\n",
       "      <td>2020</td>\n",
       "      <td>4</td>\n",
       "      <td>17</td>\n",
       "      <td>12</td>\n",
       "      <td>35</td>\n",
       "      <td>52</td>\n",
       "      <td>afternoon</td>\n",
       "    </tr>\n",
       "  </tbody>\n",
       "</table>\n",
       "</div>"
      ],
      "text/plain": [
       "                        datetime  year  month  day  hour  minute  second  \\\n",
       "user                                                                       \n",
       "artem 2020-04-17 12:01:08.463179  2020      4   17    12       1       8   \n",
       "artem 2020-04-17 12:01:23.743946  2020      4   17    12       1      23   \n",
       "artem 2020-04-17 12:27:30.646665  2020      4   17    12      27      30   \n",
       "artem 2020-04-17 12:35:44.884757  2020      4   17    12      35      44   \n",
       "artem 2020-04-17 12:35:52.735016  2020      4   17    12      35      52   \n",
       "\n",
       "         daytime  \n",
       "user              \n",
       "artem  afternoon  \n",
       "artem  afternoon  \n",
       "artem  afternoon  \n",
       "artem  afternoon  \n",
       "artem  afternoon  "
      ]
     },
     "execution_count": 9,
     "metadata": {},
     "output_type": "execute_result"
    }
   ],
   "source": [
    "views = views.set_index(\"user\")\n",
    "views.head()"
   ]
  },
  {
   "cell_type": "markdown",
   "id": "592f131f",
   "metadata": {},
   "source": [
    "calculate the number of elements in your dataframe\n",
    "\n",
    "- use the method count()\n",
    "\n",
    "- calculate the number of elements in each time of day category using the method\n",
    "value_counts()"
   ]
  },
  {
   "cell_type": "code",
   "execution_count": 10,
   "id": "f27221bd",
   "metadata": {},
   "outputs": [
    {
     "data": {
      "text/plain": [
       "datetime    1076\n",
       "year        1076\n",
       "month       1076\n",
       "day         1076\n",
       "hour        1076\n",
       "minute      1076\n",
       "second      1076\n",
       "daytime     1076\n",
       "dtype: int64"
      ]
     },
     "execution_count": 10,
     "metadata": {},
     "output_type": "execute_result"
    }
   ],
   "source": [
    "views.count()"
   ]
  },
  {
   "cell_type": "code",
   "execution_count": 11,
   "id": "5c5a1df3",
   "metadata": {},
   "outputs": [
    {
     "data": {
      "text/plain": [
       "daytime\n",
       "evening          509\n",
       "afternoon        252\n",
       "early_evening    145\n",
       "night            129\n",
       "morning           36\n",
       "early_morning      5\n",
       "Name: count, dtype: int64"
      ]
     },
     "execution_count": 11,
     "metadata": {},
     "output_type": "execute_result"
    }
   ],
   "source": [
    "views[\"daytime\"].value_counts()"
   ]
  },
  {
   "cell_type": "markdown",
   "id": "352e2305",
   "metadata": {},
   "source": [
    "sort values in your dataframe by hour, minute, and second in ascending order\n",
    "(simultaneously and not one by one)"
   ]
  },
  {
   "cell_type": "code",
   "execution_count": 12,
   "id": "f21dff41",
   "metadata": {},
   "outputs": [
    {
     "data": {
      "text/html": [
       "<div>\n",
       "<style scoped>\n",
       "    .dataframe tbody tr th:only-of-type {\n",
       "        vertical-align: middle;\n",
       "    }\n",
       "\n",
       "    .dataframe tbody tr th {\n",
       "        vertical-align: top;\n",
       "    }\n",
       "\n",
       "    .dataframe thead th {\n",
       "        text-align: right;\n",
       "    }\n",
       "</style>\n",
       "<table border=\"1\" class=\"dataframe\">\n",
       "  <thead>\n",
       "    <tr style=\"text-align: right;\">\n",
       "      <th></th>\n",
       "      <th>datetime</th>\n",
       "      <th>year</th>\n",
       "      <th>month</th>\n",
       "      <th>day</th>\n",
       "      <th>hour</th>\n",
       "      <th>minute</th>\n",
       "      <th>second</th>\n",
       "      <th>daytime</th>\n",
       "    </tr>\n",
       "    <tr>\n",
       "      <th>user</th>\n",
       "      <th></th>\n",
       "      <th></th>\n",
       "      <th></th>\n",
       "      <th></th>\n",
       "      <th></th>\n",
       "      <th></th>\n",
       "      <th></th>\n",
       "      <th></th>\n",
       "    </tr>\n",
       "  </thead>\n",
       "  <tbody>\n",
       "    <tr>\n",
       "      <th>valentina</th>\n",
       "      <td>2020-05-15 00:00:13.222265</td>\n",
       "      <td>2020</td>\n",
       "      <td>5</td>\n",
       "      <td>15</td>\n",
       "      <td>0</td>\n",
       "      <td>0</td>\n",
       "      <td>13</td>\n",
       "      <td>night</td>\n",
       "    </tr>\n",
       "    <tr>\n",
       "      <th>valentina</th>\n",
       "      <td>2020-05-15 00:01:05.153738</td>\n",
       "      <td>2020</td>\n",
       "      <td>5</td>\n",
       "      <td>15</td>\n",
       "      <td>0</td>\n",
       "      <td>1</td>\n",
       "      <td>5</td>\n",
       "      <td>night</td>\n",
       "    </tr>\n",
       "    <tr>\n",
       "      <th>pavel</th>\n",
       "      <td>2020-05-12 00:01:27.764025</td>\n",
       "      <td>2020</td>\n",
       "      <td>5</td>\n",
       "      <td>12</td>\n",
       "      <td>0</td>\n",
       "      <td>1</td>\n",
       "      <td>27</td>\n",
       "      <td>night</td>\n",
       "    </tr>\n",
       "    <tr>\n",
       "      <th>pavel</th>\n",
       "      <td>2020-05-12 00:01:38.444917</td>\n",
       "      <td>2020</td>\n",
       "      <td>5</td>\n",
       "      <td>12</td>\n",
       "      <td>0</td>\n",
       "      <td>1</td>\n",
       "      <td>38</td>\n",
       "      <td>night</td>\n",
       "    </tr>\n",
       "    <tr>\n",
       "      <th>pavel</th>\n",
       "      <td>2020-05-12 00:01:55.395042</td>\n",
       "      <td>2020</td>\n",
       "      <td>5</td>\n",
       "      <td>12</td>\n",
       "      <td>0</td>\n",
       "      <td>1</td>\n",
       "      <td>55</td>\n",
       "      <td>night</td>\n",
       "    </tr>\n",
       "  </tbody>\n",
       "</table>\n",
       "</div>"
      ],
      "text/plain": [
       "                            datetime  year  month  day  hour  minute  second  \\\n",
       "user                                                                           \n",
       "valentina 2020-05-15 00:00:13.222265  2020      5   15     0       0      13   \n",
       "valentina 2020-05-15 00:01:05.153738  2020      5   15     0       1       5   \n",
       "pavel     2020-05-12 00:01:27.764025  2020      5   12     0       1      27   \n",
       "pavel     2020-05-12 00:01:38.444917  2020      5   12     0       1      38   \n",
       "pavel     2020-05-12 00:01:55.395042  2020      5   12     0       1      55   \n",
       "\n",
       "          daytime  \n",
       "user               \n",
       "valentina   night  \n",
       "valentina   night  \n",
       "pavel       night  \n",
       "pavel       night  \n",
       "pavel       night  "
      ]
     },
     "execution_count": 12,
     "metadata": {},
     "output_type": "execute_result"
    }
   ],
   "source": [
    "views.sort_values(by=[\"hour\", \"minute\", \"second\"], ascending=True, inplace=True)\n",
    "views.head()"
   ]
  },
  {
   "cell_type": "markdown",
   "id": "3bc36b73",
   "metadata": {},
   "source": [
    "calculate the minimum and maximum for the hours and the mode for the daytime\n",
    "categories\n",
    "\n",
    "- calculate the maximum of hour for the rows where the time of day is night\n",
    "- calculate the minimum of hour for the rows where the time of day is morning\n",
    "- In addition to this, find out who visited the page at those hours (make one\n",
    "example from that)\n",
    "- calculate the mode for the hour and daytime"
   ]
  },
  {
   "cell_type": "code",
   "execution_count": 13,
   "id": "fbe5c956",
   "metadata": {},
   "outputs": [
    {
     "data": {
      "text/plain": [
       "np.int32(3)"
      ]
     },
     "execution_count": 13,
     "metadata": {},
     "output_type": "execute_result"
    }
   ],
   "source": [
    "max_night = views[views[\"daytime\"] == \"night\"][\"hour\"].max()\n",
    "max_night"
   ]
  },
  {
   "cell_type": "code",
   "execution_count": 14,
   "id": "ae227bf2",
   "metadata": {},
   "outputs": [
    {
     "data": {
      "text/plain": [
       "np.int32(8)"
      ]
     },
     "execution_count": 14,
     "metadata": {},
     "output_type": "execute_result"
    }
   ],
   "source": [
    "# попробуем другим способом\n",
    "min_morning = views.query(\"daytime == 'morning'\")[\"hour\"].min()\n",
    "min_morning"
   ]
  },
  {
   "cell_type": "code",
   "execution_count": 15,
   "id": "084dfd94",
   "metadata": {},
   "outputs": [
    {
     "data": {
      "text/html": [
       "<div>\n",
       "<style scoped>\n",
       "    .dataframe tbody tr th:only-of-type {\n",
       "        vertical-align: middle;\n",
       "    }\n",
       "\n",
       "    .dataframe tbody tr th {\n",
       "        vertical-align: top;\n",
       "    }\n",
       "\n",
       "    .dataframe thead th {\n",
       "        text-align: right;\n",
       "    }\n",
       "</style>\n",
       "<table border=\"1\" class=\"dataframe\">\n",
       "  <thead>\n",
       "    <tr style=\"text-align: right;\">\n",
       "      <th></th>\n",
       "      <th>datetime</th>\n",
       "      <th>year</th>\n",
       "      <th>month</th>\n",
       "      <th>day</th>\n",
       "      <th>hour</th>\n",
       "      <th>minute</th>\n",
       "      <th>second</th>\n",
       "      <th>daytime</th>\n",
       "    </tr>\n",
       "    <tr>\n",
       "      <th>user</th>\n",
       "      <th></th>\n",
       "      <th></th>\n",
       "      <th></th>\n",
       "      <th></th>\n",
       "      <th></th>\n",
       "      <th></th>\n",
       "      <th></th>\n",
       "      <th></th>\n",
       "    </tr>\n",
       "  </thead>\n",
       "  <tbody>\n",
       "    <tr>\n",
       "      <th>konstantin</th>\n",
       "      <td>2020-04-19 03:23:35.471598</td>\n",
       "      <td>2020</td>\n",
       "      <td>4</td>\n",
       "      <td>19</td>\n",
       "      <td>3</td>\n",
       "      <td>23</td>\n",
       "      <td>35</td>\n",
       "      <td>night</td>\n",
       "    </tr>\n",
       "    <tr>\n",
       "      <th>konstantin</th>\n",
       "      <td>2020-04-19 03:23:55.473926</td>\n",
       "      <td>2020</td>\n",
       "      <td>4</td>\n",
       "      <td>19</td>\n",
       "      <td>3</td>\n",
       "      <td>23</td>\n",
       "      <td>55</td>\n",
       "      <td>night</td>\n",
       "    </tr>\n",
       "    <tr>\n",
       "      <th>konstantin</th>\n",
       "      <td>2020-04-19 03:33:07.757714</td>\n",
       "      <td>2020</td>\n",
       "      <td>4</td>\n",
       "      <td>19</td>\n",
       "      <td>3</td>\n",
       "      <td>33</td>\n",
       "      <td>7</td>\n",
       "      <td>night</td>\n",
       "    </tr>\n",
       "    <tr>\n",
       "      <th>alexander</th>\n",
       "      <td>2020-05-15 08:16:03.918402</td>\n",
       "      <td>2020</td>\n",
       "      <td>5</td>\n",
       "      <td>15</td>\n",
       "      <td>8</td>\n",
       "      <td>16</td>\n",
       "      <td>3</td>\n",
       "      <td>morning</td>\n",
       "    </tr>\n",
       "    <tr>\n",
       "      <th>alexander</th>\n",
       "      <td>2020-05-15 08:35:01.471463</td>\n",
       "      <td>2020</td>\n",
       "      <td>5</td>\n",
       "      <td>15</td>\n",
       "      <td>8</td>\n",
       "      <td>35</td>\n",
       "      <td>1</td>\n",
       "      <td>morning</td>\n",
       "    </tr>\n",
       "  </tbody>\n",
       "</table>\n",
       "</div>"
      ],
      "text/plain": [
       "                             datetime  year  month  day  hour  minute  second  \\\n",
       "user                                                                            \n",
       "konstantin 2020-04-19 03:23:35.471598  2020      4   19     3      23      35   \n",
       "konstantin 2020-04-19 03:23:55.473926  2020      4   19     3      23      55   \n",
       "konstantin 2020-04-19 03:33:07.757714  2020      4   19     3      33       7   \n",
       "alexander  2020-05-15 08:16:03.918402  2020      5   15     8      16       3   \n",
       "alexander  2020-05-15 08:35:01.471463  2020      5   15     8      35       1   \n",
       "\n",
       "            daytime  \n",
       "user                 \n",
       "konstantin    night  \n",
       "konstantin    night  \n",
       "konstantin    night  \n",
       "alexander   morning  \n",
       "alexander   morning  "
      ]
     },
     "execution_count": 15,
     "metadata": {},
     "output_type": "execute_result"
    }
   ],
   "source": [
    "views.query(f\"hour == {max_night} | hour == {min_morning}\")"
   ]
  },
  {
   "cell_type": "code",
   "execution_count": 16,
   "id": "13b93d5c",
   "metadata": {},
   "outputs": [
    {
     "data": {
      "text/plain": [
       "0    22\n",
       "Name: hour, dtype: int32"
      ]
     },
     "execution_count": 16,
     "metadata": {},
     "output_type": "execute_result"
    }
   ],
   "source": [
    "views[\"hour\"].mode()"
   ]
  },
  {
   "cell_type": "code",
   "execution_count": 17,
   "id": "2db55211",
   "metadata": {},
   "outputs": [
    {
     "data": {
      "text/plain": [
       "0    evening\n",
       "Name: daytime, dtype: category\n",
       "Categories (6, object): ['night' < 'early_morning' < 'morning' < 'afternoon' < 'early_evening' < 'evening']"
      ]
     },
     "execution_count": 17,
     "metadata": {},
     "output_type": "execute_result"
    }
   ],
   "source": [
    "views[\"daytime\"].mode()"
   ]
  },
  {
   "cell_type": "markdown",
   "id": "3a568cca",
   "metadata": {},
   "source": [
    "show the 3 earliest hours in the morning and the corresponding usernames and the\n",
    "3 latest hours and the usernames using nsmallest() and nlargest()\n",
    "\n"
   ]
  },
  {
   "cell_type": "code",
   "execution_count": 18,
   "id": "3c530992",
   "metadata": {},
   "outputs": [
    {
     "data": {
      "text/plain": [
       "user\n",
       "alexander    8\n",
       "alexander    8\n",
       "alexander    9\n",
       "Name: hour, dtype: int32"
      ]
     },
     "execution_count": 18,
     "metadata": {},
     "output_type": "execute_result"
    }
   ],
   "source": [
    "views[views[\"daytime\"] == \"morning\"][\"hour\"].nsmallest(3)"
   ]
  },
  {
   "cell_type": "code",
   "execution_count": 19,
   "id": "2ea1f6e4",
   "metadata": {},
   "outputs": [
    {
     "data": {
      "text/plain": [
       "user\n",
       "konstantin    10\n",
       "maxim         10\n",
       "maxim         10\n",
       "Name: hour, dtype: int32"
      ]
     },
     "execution_count": 19,
     "metadata": {},
     "output_type": "execute_result"
    }
   ],
   "source": [
    "views[views[\"daytime\"] == \"morning\"][\"hour\"].nlargest(3)"
   ]
  },
  {
   "cell_type": "markdown",
   "id": "b2bdd565",
   "metadata": {},
   "source": [
    "use the method describe() to get the basic statistics for the columns\n",
    "\n",
    "- to find out what the most popular interval for visiting the page is, calculate\n",
    "the interquartile range for the hour by extracting values from the result of the\n",
    "describe() method and store it in the variable iqr\n",
    "\n"
   ]
  },
  {
   "cell_type": "code",
   "execution_count": 20,
   "id": "90715364",
   "metadata": {},
   "outputs": [
    {
     "data": {
      "text/html": [
       "<div>\n",
       "<style scoped>\n",
       "    .dataframe tbody tr th:only-of-type {\n",
       "        vertical-align: middle;\n",
       "    }\n",
       "\n",
       "    .dataframe tbody tr th {\n",
       "        vertical-align: top;\n",
       "    }\n",
       "\n",
       "    .dataframe thead th {\n",
       "        text-align: right;\n",
       "    }\n",
       "</style>\n",
       "<table border=\"1\" class=\"dataframe\">\n",
       "  <thead>\n",
       "    <tr style=\"text-align: right;\">\n",
       "      <th></th>\n",
       "      <th>datetime</th>\n",
       "      <th>year</th>\n",
       "      <th>month</th>\n",
       "      <th>day</th>\n",
       "      <th>hour</th>\n",
       "      <th>minute</th>\n",
       "      <th>second</th>\n",
       "    </tr>\n",
       "  </thead>\n",
       "  <tbody>\n",
       "    <tr>\n",
       "      <th>count</th>\n",
       "      <td>1076</td>\n",
       "      <td>1076.0</td>\n",
       "      <td>1076.000000</td>\n",
       "      <td>1076.000000</td>\n",
       "      <td>1076.000000</td>\n",
       "      <td>1076.000000</td>\n",
       "      <td>1076.000000</td>\n",
       "    </tr>\n",
       "    <tr>\n",
       "      <th>mean</th>\n",
       "      <td>2020-05-10 09:00:41.211420672</td>\n",
       "      <td>2020.0</td>\n",
       "      <td>4.870818</td>\n",
       "      <td>13.552974</td>\n",
       "      <td>16.249071</td>\n",
       "      <td>29.629182</td>\n",
       "      <td>29.500929</td>\n",
       "    </tr>\n",
       "    <tr>\n",
       "      <th>min</th>\n",
       "      <td>2020-04-17 12:01:08.463179</td>\n",
       "      <td>2020.0</td>\n",
       "      <td>4.000000</td>\n",
       "      <td>1.000000</td>\n",
       "      <td>0.000000</td>\n",
       "      <td>0.000000</td>\n",
       "      <td>0.000000</td>\n",
       "    </tr>\n",
       "    <tr>\n",
       "      <th>25%</th>\n",
       "      <td>2020-05-10 01:13:49.857472</td>\n",
       "      <td>2020.0</td>\n",
       "      <td>5.000000</td>\n",
       "      <td>11.000000</td>\n",
       "      <td>13.000000</td>\n",
       "      <td>14.000000</td>\n",
       "      <td>14.000000</td>\n",
       "    </tr>\n",
       "    <tr>\n",
       "      <th>50%</th>\n",
       "      <td>2020-05-11 22:48:35.302552832</td>\n",
       "      <td>2020.0</td>\n",
       "      <td>5.000000</td>\n",
       "      <td>13.000000</td>\n",
       "      <td>19.000000</td>\n",
       "      <td>29.000000</td>\n",
       "      <td>30.000000</td>\n",
       "    </tr>\n",
       "    <tr>\n",
       "      <th>75%</th>\n",
       "      <td>2020-05-14 14:44:34.749530624</td>\n",
       "      <td>2020.0</td>\n",
       "      <td>5.000000</td>\n",
       "      <td>15.000000</td>\n",
       "      <td>22.000000</td>\n",
       "      <td>46.000000</td>\n",
       "      <td>45.000000</td>\n",
       "    </tr>\n",
       "    <tr>\n",
       "      <th>max</th>\n",
       "      <td>2020-05-22 10:36:14.662600</td>\n",
       "      <td>2020.0</td>\n",
       "      <td>5.000000</td>\n",
       "      <td>30.000000</td>\n",
       "      <td>23.000000</td>\n",
       "      <td>59.000000</td>\n",
       "      <td>59.000000</td>\n",
       "    </tr>\n",
       "    <tr>\n",
       "      <th>std</th>\n",
       "      <td>NaN</td>\n",
       "      <td>0.0</td>\n",
       "      <td>0.335557</td>\n",
       "      <td>4.906567</td>\n",
       "      <td>6.955490</td>\n",
       "      <td>17.689388</td>\n",
       "      <td>17.405506</td>\n",
       "    </tr>\n",
       "  </tbody>\n",
       "</table>\n",
       "</div>"
      ],
      "text/plain": [
       "                            datetime    year        month          day  \\\n",
       "count                           1076  1076.0  1076.000000  1076.000000   \n",
       "mean   2020-05-10 09:00:41.211420672  2020.0     4.870818    13.552974   \n",
       "min       2020-04-17 12:01:08.463179  2020.0     4.000000     1.000000   \n",
       "25%       2020-05-10 01:13:49.857472  2020.0     5.000000    11.000000   \n",
       "50%    2020-05-11 22:48:35.302552832  2020.0     5.000000    13.000000   \n",
       "75%    2020-05-14 14:44:34.749530624  2020.0     5.000000    15.000000   \n",
       "max       2020-05-22 10:36:14.662600  2020.0     5.000000    30.000000   \n",
       "std                              NaN     0.0     0.335557     4.906567   \n",
       "\n",
       "              hour       minute       second  \n",
       "count  1076.000000  1076.000000  1076.000000  \n",
       "mean     16.249071    29.629182    29.500929  \n",
       "min       0.000000     0.000000     0.000000  \n",
       "25%      13.000000    14.000000    14.000000  \n",
       "50%      19.000000    29.000000    30.000000  \n",
       "75%      22.000000    46.000000    45.000000  \n",
       "max      23.000000    59.000000    59.000000  \n",
       "std       6.955490    17.689388    17.405506  "
      ]
     },
     "execution_count": 20,
     "metadata": {},
     "output_type": "execute_result"
    }
   ],
   "source": [
    "views.describe()"
   ]
  },
  {
   "cell_type": "code",
   "execution_count": 21,
   "id": "353a0409",
   "metadata": {},
   "outputs": [
    {
     "data": {
      "text/plain": [
       "np.float64(9.0)"
      ]
     },
     "execution_count": 21,
     "metadata": {},
     "output_type": "execute_result"
    }
   ],
   "source": [
    "iqr = views.describe()[\"hour\"][\"75%\"] - views.describe()[\"hour\"][\"25%\"]\n",
    "iqr"
   ]
  }
 ],
 "metadata": {
  "kernelspec": {
   "display_name": "Python 3",
   "language": "python",
   "name": "python3"
  },
  "language_info": {
   "codemirror_mode": {
    "name": "ipython",
    "version": 3
   },
   "file_extension": ".py",
   "mimetype": "text/x-python",
   "name": "python",
   "nbconvert_exporter": "python",
   "pygments_lexer": "ipython3",
   "version": "3.10.12"
  }
 },
 "nbformat": 4,
 "nbformat_minor": 5
}
