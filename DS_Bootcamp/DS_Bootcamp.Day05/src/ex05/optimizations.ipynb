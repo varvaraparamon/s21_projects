{
 "cells": [
  {
   "cell_type": "code",
   "execution_count": 1,
   "id": "88f3ce36",
   "metadata": {},
   "outputs": [],
   "source": [
    "import pandas as pd\n",
    "import gc"
   ]
  },
  {
   "cell_type": "code",
   "execution_count": 41,
   "id": "2950626b",
   "metadata": {},
   "outputs": [
    {
     "data": {
      "text/html": [
       "<div>\n",
       "<style scoped>\n",
       "    .dataframe tbody tr th:only-of-type {\n",
       "        vertical-align: middle;\n",
       "    }\n",
       "\n",
       "    .dataframe tbody tr th {\n",
       "        vertical-align: top;\n",
       "    }\n",
       "\n",
       "    .dataframe thead th {\n",
       "        text-align: right;\n",
       "    }\n",
       "</style>\n",
       "<table border=\"1\" class=\"dataframe\">\n",
       "  <thead>\n",
       "    <tr style=\"text-align: right;\">\n",
       "      <th></th>\n",
       "      <th>CarNumber</th>\n",
       "      <th>Refund</th>\n",
       "      <th>Fines</th>\n",
       "      <th>Make</th>\n",
       "      <th>Model</th>\n",
       "      <th>Year</th>\n",
       "    </tr>\n",
       "  </thead>\n",
       "  <tbody>\n",
       "    <tr>\n",
       "      <th>0</th>\n",
       "      <td>Y163O8161RUS</td>\n",
       "      <td>2</td>\n",
       "      <td>3200.0</td>\n",
       "      <td>Ford</td>\n",
       "      <td>Focus</td>\n",
       "      <td>1989</td>\n",
       "    </tr>\n",
       "    <tr>\n",
       "      <th>1</th>\n",
       "      <td>E432XX77RUS</td>\n",
       "      <td>1</td>\n",
       "      <td>6500.0</td>\n",
       "      <td>Toyota</td>\n",
       "      <td>Camry</td>\n",
       "      <td>1995</td>\n",
       "    </tr>\n",
       "    <tr>\n",
       "      <th>2</th>\n",
       "      <td>7184TT36RUS</td>\n",
       "      <td>1</td>\n",
       "      <td>2100.0</td>\n",
       "      <td>Ford</td>\n",
       "      <td>Focus</td>\n",
       "      <td>1984</td>\n",
       "    </tr>\n",
       "    <tr>\n",
       "      <th>3</th>\n",
       "      <td>X582HE161RUS</td>\n",
       "      <td>2</td>\n",
       "      <td>2000.0</td>\n",
       "      <td>Ford</td>\n",
       "      <td>Focus</td>\n",
       "      <td>2015</td>\n",
       "    </tr>\n",
       "    <tr>\n",
       "      <th>4</th>\n",
       "      <td>92918M178RUS</td>\n",
       "      <td>1</td>\n",
       "      <td>5700.0</td>\n",
       "      <td>Ford</td>\n",
       "      <td>Focus</td>\n",
       "      <td>2014</td>\n",
       "    </tr>\n",
       "  </tbody>\n",
       "</table>\n",
       "</div>"
      ],
      "text/plain": [
       "      CarNumber  Refund   Fines    Make  Model  Year\n",
       "0  Y163O8161RUS       2  3200.0    Ford  Focus  1989\n",
       "1   E432XX77RUS       1  6500.0  Toyota  Camry  1995\n",
       "2   7184TT36RUS       1  2100.0    Ford  Focus  1984\n",
       "3  X582HE161RUS       2  2000.0    Ford  Focus  2015\n",
       "4  92918M178RUS       1  5700.0    Ford  Focus  2014"
      ]
     },
     "execution_count": 41,
     "metadata": {},
     "output_type": "execute_result"
    }
   ],
   "source": [
    "df = pd.read_csv(\"../../data/fines.csv\")\n",
    "df.head()"
   ]
  },
  {
   "cell_type": "markdown",
   "id": "29c2a50f",
   "metadata": {},
   "source": [
    "iterations: in all the following subtasks, you need to calculate fines/refund*year for\n",
    "each row and create a new column with the calculated data and measure the time\n",
    "using the magic command %%timeit in the cell\n",
    "\n",
    "- loop: write a function that iterates through the dataframe using for i in range(0, len(df)), iloc and append() to a list, assign the result of the function to a new column in the dataframe\n",
    "- do it using iterrows()\n",
    "\n",
    "- do it using apply() and lambda function\n",
    "- do it using Series objects from the dataframe\n",
    "- do it as in the previous subtask but with the method .values"
   ]
  },
  {
   "cell_type": "code",
   "execution_count": 42,
   "id": "6f624745",
   "metadata": {},
   "outputs": [
    {
     "name": "stdout",
     "output_type": "stream",
     "text": [
      "138 ms ± 29 ms per loop (mean ± std. dev. of 7 runs, 10 loops each)\n"
     ]
    }
   ],
   "source": [
    "%%timeit\n",
    "res = []\n",
    "for i in range(0, len(df)):\n",
    "    res.append(df.iloc[i][\"Fines\"]/(df.iloc[i][\"Refund\"] * df.iloc[i][\"Year\"]))\n",
    "df[\"res1\"] = res"
   ]
  },
  {
   "cell_type": "code",
   "execution_count": 43,
   "id": "50cdfe55",
   "metadata": {},
   "outputs": [
    {
     "data": {
      "text/html": [
       "<div>\n",
       "<style scoped>\n",
       "    .dataframe tbody tr th:only-of-type {\n",
       "        vertical-align: middle;\n",
       "    }\n",
       "\n",
       "    .dataframe tbody tr th {\n",
       "        vertical-align: top;\n",
       "    }\n",
       "\n",
       "    .dataframe thead th {\n",
       "        text-align: right;\n",
       "    }\n",
       "</style>\n",
       "<table border=\"1\" class=\"dataframe\">\n",
       "  <thead>\n",
       "    <tr style=\"text-align: right;\">\n",
       "      <th></th>\n",
       "      <th>CarNumber</th>\n",
       "      <th>Refund</th>\n",
       "      <th>Fines</th>\n",
       "      <th>Make</th>\n",
       "      <th>Model</th>\n",
       "      <th>Year</th>\n",
       "      <th>res1</th>\n",
       "    </tr>\n",
       "  </thead>\n",
       "  <tbody>\n",
       "    <tr>\n",
       "      <th>0</th>\n",
       "      <td>Y163O8161RUS</td>\n",
       "      <td>2</td>\n",
       "      <td>3200.0</td>\n",
       "      <td>Ford</td>\n",
       "      <td>Focus</td>\n",
       "      <td>1989</td>\n",
       "      <td>0.804424</td>\n",
       "    </tr>\n",
       "    <tr>\n",
       "      <th>1</th>\n",
       "      <td>E432XX77RUS</td>\n",
       "      <td>1</td>\n",
       "      <td>6500.0</td>\n",
       "      <td>Toyota</td>\n",
       "      <td>Camry</td>\n",
       "      <td>1995</td>\n",
       "      <td>3.258145</td>\n",
       "    </tr>\n",
       "    <tr>\n",
       "      <th>2</th>\n",
       "      <td>7184TT36RUS</td>\n",
       "      <td>1</td>\n",
       "      <td>2100.0</td>\n",
       "      <td>Ford</td>\n",
       "      <td>Focus</td>\n",
       "      <td>1984</td>\n",
       "      <td>1.058468</td>\n",
       "    </tr>\n",
       "    <tr>\n",
       "      <th>3</th>\n",
       "      <td>X582HE161RUS</td>\n",
       "      <td>2</td>\n",
       "      <td>2000.0</td>\n",
       "      <td>Ford</td>\n",
       "      <td>Focus</td>\n",
       "      <td>2015</td>\n",
       "      <td>0.496278</td>\n",
       "    </tr>\n",
       "    <tr>\n",
       "      <th>4</th>\n",
       "      <td>92918M178RUS</td>\n",
       "      <td>1</td>\n",
       "      <td>5700.0</td>\n",
       "      <td>Ford</td>\n",
       "      <td>Focus</td>\n",
       "      <td>2014</td>\n",
       "      <td>2.830189</td>\n",
       "    </tr>\n",
       "  </tbody>\n",
       "</table>\n",
       "</div>"
      ],
      "text/plain": [
       "      CarNumber  Refund   Fines    Make  Model  Year      res1\n",
       "0  Y163O8161RUS       2  3200.0    Ford  Focus  1989  0.804424\n",
       "1   E432XX77RUS       1  6500.0  Toyota  Camry  1995  3.258145\n",
       "2   7184TT36RUS       1  2100.0    Ford  Focus  1984  1.058468\n",
       "3  X582HE161RUS       2  2000.0    Ford  Focus  2015  0.496278\n",
       "4  92918M178RUS       1  5700.0    Ford  Focus  2014  2.830189"
      ]
     },
     "execution_count": 43,
     "metadata": {},
     "output_type": "execute_result"
    }
   ],
   "source": [
    "df.head()"
   ]
  },
  {
   "cell_type": "code",
   "execution_count": 44,
   "id": "369930e1",
   "metadata": {},
   "outputs": [
    {
     "name": "stdout",
     "output_type": "stream",
     "text": [
      "34.9 ms ± 1.91 ms per loop (mean ± std. dev. of 7 runs, 10 loops each)\n"
     ]
    }
   ],
   "source": [
    "%%timeit\n",
    "res = []\n",
    "for i, row in df.iterrows():\n",
    "    res.append(row[\"Fines\"]/(row[\"Refund\"] * row[\"Year\"]))\n",
    "df[\"res2\"] = res"
   ]
  },
  {
   "cell_type": "code",
   "execution_count": 45,
   "id": "f7aa34ee",
   "metadata": {},
   "outputs": [
    {
     "data": {
      "text/html": [
       "<div>\n",
       "<style scoped>\n",
       "    .dataframe tbody tr th:only-of-type {\n",
       "        vertical-align: middle;\n",
       "    }\n",
       "\n",
       "    .dataframe tbody tr th {\n",
       "        vertical-align: top;\n",
       "    }\n",
       "\n",
       "    .dataframe thead th {\n",
       "        text-align: right;\n",
       "    }\n",
       "</style>\n",
       "<table border=\"1\" class=\"dataframe\">\n",
       "  <thead>\n",
       "    <tr style=\"text-align: right;\">\n",
       "      <th></th>\n",
       "      <th>CarNumber</th>\n",
       "      <th>Refund</th>\n",
       "      <th>Fines</th>\n",
       "      <th>Make</th>\n",
       "      <th>Model</th>\n",
       "      <th>Year</th>\n",
       "      <th>res1</th>\n",
       "      <th>res2</th>\n",
       "    </tr>\n",
       "  </thead>\n",
       "  <tbody>\n",
       "    <tr>\n",
       "      <th>0</th>\n",
       "      <td>Y163O8161RUS</td>\n",
       "      <td>2</td>\n",
       "      <td>3200.0</td>\n",
       "      <td>Ford</td>\n",
       "      <td>Focus</td>\n",
       "      <td>1989</td>\n",
       "      <td>0.804424</td>\n",
       "      <td>0.804424</td>\n",
       "    </tr>\n",
       "    <tr>\n",
       "      <th>1</th>\n",
       "      <td>E432XX77RUS</td>\n",
       "      <td>1</td>\n",
       "      <td>6500.0</td>\n",
       "      <td>Toyota</td>\n",
       "      <td>Camry</td>\n",
       "      <td>1995</td>\n",
       "      <td>3.258145</td>\n",
       "      <td>3.258145</td>\n",
       "    </tr>\n",
       "    <tr>\n",
       "      <th>2</th>\n",
       "      <td>7184TT36RUS</td>\n",
       "      <td>1</td>\n",
       "      <td>2100.0</td>\n",
       "      <td>Ford</td>\n",
       "      <td>Focus</td>\n",
       "      <td>1984</td>\n",
       "      <td>1.058468</td>\n",
       "      <td>1.058468</td>\n",
       "    </tr>\n",
       "    <tr>\n",
       "      <th>3</th>\n",
       "      <td>X582HE161RUS</td>\n",
       "      <td>2</td>\n",
       "      <td>2000.0</td>\n",
       "      <td>Ford</td>\n",
       "      <td>Focus</td>\n",
       "      <td>2015</td>\n",
       "      <td>0.496278</td>\n",
       "      <td>0.496278</td>\n",
       "    </tr>\n",
       "    <tr>\n",
       "      <th>4</th>\n",
       "      <td>92918M178RUS</td>\n",
       "      <td>1</td>\n",
       "      <td>5700.0</td>\n",
       "      <td>Ford</td>\n",
       "      <td>Focus</td>\n",
       "      <td>2014</td>\n",
       "      <td>2.830189</td>\n",
       "      <td>2.830189</td>\n",
       "    </tr>\n",
       "  </tbody>\n",
       "</table>\n",
       "</div>"
      ],
      "text/plain": [
       "      CarNumber  Refund   Fines    Make  Model  Year      res1      res2\n",
       "0  Y163O8161RUS       2  3200.0    Ford  Focus  1989  0.804424  0.804424\n",
       "1   E432XX77RUS       1  6500.0  Toyota  Camry  1995  3.258145  3.258145\n",
       "2   7184TT36RUS       1  2100.0    Ford  Focus  1984  1.058468  1.058468\n",
       "3  X582HE161RUS       2  2000.0    Ford  Focus  2015  0.496278  0.496278\n",
       "4  92918M178RUS       1  5700.0    Ford  Focus  2014  2.830189  2.830189"
      ]
     },
     "execution_count": 45,
     "metadata": {},
     "output_type": "execute_result"
    }
   ],
   "source": [
    "df.head()"
   ]
  },
  {
   "cell_type": "code",
   "execution_count": 46,
   "id": "fb9a94c8",
   "metadata": {},
   "outputs": [
    {
     "name": "stdout",
     "output_type": "stream",
     "text": [
      "7.33 ms ± 183 μs per loop (mean ± std. dev. of 7 runs, 100 loops each)\n"
     ]
    }
   ],
   "source": [
    "%%timeit\n",
    "df[\"res3\"] = df.apply(lambda x: x[\"Fines\"]/(x[\"Refund\"]*x[\"Year\"]), axis=1)"
   ]
  },
  {
   "cell_type": "code",
   "execution_count": 47,
   "id": "d64fc977",
   "metadata": {},
   "outputs": [
    {
     "data": {
      "text/html": [
       "<div>\n",
       "<style scoped>\n",
       "    .dataframe tbody tr th:only-of-type {\n",
       "        vertical-align: middle;\n",
       "    }\n",
       "\n",
       "    .dataframe tbody tr th {\n",
       "        vertical-align: top;\n",
       "    }\n",
       "\n",
       "    .dataframe thead th {\n",
       "        text-align: right;\n",
       "    }\n",
       "</style>\n",
       "<table border=\"1\" class=\"dataframe\">\n",
       "  <thead>\n",
       "    <tr style=\"text-align: right;\">\n",
       "      <th></th>\n",
       "      <th>CarNumber</th>\n",
       "      <th>Refund</th>\n",
       "      <th>Fines</th>\n",
       "      <th>Make</th>\n",
       "      <th>Model</th>\n",
       "      <th>Year</th>\n",
       "      <th>res1</th>\n",
       "      <th>res2</th>\n",
       "      <th>res3</th>\n",
       "    </tr>\n",
       "  </thead>\n",
       "  <tbody>\n",
       "    <tr>\n",
       "      <th>0</th>\n",
       "      <td>Y163O8161RUS</td>\n",
       "      <td>2</td>\n",
       "      <td>3200.0</td>\n",
       "      <td>Ford</td>\n",
       "      <td>Focus</td>\n",
       "      <td>1989</td>\n",
       "      <td>0.804424</td>\n",
       "      <td>0.804424</td>\n",
       "      <td>0.804424</td>\n",
       "    </tr>\n",
       "    <tr>\n",
       "      <th>1</th>\n",
       "      <td>E432XX77RUS</td>\n",
       "      <td>1</td>\n",
       "      <td>6500.0</td>\n",
       "      <td>Toyota</td>\n",
       "      <td>Camry</td>\n",
       "      <td>1995</td>\n",
       "      <td>3.258145</td>\n",
       "      <td>3.258145</td>\n",
       "      <td>3.258145</td>\n",
       "    </tr>\n",
       "    <tr>\n",
       "      <th>2</th>\n",
       "      <td>7184TT36RUS</td>\n",
       "      <td>1</td>\n",
       "      <td>2100.0</td>\n",
       "      <td>Ford</td>\n",
       "      <td>Focus</td>\n",
       "      <td>1984</td>\n",
       "      <td>1.058468</td>\n",
       "      <td>1.058468</td>\n",
       "      <td>1.058468</td>\n",
       "    </tr>\n",
       "    <tr>\n",
       "      <th>3</th>\n",
       "      <td>X582HE161RUS</td>\n",
       "      <td>2</td>\n",
       "      <td>2000.0</td>\n",
       "      <td>Ford</td>\n",
       "      <td>Focus</td>\n",
       "      <td>2015</td>\n",
       "      <td>0.496278</td>\n",
       "      <td>0.496278</td>\n",
       "      <td>0.496278</td>\n",
       "    </tr>\n",
       "    <tr>\n",
       "      <th>4</th>\n",
       "      <td>92918M178RUS</td>\n",
       "      <td>1</td>\n",
       "      <td>5700.0</td>\n",
       "      <td>Ford</td>\n",
       "      <td>Focus</td>\n",
       "      <td>2014</td>\n",
       "      <td>2.830189</td>\n",
       "      <td>2.830189</td>\n",
       "      <td>2.830189</td>\n",
       "    </tr>\n",
       "  </tbody>\n",
       "</table>\n",
       "</div>"
      ],
      "text/plain": [
       "      CarNumber  Refund   Fines    Make  Model  Year      res1      res2  \\\n",
       "0  Y163O8161RUS       2  3200.0    Ford  Focus  1989  0.804424  0.804424   \n",
       "1   E432XX77RUS       1  6500.0  Toyota  Camry  1995  3.258145  3.258145   \n",
       "2   7184TT36RUS       1  2100.0    Ford  Focus  1984  1.058468  1.058468   \n",
       "3  X582HE161RUS       2  2000.0    Ford  Focus  2015  0.496278  0.496278   \n",
       "4  92918M178RUS       1  5700.0    Ford  Focus  2014  2.830189  2.830189   \n",
       "\n",
       "       res3  \n",
       "0  0.804424  \n",
       "1  3.258145  \n",
       "2  1.058468  \n",
       "3  0.496278  \n",
       "4  2.830189  "
      ]
     },
     "execution_count": 47,
     "metadata": {},
     "output_type": "execute_result"
    }
   ],
   "source": [
    "df.head()"
   ]
  },
  {
   "cell_type": "code",
   "execution_count": 48,
   "id": "0c7f026a",
   "metadata": {},
   "outputs": [
    {
     "name": "stdout",
     "output_type": "stream",
     "text": [
      "177 μs ± 5.57 μs per loop (mean ± std. dev. of 7 runs, 10,000 loops each)\n"
     ]
    }
   ],
   "source": [
    "%%timeit\n",
    "df[\"res4\"] = df[\"Fines\"]/(df[\"Refund\"]*df[\"Year\"])"
   ]
  },
  {
   "cell_type": "code",
   "execution_count": 49,
   "id": "46117daa",
   "metadata": {},
   "outputs": [
    {
     "data": {
      "text/html": [
       "<div>\n",
       "<style scoped>\n",
       "    .dataframe tbody tr th:only-of-type {\n",
       "        vertical-align: middle;\n",
       "    }\n",
       "\n",
       "    .dataframe tbody tr th {\n",
       "        vertical-align: top;\n",
       "    }\n",
       "\n",
       "    .dataframe thead th {\n",
       "        text-align: right;\n",
       "    }\n",
       "</style>\n",
       "<table border=\"1\" class=\"dataframe\">\n",
       "  <thead>\n",
       "    <tr style=\"text-align: right;\">\n",
       "      <th></th>\n",
       "      <th>CarNumber</th>\n",
       "      <th>Refund</th>\n",
       "      <th>Fines</th>\n",
       "      <th>Make</th>\n",
       "      <th>Model</th>\n",
       "      <th>Year</th>\n",
       "      <th>res1</th>\n",
       "      <th>res2</th>\n",
       "      <th>res3</th>\n",
       "      <th>res4</th>\n",
       "    </tr>\n",
       "  </thead>\n",
       "  <tbody>\n",
       "    <tr>\n",
       "      <th>0</th>\n",
       "      <td>Y163O8161RUS</td>\n",
       "      <td>2</td>\n",
       "      <td>3200.0</td>\n",
       "      <td>Ford</td>\n",
       "      <td>Focus</td>\n",
       "      <td>1989</td>\n",
       "      <td>0.804424</td>\n",
       "      <td>0.804424</td>\n",
       "      <td>0.804424</td>\n",
       "      <td>0.804424</td>\n",
       "    </tr>\n",
       "    <tr>\n",
       "      <th>1</th>\n",
       "      <td>E432XX77RUS</td>\n",
       "      <td>1</td>\n",
       "      <td>6500.0</td>\n",
       "      <td>Toyota</td>\n",
       "      <td>Camry</td>\n",
       "      <td>1995</td>\n",
       "      <td>3.258145</td>\n",
       "      <td>3.258145</td>\n",
       "      <td>3.258145</td>\n",
       "      <td>3.258145</td>\n",
       "    </tr>\n",
       "    <tr>\n",
       "      <th>2</th>\n",
       "      <td>7184TT36RUS</td>\n",
       "      <td>1</td>\n",
       "      <td>2100.0</td>\n",
       "      <td>Ford</td>\n",
       "      <td>Focus</td>\n",
       "      <td>1984</td>\n",
       "      <td>1.058468</td>\n",
       "      <td>1.058468</td>\n",
       "      <td>1.058468</td>\n",
       "      <td>1.058468</td>\n",
       "    </tr>\n",
       "    <tr>\n",
       "      <th>3</th>\n",
       "      <td>X582HE161RUS</td>\n",
       "      <td>2</td>\n",
       "      <td>2000.0</td>\n",
       "      <td>Ford</td>\n",
       "      <td>Focus</td>\n",
       "      <td>2015</td>\n",
       "      <td>0.496278</td>\n",
       "      <td>0.496278</td>\n",
       "      <td>0.496278</td>\n",
       "      <td>0.496278</td>\n",
       "    </tr>\n",
       "    <tr>\n",
       "      <th>4</th>\n",
       "      <td>92918M178RUS</td>\n",
       "      <td>1</td>\n",
       "      <td>5700.0</td>\n",
       "      <td>Ford</td>\n",
       "      <td>Focus</td>\n",
       "      <td>2014</td>\n",
       "      <td>2.830189</td>\n",
       "      <td>2.830189</td>\n",
       "      <td>2.830189</td>\n",
       "      <td>2.830189</td>\n",
       "    </tr>\n",
       "  </tbody>\n",
       "</table>\n",
       "</div>"
      ],
      "text/plain": [
       "      CarNumber  Refund   Fines    Make  Model  Year      res1      res2  \\\n",
       "0  Y163O8161RUS       2  3200.0    Ford  Focus  1989  0.804424  0.804424   \n",
       "1   E432XX77RUS       1  6500.0  Toyota  Camry  1995  3.258145  3.258145   \n",
       "2   7184TT36RUS       1  2100.0    Ford  Focus  1984  1.058468  1.058468   \n",
       "3  X582HE161RUS       2  2000.0    Ford  Focus  2015  0.496278  0.496278   \n",
       "4  92918M178RUS       1  5700.0    Ford  Focus  2014  2.830189  2.830189   \n",
       "\n",
       "       res3      res4  \n",
       "0  0.804424  0.804424  \n",
       "1  3.258145  3.258145  \n",
       "2  1.058468  1.058468  \n",
       "3  0.496278  0.496278  \n",
       "4  2.830189  2.830189  "
      ]
     },
     "execution_count": 49,
     "metadata": {},
     "output_type": "execute_result"
    }
   ],
   "source": [
    "df.head()"
   ]
  },
  {
   "cell_type": "code",
   "execution_count": 50,
   "id": "57c513ff",
   "metadata": {},
   "outputs": [
    {
     "name": "stdout",
     "output_type": "stream",
     "text": [
      "82 μs ± 1.24 μs per loop (mean ± std. dev. of 7 runs, 10,000 loops each)\n"
     ]
    }
   ],
   "source": [
    "%%timeit\n",
    "df[\"res5\"] = df[\"Fines\"].values/(df[\"Refund\"].values*df[\"Year\"].values)"
   ]
  },
  {
   "cell_type": "code",
   "execution_count": 51,
   "id": "a77e6018",
   "metadata": {},
   "outputs": [
    {
     "data": {
      "text/html": [
       "<div>\n",
       "<style scoped>\n",
       "    .dataframe tbody tr th:only-of-type {\n",
       "        vertical-align: middle;\n",
       "    }\n",
       "\n",
       "    .dataframe tbody tr th {\n",
       "        vertical-align: top;\n",
       "    }\n",
       "\n",
       "    .dataframe thead th {\n",
       "        text-align: right;\n",
       "    }\n",
       "</style>\n",
       "<table border=\"1\" class=\"dataframe\">\n",
       "  <thead>\n",
       "    <tr style=\"text-align: right;\">\n",
       "      <th></th>\n",
       "      <th>CarNumber</th>\n",
       "      <th>Refund</th>\n",
       "      <th>Fines</th>\n",
       "      <th>Make</th>\n",
       "      <th>Model</th>\n",
       "      <th>Year</th>\n",
       "      <th>res1</th>\n",
       "      <th>res2</th>\n",
       "      <th>res3</th>\n",
       "      <th>res4</th>\n",
       "      <th>res5</th>\n",
       "    </tr>\n",
       "  </thead>\n",
       "  <tbody>\n",
       "    <tr>\n",
       "      <th>0</th>\n",
       "      <td>Y163O8161RUS</td>\n",
       "      <td>2</td>\n",
       "      <td>3200.0</td>\n",
       "      <td>Ford</td>\n",
       "      <td>Focus</td>\n",
       "      <td>1989</td>\n",
       "      <td>0.804424</td>\n",
       "      <td>0.804424</td>\n",
       "      <td>0.804424</td>\n",
       "      <td>0.804424</td>\n",
       "      <td>0.804424</td>\n",
       "    </tr>\n",
       "    <tr>\n",
       "      <th>1</th>\n",
       "      <td>E432XX77RUS</td>\n",
       "      <td>1</td>\n",
       "      <td>6500.0</td>\n",
       "      <td>Toyota</td>\n",
       "      <td>Camry</td>\n",
       "      <td>1995</td>\n",
       "      <td>3.258145</td>\n",
       "      <td>3.258145</td>\n",
       "      <td>3.258145</td>\n",
       "      <td>3.258145</td>\n",
       "      <td>3.258145</td>\n",
       "    </tr>\n",
       "    <tr>\n",
       "      <th>2</th>\n",
       "      <td>7184TT36RUS</td>\n",
       "      <td>1</td>\n",
       "      <td>2100.0</td>\n",
       "      <td>Ford</td>\n",
       "      <td>Focus</td>\n",
       "      <td>1984</td>\n",
       "      <td>1.058468</td>\n",
       "      <td>1.058468</td>\n",
       "      <td>1.058468</td>\n",
       "      <td>1.058468</td>\n",
       "      <td>1.058468</td>\n",
       "    </tr>\n",
       "    <tr>\n",
       "      <th>3</th>\n",
       "      <td>X582HE161RUS</td>\n",
       "      <td>2</td>\n",
       "      <td>2000.0</td>\n",
       "      <td>Ford</td>\n",
       "      <td>Focus</td>\n",
       "      <td>2015</td>\n",
       "      <td>0.496278</td>\n",
       "      <td>0.496278</td>\n",
       "      <td>0.496278</td>\n",
       "      <td>0.496278</td>\n",
       "      <td>0.496278</td>\n",
       "    </tr>\n",
       "    <tr>\n",
       "      <th>4</th>\n",
       "      <td>92918M178RUS</td>\n",
       "      <td>1</td>\n",
       "      <td>5700.0</td>\n",
       "      <td>Ford</td>\n",
       "      <td>Focus</td>\n",
       "      <td>2014</td>\n",
       "      <td>2.830189</td>\n",
       "      <td>2.830189</td>\n",
       "      <td>2.830189</td>\n",
       "      <td>2.830189</td>\n",
       "      <td>2.830189</td>\n",
       "    </tr>\n",
       "  </tbody>\n",
       "</table>\n",
       "</div>"
      ],
      "text/plain": [
       "      CarNumber  Refund   Fines    Make  Model  Year      res1      res2  \\\n",
       "0  Y163O8161RUS       2  3200.0    Ford  Focus  1989  0.804424  0.804424   \n",
       "1   E432XX77RUS       1  6500.0  Toyota  Camry  1995  3.258145  3.258145   \n",
       "2   7184TT36RUS       1  2100.0    Ford  Focus  1984  1.058468  1.058468   \n",
       "3  X582HE161RUS       2  2000.0    Ford  Focus  2015  0.496278  0.496278   \n",
       "4  92918M178RUS       1  5700.0    Ford  Focus  2014  2.830189  2.830189   \n",
       "\n",
       "       res3      res4      res5  \n",
       "0  0.804424  0.804424  0.804424  \n",
       "1  3.258145  3.258145  3.258145  \n",
       "2  1.058468  1.058468  1.058468  \n",
       "3  0.496278  0.496278  0.496278  \n",
       "4  2.830189  2.830189  2.830189  "
      ]
     },
     "execution_count": 51,
     "metadata": {},
     "output_type": "execute_result"
    }
   ],
   "source": [
    "df.head()"
   ]
  },
  {
   "cell_type": "markdown",
   "id": "91e61c90",
   "metadata": {},
   "source": [
    "indexing: measure the time using the magic command %%timeit in the cell\n",
    "\n",
    "- get a row for a specific CarNumber, for example, ’O136HO197RUS’\n",
    "\n",
    "- set the index in your dataframe with CarNumber\n",
    "\n",
    "- again, get a row for the same CarNumber"
   ]
  },
  {
   "cell_type": "code",
   "execution_count": 52,
   "id": "c8f91ecc",
   "metadata": {},
   "outputs": [
    {
     "name": "stdout",
     "output_type": "stream",
     "text": [
      "259 μs ± 12 μs per loop (mean ± std. dev. of 7 runs, 1,000 loops each)\n"
     ]
    }
   ],
   "source": [
    "%%timeit\n",
    "df[df[\"CarNumber\"] == \"O136HO197RUS\"]"
   ]
  },
  {
   "cell_type": "code",
   "execution_count": 53,
   "id": "b35540ee",
   "metadata": {},
   "outputs": [],
   "source": [
    "df.set_index(\"CarNumber\", inplace=True)"
   ]
  },
  {
   "cell_type": "code",
   "execution_count": 54,
   "id": "88316328",
   "metadata": {},
   "outputs": [
    {
     "name": "stdout",
     "output_type": "stream",
     "text": [
      "134 μs ± 1.56 μs per loop (mean ± std. dev. of 7 runs, 10,000 loops each)\n"
     ]
    }
   ],
   "source": [
    "%%timeit\n",
    "df.loc[\"O136HO197RUS\"]"
   ]
  },
  {
   "cell_type": "markdown",
   "id": "c2c9f6ab",
   "metadata": {},
   "source": [
    "downcasting:\n",
    "\n",
    "- run df.info(memory_usage=’deep’), pay attention to the Dtype and the memory usage\n",
    "- make a copy() of your initial dataframe into another dataframe optimized\n",
    "\n",
    "- downcast from float64 to float32 for all the columns\n",
    "- downcast from int64 to the smallest numerical dtype possible\n",
    "- run info(memory_usage='deep') for your new dataframe, pay attention to the Dtype and the memory usage\n",
    "\n",
    "\n"
   ]
  },
  {
   "cell_type": "code",
   "execution_count": 55,
   "id": "433f1684",
   "metadata": {},
   "outputs": [
    {
     "name": "stdout",
     "output_type": "stream",
     "text": [
      "<class 'pandas.core.frame.DataFrame'>\n",
      "Index: 925 entries, Y163O8161RUS to T119CT96RUS\n",
      "Data columns (total 10 columns):\n",
      " #   Column  Non-Null Count  Dtype  \n",
      "---  ------  --------------  -----  \n",
      " 0   Refund  925 non-null    int64  \n",
      " 1   Fines   925 non-null    float64\n",
      " 2   Make    925 non-null    object \n",
      " 3   Model   914 non-null    object \n",
      " 4   Year    925 non-null    int64  \n",
      " 5   res1    925 non-null    float64\n",
      " 6   res2    925 non-null    float64\n",
      " 7   res3    925 non-null    float64\n",
      " 8   res4    925 non-null    float64\n",
      " 9   res5    925 non-null    float64\n",
      "dtypes: float64(6), int64(2), object(2)\n",
      "memory usage: 263.8 KB\n"
     ]
    }
   ],
   "source": [
    "df.info(memory_usage='deep')"
   ]
  },
  {
   "cell_type": "code",
   "execution_count": 56,
   "id": "787a7b3c",
   "metadata": {},
   "outputs": [],
   "source": [
    "df_copy = df.copy()"
   ]
  },
  {
   "cell_type": "code",
   "execution_count": 57,
   "id": "28e81a8a",
   "metadata": {},
   "outputs": [],
   "source": [
    "df_copy = df_copy.astype({\"Fines\": \"float32\", \"res1\" : \"float32\", \"res2\" : \"float32\", \"res3\" : \"float32\", \"res4\" : \"float32\", \"res5\" : \"float32\"})"
   ]
  },
  {
   "cell_type": "code",
   "execution_count": 58,
   "id": "34eea24e",
   "metadata": {},
   "outputs": [],
   "source": [
    "df_copy = df_copy.astype({\"Refund\" : \"uint8\", \"Year\" : \"uint8\"})"
   ]
  },
  {
   "cell_type": "code",
   "execution_count": 59,
   "id": "4c0bb1af",
   "metadata": {},
   "outputs": [
    {
     "name": "stdout",
     "output_type": "stream",
     "text": [
      "<class 'pandas.core.frame.DataFrame'>\n",
      "Index: 925 entries, Y163O8161RUS to T119CT96RUS\n",
      "Data columns (total 10 columns):\n",
      " #   Column  Non-Null Count  Dtype  \n",
      "---  ------  --------------  -----  \n",
      " 0   Refund  925 non-null    uint8  \n",
      " 1   Fines   925 non-null    float32\n",
      " 2   Make    925 non-null    object \n",
      " 3   Model   914 non-null    object \n",
      " 4   Year    925 non-null    uint8  \n",
      " 5   res1    925 non-null    float32\n",
      " 6   res2    925 non-null    float32\n",
      " 7   res3    925 non-null    float32\n",
      " 8   res4    925 non-null    float32\n",
      " 9   res5    925 non-null    float32\n",
      "dtypes: float32(6), object(2), uint8(2)\n",
      "memory usage: 229.5 KB\n"
     ]
    }
   ],
   "source": [
    "df_copy.info(memory_usage='deep')"
   ]
  },
  {
   "cell_type": "code",
   "execution_count": 60,
   "id": "01cc8fd6",
   "metadata": {},
   "outputs": [],
   "source": [
    "df_copy = df_copy.astype({\"Make\" : \"category\", \"Model\" : \"category\"})"
   ]
  },
  {
   "cell_type": "code",
   "execution_count": 62,
   "id": "2230a7ce",
   "metadata": {},
   "outputs": [
    {
     "name": "stdout",
     "output_type": "stream",
     "text": [
      "<class 'pandas.core.frame.DataFrame'>\n",
      "Index: 925 entries, Y163O8161RUS to T119CT96RUS\n",
      "Data columns (total 10 columns):\n",
      " #   Column  Non-Null Count  Dtype   \n",
      "---  ------  --------------  -----   \n",
      " 0   Refund  925 non-null    uint8   \n",
      " 1   Fines   925 non-null    float32 \n",
      " 2   Make    925 non-null    category\n",
      " 3   Model   914 non-null    category\n",
      " 4   Year    925 non-null    uint8   \n",
      " 5   res1    925 non-null    float32 \n",
      " 6   res2    925 non-null    float32 \n",
      " 7   res3    925 non-null    float32 \n",
      " 8   res4    925 non-null    float32 \n",
      " 9   res5    925 non-null    float32 \n",
      "dtypes: category(2), float32(6), uint8(2)\n",
      "memory usage: 121.3 KB\n"
     ]
    }
   ],
   "source": [
    "df_copy.info(memory_usage='deep')"
   ]
  },
  {
   "cell_type": "markdown",
   "id": "a7525797",
   "metadata": {},
   "source": [
    "memory clean\n",
    "\n",
    "- using %reset_selective and the library gc clean the memory of your initial dataframe only"
   ]
  },
  {
   "cell_type": "code",
   "execution_count": 63,
   "id": "b0dba6ef",
   "metadata": {},
   "outputs": [
    {
     "data": {
      "text/plain": [
       "1129"
      ]
     },
     "execution_count": 63,
     "metadata": {},
     "output_type": "execute_result"
    }
   ],
   "source": [
    "%reset_selective -f df\n",
    "gc.collect()"
   ]
  },
  {
   "cell_type": "code",
   "execution_count": null,
   "id": "1d716945",
   "metadata": {},
   "outputs": [],
   "source": []
  }
 ],
 "metadata": {
  "kernelspec": {
   "display_name": "Python 3",
   "language": "python",
   "name": "python3"
  },
  "language_info": {
   "codemirror_mode": {
    "name": "ipython",
    "version": 3
   },
   "file_extension": ".py",
   "mimetype": "text/x-python",
   "name": "python",
   "nbconvert_exporter": "python",
   "pygments_lexer": "ipython3",
   "version": "3.10.12"
  }
 },
 "nbformat": 4,
 "nbformat_minor": 5
}
