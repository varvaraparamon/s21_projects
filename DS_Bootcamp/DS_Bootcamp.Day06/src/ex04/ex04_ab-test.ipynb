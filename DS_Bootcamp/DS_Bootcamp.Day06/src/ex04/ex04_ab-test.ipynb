{
 "cells": [
  {
   "cell_type": "code",
   "execution_count": 1,
   "id": "b48ec777",
   "metadata": {},
   "outputs": [],
   "source": [
    "import pandas as pd\n",
    "import sqlite3"
   ]
  },
  {
   "cell_type": "markdown",
   "id": "fdca4e12",
   "metadata": {},
   "source": [
    "## create a connection to the database using the library sqlite3"
   ]
  },
  {
   "cell_type": "code",
   "execution_count": 2,
   "id": "372a873d",
   "metadata": {},
   "outputs": [],
   "source": [
    "connection = sqlite3.connect('../../data/checking-logs.sqlite')"
   ]
  },
  {
   "cell_type": "markdown",
   "id": "ed963794",
   "metadata": {},
   "source": [
    "## using only one query for each of the groups, create two dataframes: test_results and control_results with the columns time and avg_diff and only two rows\n",
    "  * time should have the values: after and before\n",
    "  * avg_diff contains the average delta among all the users for the time period\n",
    "  before each of them made their first visit to the page and afterward\n",
    "  * only take into account the users that have observations before and after"
   ]
  },
  {
   "cell_type": "code",
   "execution_count": 7,
   "id": "64d2fd97",
   "metadata": {},
   "outputs": [
    {
     "data": {
      "text/html": [
       "<div>\n",
       "<style scoped>\n",
       "    .dataframe tbody tr th:only-of-type {\n",
       "        vertical-align: middle;\n",
       "    }\n",
       "\n",
       "    .dataframe tbody tr th {\n",
       "        vertical-align: top;\n",
       "    }\n",
       "\n",
       "    .dataframe thead th {\n",
       "        text-align: right;\n",
       "    }\n",
       "</style>\n",
       "<table border=\"1\" class=\"dataframe\">\n",
       "  <thead>\n",
       "    <tr style=\"text-align: right;\">\n",
       "      <th></th>\n",
       "      <th>time</th>\n",
       "      <th>AVG(diff)</th>\n",
       "    </tr>\n",
       "  </thead>\n",
       "  <tbody>\n",
       "    <tr>\n",
       "      <th>0</th>\n",
       "      <td>after</td>\n",
       "      <td>-103.40625</td>\n",
       "    </tr>\n",
       "    <tr>\n",
       "      <th>1</th>\n",
       "      <td>before</td>\n",
       "      <td>-60.56250</td>\n",
       "    </tr>\n",
       "  </tbody>\n",
       "</table>\n",
       "</div>"
      ],
      "text/plain": [
       "     time  AVG(diff)\n",
       "0   after -103.40625\n",
       "1  before  -60.56250"
      ]
     },
     "execution_count": 7,
     "metadata": {},
     "output_type": "execute_result"
    }
   ],
   "source": [
    "test_results = pd.io.sql.read_sql(\"SELECT CASE WHEN first_commit_ts < first_view_ts THEN 'before' ELSE 'after' END AS time, \" \\\n",
    "\"AVG(diff) FROM \"\n",
    "\"(SELECT t.uid, t.labname, t.first_commit_ts, t.first_view_ts, CAST((-julianday(datetime(d.deadlines, 'unixepoch')) + julianday(t.first_commit_ts))*24 AS INTEGER) AS diff FROM test as t \" \\\n",
    "\"JOIN deadlines as d \" \\\n",
    "\"ON d.labs = t.labname \" \\\n",
    "\"WHERE t.labname != 'project1')\" \\\n",
    "\"GROUP BY time\", connection)\n",
    "test_results"
   ]
  },
  {
   "cell_type": "code",
   "execution_count": 8,
   "id": "791a9c4c",
   "metadata": {},
   "outputs": [
    {
     "data": {
      "text/html": [
       "<div>\n",
       "<style scoped>\n",
       "    .dataframe tbody tr th:only-of-type {\n",
       "        vertical-align: middle;\n",
       "    }\n",
       "\n",
       "    .dataframe tbody tr th {\n",
       "        vertical-align: top;\n",
       "    }\n",
       "\n",
       "    .dataframe thead th {\n",
       "        text-align: right;\n",
       "    }\n",
       "</style>\n",
       "<table border=\"1\" class=\"dataframe\">\n",
       "  <thead>\n",
       "    <tr style=\"text-align: right;\">\n",
       "      <th></th>\n",
       "      <th>time</th>\n",
       "      <th>AVG(diff)</th>\n",
       "    </tr>\n",
       "  </thead>\n",
       "  <tbody>\n",
       "    <tr>\n",
       "      <th>0</th>\n",
       "      <td>after</td>\n",
       "      <td>-112.710526</td>\n",
       "    </tr>\n",
       "    <tr>\n",
       "      <th>1</th>\n",
       "      <td>before</td>\n",
       "      <td>-99.464286</td>\n",
       "    </tr>\n",
       "  </tbody>\n",
       "</table>\n",
       "</div>"
      ],
      "text/plain": [
       "     time   AVG(diff)\n",
       "0   after -112.710526\n",
       "1  before  -99.464286"
      ]
     },
     "execution_count": 8,
     "metadata": {},
     "output_type": "execute_result"
    }
   ],
   "source": [
    "control_results = pd.io.sql.read_sql(\"SELECT CASE WHEN first_commit_ts < first_view_ts THEN 'before' ELSE 'after' END AS time, \" \\\n",
    "\"AVG(diff) FROM \"\n",
    "\"(SELECT t.uid, t.labname, t.first_commit_ts, t.first_view_ts, CAST((-julianday(datetime(d.deadlines, 'unixepoch')) + julianday(t.first_commit_ts))*24 AS INTEGER) AS diff FROM control as t \" \\\n",
    "\"JOIN deadlines as d \" \\\n",
    "\"ON d.labs = t.labname \" \\\n",
    "\"WHERE t.labname != 'project1')\" \\\n",
    "\"GROUP BY time\", connection)\n",
    "control_results"
   ]
  },
  {
   "cell_type": "markdown",
   "id": "7d29103b",
   "metadata": {},
   "source": [
    "## close the connection"
   ]
  },
  {
   "cell_type": "code",
   "execution_count": 9,
   "id": "a0b1e928",
   "metadata": {},
   "outputs": [],
   "source": [
    "connection.close()"
   ]
  },
  {
   "cell_type": "markdown",
   "id": "1244c20f",
   "metadata": {},
   "source": [
    "## have the answer: did the hypothesis turn out to be true and the page does affect the students’ behavior?\n",
    "да, дельта изменилась для тест"
   ]
  }
 ],
 "metadata": {
  "kernelspec": {
   "display_name": "Python 3",
   "language": "python",
   "name": "python3"
  },
  "language_info": {
   "codemirror_mode": {
    "name": "ipython",
    "version": 3
   },
   "file_extension": ".py",
   "mimetype": "text/x-python",
   "name": "python",
   "nbconvert_exporter": "python",
   "pygments_lexer": "ipython3",
   "version": "3.10.12"
  }
 },
 "nbformat": 4,
 "nbformat_minor": 5
}
