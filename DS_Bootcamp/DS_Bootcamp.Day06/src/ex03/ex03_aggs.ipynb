{
 "cells": [
  {
   "cell_type": "code",
   "execution_count": 1,
   "id": "c699bf47",
   "metadata": {},
   "outputs": [],
   "source": [
    "import pandas as pd\n",
    "import sqlite3"
   ]
  },
  {
   "cell_type": "markdown",
   "id": "3af1250e",
   "metadata": {},
   "source": [
    "## create a connection to the database using the library sqlite3"
   ]
  },
  {
   "cell_type": "code",
   "execution_count": 2,
   "id": "678ba3a0",
   "metadata": {},
   "outputs": [],
   "source": [
    "connection = sqlite3.connect('../../data/checking-logs.sqlite')"
   ]
  },
  {
   "cell_type": "markdown",
   "id": "5f6dac7a",
   "metadata": {},
   "source": [
    "## get the schema of the table test"
   ]
  },
  {
   "cell_type": "code",
   "execution_count": 3,
   "id": "d2d87d65",
   "metadata": {},
   "outputs": [
    {
     "data": {
      "text/html": [
       "<div>\n",
       "<style scoped>\n",
       "    .dataframe tbody tr th:only-of-type {\n",
       "        vertical-align: middle;\n",
       "    }\n",
       "\n",
       "    .dataframe tbody tr th {\n",
       "        vertical-align: top;\n",
       "    }\n",
       "\n",
       "    .dataframe thead th {\n",
       "        text-align: right;\n",
       "    }\n",
       "</style>\n",
       "<table border=\"1\" class=\"dataframe\">\n",
       "  <thead>\n",
       "    <tr style=\"text-align: right;\">\n",
       "      <th></th>\n",
       "      <th>cid</th>\n",
       "      <th>name</th>\n",
       "      <th>type</th>\n",
       "      <th>notnull</th>\n",
       "      <th>dflt_value</th>\n",
       "      <th>pk</th>\n",
       "    </tr>\n",
       "  </thead>\n",
       "  <tbody>\n",
       "    <tr>\n",
       "      <th>0</th>\n",
       "      <td>0</td>\n",
       "      <td>index</td>\n",
       "      <td>INTEGER</td>\n",
       "      <td>0</td>\n",
       "      <td>None</td>\n",
       "      <td>0</td>\n",
       "    </tr>\n",
       "    <tr>\n",
       "      <th>1</th>\n",
       "      <td>1</td>\n",
       "      <td>uid</td>\n",
       "      <td>TEXT</td>\n",
       "      <td>0</td>\n",
       "      <td>None</td>\n",
       "      <td>0</td>\n",
       "    </tr>\n",
       "    <tr>\n",
       "      <th>2</th>\n",
       "      <td>2</td>\n",
       "      <td>labname</td>\n",
       "      <td>TEXT</td>\n",
       "      <td>0</td>\n",
       "      <td>None</td>\n",
       "      <td>0</td>\n",
       "    </tr>\n",
       "    <tr>\n",
       "      <th>3</th>\n",
       "      <td>3</td>\n",
       "      <td>first_commit_ts</td>\n",
       "      <td>TIMESTAMP</td>\n",
       "      <td>0</td>\n",
       "      <td>None</td>\n",
       "      <td>0</td>\n",
       "    </tr>\n",
       "    <tr>\n",
       "      <th>4</th>\n",
       "      <td>4</td>\n",
       "      <td>first_view_ts</td>\n",
       "      <td>TIMESTAMP</td>\n",
       "      <td>0</td>\n",
       "      <td>None</td>\n",
       "      <td>0</td>\n",
       "    </tr>\n",
       "  </tbody>\n",
       "</table>\n",
       "</div>"
      ],
      "text/plain": [
       "   cid             name       type  notnull dflt_value  pk\n",
       "0    0            index    INTEGER        0       None   0\n",
       "1    1              uid       TEXT        0       None   0\n",
       "2    2          labname       TEXT        0       None   0\n",
       "3    3  first_commit_ts  TIMESTAMP        0       None   0\n",
       "4    4    first_view_ts  TIMESTAMP        0       None   0"
      ]
     },
     "execution_count": 3,
     "metadata": {},
     "output_type": "execute_result"
    }
   ],
   "source": [
    "pd.io.sql.read_sql(\"PRAGMA table_info(test);\", connection)"
   ]
  },
  {
   "cell_type": "markdown",
   "id": "e4eb0bc1",
   "metadata": {},
   "source": [
    "## get only the first 10 rows of the table test to check what the table looks like"
   ]
  },
  {
   "cell_type": "code",
   "execution_count": 4,
   "id": "05c37297",
   "metadata": {},
   "outputs": [
    {
     "data": {
      "text/html": [
       "<div>\n",
       "<style scoped>\n",
       "    .dataframe tbody tr th:only-of-type {\n",
       "        vertical-align: middle;\n",
       "    }\n",
       "\n",
       "    .dataframe tbody tr th {\n",
       "        vertical-align: top;\n",
       "    }\n",
       "\n",
       "    .dataframe thead th {\n",
       "        text-align: right;\n",
       "    }\n",
       "</style>\n",
       "<table border=\"1\" class=\"dataframe\">\n",
       "  <thead>\n",
       "    <tr style=\"text-align: right;\">\n",
       "      <th></th>\n",
       "      <th>index</th>\n",
       "      <th>uid</th>\n",
       "      <th>labname</th>\n",
       "      <th>first_commit_ts</th>\n",
       "      <th>first_view_ts</th>\n",
       "    </tr>\n",
       "  </thead>\n",
       "  <tbody>\n",
       "    <tr>\n",
       "      <th>0</th>\n",
       "      <td>3</td>\n",
       "      <td>user_17</td>\n",
       "      <td>project1</td>\n",
       "      <td>2020-04-18 07:56:45.408648</td>\n",
       "      <td>2020-04-18 10:56:55.833899</td>\n",
       "    </tr>\n",
       "    <tr>\n",
       "      <th>1</th>\n",
       "      <td>4</td>\n",
       "      <td>user_30</td>\n",
       "      <td>laba04</td>\n",
       "      <td>2020-04-18 13:36:53.971502</td>\n",
       "      <td>2020-04-17 22:46:26.785035</td>\n",
       "    </tr>\n",
       "    <tr>\n",
       "      <th>2</th>\n",
       "      <td>7</td>\n",
       "      <td>user_30</td>\n",
       "      <td>laba04s</td>\n",
       "      <td>2020-04-18 14:51:37.498399</td>\n",
       "      <td>2020-04-17 22:46:26.785035</td>\n",
       "    </tr>\n",
       "    <tr>\n",
       "      <th>3</th>\n",
       "      <td>8</td>\n",
       "      <td>user_14</td>\n",
       "      <td>laba04</td>\n",
       "      <td>2020-04-18 15:14:00.312338</td>\n",
       "      <td>2020-04-18 10:53:52.623447</td>\n",
       "    </tr>\n",
       "    <tr>\n",
       "      <th>4</th>\n",
       "      <td>11</td>\n",
       "      <td>user_14</td>\n",
       "      <td>laba04s</td>\n",
       "      <td>2020-04-18 22:30:30.247628</td>\n",
       "      <td>2020-04-18 10:53:52.623447</td>\n",
       "    </tr>\n",
       "    <tr>\n",
       "      <th>5</th>\n",
       "      <td>18</td>\n",
       "      <td>user_19</td>\n",
       "      <td>laba04</td>\n",
       "      <td>2020-04-20 19:05:01.297780</td>\n",
       "      <td>2020-04-21 20:30:38.034966</td>\n",
       "    </tr>\n",
       "    <tr>\n",
       "      <th>6</th>\n",
       "      <td>19</td>\n",
       "      <td>user_25</td>\n",
       "      <td>laba04</td>\n",
       "      <td>2020-04-20 19:16:50.673054</td>\n",
       "      <td>2020-05-09 23:54:54.260791</td>\n",
       "    </tr>\n",
       "    <tr>\n",
       "      <th>7</th>\n",
       "      <td>20</td>\n",
       "      <td>user_21</td>\n",
       "      <td>laba04</td>\n",
       "      <td>2020-04-21 17:48:00.487806</td>\n",
       "      <td>2020-04-22 22:40:36.824081</td>\n",
       "    </tr>\n",
       "    <tr>\n",
       "      <th>8</th>\n",
       "      <td>21</td>\n",
       "      <td>user_30</td>\n",
       "      <td>project1</td>\n",
       "      <td>2020-04-22 12:36:24.053518</td>\n",
       "      <td>2020-04-17 22:46:26.785035</td>\n",
       "    </tr>\n",
       "    <tr>\n",
       "      <th>9</th>\n",
       "      <td>23</td>\n",
       "      <td>user_21</td>\n",
       "      <td>laba04s</td>\n",
       "      <td>2020-04-22 20:09:21.857747</td>\n",
       "      <td>2020-04-22 22:40:36.824081</td>\n",
       "    </tr>\n",
       "  </tbody>\n",
       "</table>\n",
       "</div>"
      ],
      "text/plain": [
       "   index      uid   labname             first_commit_ts  \\\n",
       "0      3  user_17  project1  2020-04-18 07:56:45.408648   \n",
       "1      4  user_30    laba04  2020-04-18 13:36:53.971502   \n",
       "2      7  user_30   laba04s  2020-04-18 14:51:37.498399   \n",
       "3      8  user_14    laba04  2020-04-18 15:14:00.312338   \n",
       "4     11  user_14   laba04s  2020-04-18 22:30:30.247628   \n",
       "5     18  user_19    laba04  2020-04-20 19:05:01.297780   \n",
       "6     19  user_25    laba04  2020-04-20 19:16:50.673054   \n",
       "7     20  user_21    laba04  2020-04-21 17:48:00.487806   \n",
       "8     21  user_30  project1  2020-04-22 12:36:24.053518   \n",
       "9     23  user_21   laba04s  2020-04-22 20:09:21.857747   \n",
       "\n",
       "                first_view_ts  \n",
       "0  2020-04-18 10:56:55.833899  \n",
       "1  2020-04-17 22:46:26.785035  \n",
       "2  2020-04-17 22:46:26.785035  \n",
       "3  2020-04-18 10:53:52.623447  \n",
       "4  2020-04-18 10:53:52.623447  \n",
       "5  2020-04-21 20:30:38.034966  \n",
       "6  2020-05-09 23:54:54.260791  \n",
       "7  2020-04-22 22:40:36.824081  \n",
       "8  2020-04-17 22:46:26.785035  \n",
       "9  2020-04-22 22:40:36.824081  "
      ]
     },
     "execution_count": 4,
     "metadata": {},
     "output_type": "execute_result"
    }
   ],
   "source": [
    "pd.io.sql.read_sql(\"SELECT * FROM test LIMIT 10;\", connection)"
   ]
  },
  {
   "cell_type": "markdown",
   "id": "8e4540e4",
   "metadata": {},
   "source": [
    "## find among all the users the minimum value of the delta between the first commit of the user and the deadline of the corresponding lab using only one query\n",
    "  * do this by joining the table with the table deadlines\n",
    "  * the difference should be displayed in hours\n",
    "  * do not take the lab ’project1’ into account, it has longer deadlines and will be\n",
    "  an outlier\n",
    "  * the value should be stored in the dataframe df_min with the corresponding\n",
    "  uid"
   ]
  },
  {
   "cell_type": "code",
   "execution_count": 5,
   "id": "13b69cc5",
   "metadata": {},
   "outputs": [
    {
     "data": {
      "text/html": [
       "<div>\n",
       "<style scoped>\n",
       "    .dataframe tbody tr th:only-of-type {\n",
       "        vertical-align: middle;\n",
       "    }\n",
       "\n",
       "    .dataframe tbody tr th {\n",
       "        vertical-align: top;\n",
       "    }\n",
       "\n",
       "    .dataframe thead th {\n",
       "        text-align: right;\n",
       "    }\n",
       "</style>\n",
       "<table border=\"1\" class=\"dataframe\">\n",
       "  <thead>\n",
       "    <tr style=\"text-align: right;\">\n",
       "      <th></th>\n",
       "      <th>uid</th>\n",
       "      <th>MIN(diff)</th>\n",
       "    </tr>\n",
       "  </thead>\n",
       "  <tbody>\n",
       "    <tr>\n",
       "      <th>0</th>\n",
       "      <td>user_30</td>\n",
       "      <td>-202</td>\n",
       "    </tr>\n",
       "  </tbody>\n",
       "</table>\n",
       "</div>"
      ],
      "text/plain": [
       "       uid  MIN(diff)\n",
       "0  user_30       -202"
      ]
     },
     "execution_count": 5,
     "metadata": {},
     "output_type": "execute_result"
    }
   ],
   "source": [
    "df_min = pd.io.sql.read_sql(\"SELECT uid, MIN(diff) FROM \"\n",
    "\"(SELECT t.uid, t.labname, t.first_commit_ts, CAST((- julianday(datetime(d.deadlines, 'unixepoch')) + julianday(t.first_commit_ts))*24 AS INTEGER) AS diff FROM test as t \" \\\n",
    "\"JOIN deadlines as d \" \\\n",
    "\"ON d.labs = t.labname \" \\\n",
    "\"WHERE t.labname != 'project1')\", connection)\n",
    "df_min"
   ]
  },
  {
   "cell_type": "markdown",
   "id": "0fa7ae4e",
   "metadata": {},
   "source": [
    "## do the same thing, but for the maximum, using only one query, the dataframe name is df_max"
   ]
  },
  {
   "cell_type": "code",
   "execution_count": 6,
   "id": "21b6bfe8",
   "metadata": {},
   "outputs": [
    {
     "data": {
      "text/html": [
       "<div>\n",
       "<style scoped>\n",
       "    .dataframe tbody tr th:only-of-type {\n",
       "        vertical-align: middle;\n",
       "    }\n",
       "\n",
       "    .dataframe tbody tr th {\n",
       "        vertical-align: top;\n",
       "    }\n",
       "\n",
       "    .dataframe thead th {\n",
       "        text-align: right;\n",
       "    }\n",
       "</style>\n",
       "<table border=\"1\" class=\"dataframe\">\n",
       "  <thead>\n",
       "    <tr style=\"text-align: right;\">\n",
       "      <th></th>\n",
       "      <th>uid</th>\n",
       "      <th>MAX(diff)</th>\n",
       "    </tr>\n",
       "  </thead>\n",
       "  <tbody>\n",
       "    <tr>\n",
       "      <th>0</th>\n",
       "      <td>user_25</td>\n",
       "      <td>-2</td>\n",
       "    </tr>\n",
       "  </tbody>\n",
       "</table>\n",
       "</div>"
      ],
      "text/plain": [
       "       uid  MAX(diff)\n",
       "0  user_25         -2"
      ]
     },
     "execution_count": 6,
     "metadata": {},
     "output_type": "execute_result"
    }
   ],
   "source": [
    "df_max = pd.io.sql.read_sql(\"SELECT uid, MAX(diff) FROM \"\n",
    "\"(SELECT t.uid, t.labname, t.first_commit_ts, CAST((-julianday(datetime(d.deadlines, 'unixepoch')) + julianday(t.first_commit_ts))*24 AS INTEGER) AS diff FROM test as t \" \\\n",
    "\"JOIN deadlines as d \" \\\n",
    "\"ON d.labs = t.labname \" \\\n",
    "\"WHERE t.labname != 'project1')\", connection)\n",
    "df_max"
   ]
  },
  {
   "cell_type": "markdown",
   "id": "772381ef",
   "metadata": {},
   "source": [
    "## do the same thing but for the average, using only one query, this time your dataframe should not include the uid column, and the dataframe name is df_avg"
   ]
  },
  {
   "cell_type": "code",
   "execution_count": 7,
   "id": "6f09baad",
   "metadata": {},
   "outputs": [
    {
     "data": {
      "text/html": [
       "<div>\n",
       "<style scoped>\n",
       "    .dataframe tbody tr th:only-of-type {\n",
       "        vertical-align: middle;\n",
       "    }\n",
       "\n",
       "    .dataframe tbody tr th {\n",
       "        vertical-align: top;\n",
       "    }\n",
       "\n",
       "    .dataframe thead th {\n",
       "        text-align: right;\n",
       "    }\n",
       "</style>\n",
       "<table border=\"1\" class=\"dataframe\">\n",
       "  <thead>\n",
       "    <tr style=\"text-align: right;\">\n",
       "      <th></th>\n",
       "      <th>AVG(diff)</th>\n",
       "    </tr>\n",
       "  </thead>\n",
       "  <tbody>\n",
       "    <tr>\n",
       "      <th>0</th>\n",
       "      <td>-89.125</td>\n",
       "    </tr>\n",
       "  </tbody>\n",
       "</table>\n",
       "</div>"
      ],
      "text/plain": [
       "   AVG(diff)\n",
       "0    -89.125"
      ]
     },
     "execution_count": 7,
     "metadata": {},
     "output_type": "execute_result"
    }
   ],
   "source": [
    "df_avg = pd.io.sql.read_sql(\"SELECT AVG(diff) FROM \"\n",
    "\"(SELECT t.uid, t.labname, t.first_commit_ts, CAST((-julianday(datetime(d.deadlines, 'unixepoch')) + julianday(t.first_commit_ts))*24 AS INTEGER) AS diff FROM test as t \" \\\n",
    "\"JOIN deadlines as d \" \\\n",
    "\"ON d.labs = t.labname \" \\\n",
    "\"WHERE t.labname != 'project1')\", connection)\n",
    "df_avg"
   ]
  },
  {
   "cell_type": "markdown",
   "id": "a16cf5ec",
   "metadata": {},
   "source": [
    "## we want to test the hypothesis that the users who visited the newsfeed just a few times have the lower delta between the first commit and the deadline. To do this, you need to calculate the correlation coefficient between the number of pageviews and the difference\n",
    "  * using only one query, create a table with the columns: uid, avg_diff, pageviews\n",
    "  * uid is the uids that exist in the test\n",
    "  * avg_diff is the average delta between the first commit and the lab deadline per user\n",
    "  * pageviews is the number of Newsfeed visits per user\n",
    "  * do not take the lab ’project1’ into account\n",
    "  * store it to the dataframe views_diff\n",
    "  * use the Pandas method corr() to calculate the correlation coefficient between\n",
    "the number of pageviews and the difference"
   ]
  },
  {
   "cell_type": "code",
   "execution_count": 8,
   "id": "39e809ea",
   "metadata": {},
   "outputs": [
    {
     "data": {
      "text/html": [
       "<div>\n",
       "<style scoped>\n",
       "    .dataframe tbody tr th:only-of-type {\n",
       "        vertical-align: middle;\n",
       "    }\n",
       "\n",
       "    .dataframe tbody tr th {\n",
       "        vertical-align: top;\n",
       "    }\n",
       "\n",
       "    .dataframe thead th {\n",
       "        text-align: right;\n",
       "    }\n",
       "</style>\n",
       "<table border=\"1\" class=\"dataframe\">\n",
       "  <thead>\n",
       "    <tr style=\"text-align: right;\">\n",
       "      <th></th>\n",
       "      <th>uid</th>\n",
       "      <th>diff</th>\n",
       "      <th>pageviews</th>\n",
       "    </tr>\n",
       "  </thead>\n",
       "  <tbody>\n",
       "    <tr>\n",
       "      <th>0</th>\n",
       "      <td>user_1</td>\n",
       "      <td>-6</td>\n",
       "      <td>28</td>\n",
       "    </tr>\n",
       "    <tr>\n",
       "      <th>1</th>\n",
       "      <td>user_10</td>\n",
       "      <td>-39</td>\n",
       "      <td>89</td>\n",
       "    </tr>\n",
       "    <tr>\n",
       "      <th>2</th>\n",
       "      <td>user_14</td>\n",
       "      <td>-200</td>\n",
       "      <td>143</td>\n",
       "    </tr>\n",
       "    <tr>\n",
       "      <th>3</th>\n",
       "      <td>user_17</td>\n",
       "      <td>-81</td>\n",
       "      <td>47</td>\n",
       "    </tr>\n",
       "    <tr>\n",
       "      <th>4</th>\n",
       "      <td>user_18</td>\n",
       "      <td>-4</td>\n",
       "      <td>3</td>\n",
       "    </tr>\n",
       "    <tr>\n",
       "      <th>5</th>\n",
       "      <td>user_19</td>\n",
       "      <td>-148</td>\n",
       "      <td>16</td>\n",
       "    </tr>\n",
       "    <tr>\n",
       "      <th>6</th>\n",
       "      <td>user_21</td>\n",
       "      <td>-126</td>\n",
       "      <td>10</td>\n",
       "    </tr>\n",
       "    <tr>\n",
       "      <th>7</th>\n",
       "      <td>user_25</td>\n",
       "      <td>-148</td>\n",
       "      <td>179</td>\n",
       "    </tr>\n",
       "    <tr>\n",
       "      <th>8</th>\n",
       "      <td>user_28</td>\n",
       "      <td>-98</td>\n",
       "      <td>149</td>\n",
       "    </tr>\n",
       "    <tr>\n",
       "      <th>9</th>\n",
       "      <td>user_3</td>\n",
       "      <td>-75</td>\n",
       "      <td>317</td>\n",
       "    </tr>\n",
       "    <tr>\n",
       "      <th>10</th>\n",
       "      <td>user_30</td>\n",
       "      <td>-202</td>\n",
       "      <td>3</td>\n",
       "    </tr>\n",
       "  </tbody>\n",
       "</table>\n",
       "</div>"
      ],
      "text/plain": [
       "        uid  diff  pageviews\n",
       "0    user_1    -6         28\n",
       "1   user_10   -39         89\n",
       "2   user_14  -200        143\n",
       "3   user_17   -81         47\n",
       "4   user_18    -4          3\n",
       "5   user_19  -148         16\n",
       "6   user_21  -126         10\n",
       "7   user_25  -148        179\n",
       "8   user_28   -98        149\n",
       "9    user_3   -75        317\n",
       "10  user_30  -202          3"
      ]
     },
     "execution_count": 8,
     "metadata": {},
     "output_type": "execute_result"
    }
   ],
   "source": [
    "views_diff = pd.io.sql.read_sql(\"SELECT t.uid, t.diff, p.pageviews FROM \"\n",
    "\"(SELECT t.uid, t.labname, t.first_commit_ts, CAST((-julianday(datetime(d.deadlines, 'unixepoch')) + julianday(t.first_commit_ts))*24 AS INTEGER) AS diff FROM test as t \" \\\n",
    "\"JOIN deadlines as d \" \\\n",
    "\"ON d.labs = t.labname \" \\\n",
    "\"WHERE t.labname != 'project1') as t \" \\\n",
    "\"JOIN \" \\\n",
    "\"(SELECT uid, COUNT(*) as pageviews FROM pageviews \" \\\n",
    "\"GROUP BY uid) \" \\\n",
    "\"as p ON p.uid = t.uid  \"  \\\n",
    "\"GROUP BY t.uid\", connection)\n",
    "views_diff"
   ]
  },
  {
   "cell_type": "code",
   "execution_count": 9,
   "id": "25c8eebd",
   "metadata": {},
   "outputs": [
    {
     "data": {
      "text/html": [
       "<div>\n",
       "<style scoped>\n",
       "    .dataframe tbody tr th:only-of-type {\n",
       "        vertical-align: middle;\n",
       "    }\n",
       "\n",
       "    .dataframe tbody tr th {\n",
       "        vertical-align: top;\n",
       "    }\n",
       "\n",
       "    .dataframe thead th {\n",
       "        text-align: right;\n",
       "    }\n",
       "</style>\n",
       "<table border=\"1\" class=\"dataframe\">\n",
       "  <thead>\n",
       "    <tr style=\"text-align: right;\">\n",
       "      <th></th>\n",
       "      <th>diff</th>\n",
       "      <th>pageviews</th>\n",
       "    </tr>\n",
       "  </thead>\n",
       "  <tbody>\n",
       "    <tr>\n",
       "      <th>diff</th>\n",
       "      <td>1.000000</td>\n",
       "      <td>-0.062967</td>\n",
       "    </tr>\n",
       "    <tr>\n",
       "      <th>pageviews</th>\n",
       "      <td>-0.062967</td>\n",
       "      <td>1.000000</td>\n",
       "    </tr>\n",
       "  </tbody>\n",
       "</table>\n",
       "</div>"
      ],
      "text/plain": [
       "               diff  pageviews\n",
       "diff       1.000000  -0.062967\n",
       "pageviews -0.062967   1.000000"
      ]
     },
     "execution_count": 9,
     "metadata": {},
     "output_type": "execute_result"
    }
   ],
   "source": [
    "views_diff.drop(columns=['uid']).corr()"
   ]
  },
  {
   "cell_type": "markdown",
   "id": "c9c118b6",
   "metadata": {},
   "source": [
    "## close the connection"
   ]
  },
  {
   "cell_type": "code",
   "execution_count": 114,
   "id": "f089af3a",
   "metadata": {},
   "outputs": [],
   "source": [
    "connection.close()"
   ]
  }
 ],
 "metadata": {
  "kernelspec": {
   "display_name": "Python 3",
   "language": "python",
   "name": "python3"
  },
  "language_info": {
   "codemirror_mode": {
    "name": "ipython",
    "version": 3
   },
   "file_extension": ".py",
   "mimetype": "text/x-python",
   "name": "python",
   "nbconvert_exporter": "python",
   "pygments_lexer": "ipython3",
   "version": "3.10.12"
  }
 },
 "nbformat": 4,
 "nbformat_minor": 5
}
