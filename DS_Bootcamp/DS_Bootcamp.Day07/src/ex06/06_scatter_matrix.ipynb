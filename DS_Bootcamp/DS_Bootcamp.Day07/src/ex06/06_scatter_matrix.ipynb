{
 "cells": [
  {
   "cell_type": "code",
   "execution_count": 1,
   "id": "5b3f844e",
   "metadata": {},
   "outputs": [],
   "source": [
    "import pandas as pd\n",
    "import sqlite3\n",
    "from pandas.plotting import scatter_matrix"
   ]
  },
  {
   "cell_type": "markdown",
   "id": "6f4e4d14",
   "metadata": {},
   "source": [
    "* create a dataframe where each user of the test group has the average difference, number of pageviews and number of commits\n",
    "* do not take project1 into account for calculations of the average difference and the number of commits\n",
    "* take the number of commits from the checker table\n",
    "* the figsize is still the same, you can choose whatever fontsize you like as well as the color palette\n",
    "* the size of the dots should be 200\n",
    "* the width of the lines of the diagonal graphs (kde) should be 3"
   ]
  },
  {
   "cell_type": "code",
   "execution_count": 14,
   "id": "88e19d8b",
   "metadata": {},
   "outputs": [
    {
     "data": {
      "text/html": [
       "<div>\n",
       "<style scoped>\n",
       "    .dataframe tbody tr th:only-of-type {\n",
       "        vertical-align: middle;\n",
       "    }\n",
       "\n",
       "    .dataframe tbody tr th {\n",
       "        vertical-align: top;\n",
       "    }\n",
       "\n",
       "    .dataframe thead th {\n",
       "        text-align: right;\n",
       "    }\n",
       "</style>\n",
       "<table border=\"1\" class=\"dataframe\">\n",
       "  <thead>\n",
       "    <tr style=\"text-align: right;\">\n",
       "      <th></th>\n",
       "      <th>uid</th>\n",
       "      <th>avg_diff</th>\n",
       "    </tr>\n",
       "  </thead>\n",
       "  <tbody>\n",
       "    <tr>\n",
       "      <th>0</th>\n",
       "      <td>user_1</td>\n",
       "      <td>-103.333333</td>\n",
       "    </tr>\n",
       "    <tr>\n",
       "      <th>1</th>\n",
       "      <td>user_1</td>\n",
       "      <td>-6.000000</td>\n",
       "    </tr>\n",
       "    <tr>\n",
       "      <th>2</th>\n",
       "      <td>user_18</td>\n",
       "      <td>-10.000000</td>\n",
       "    </tr>\n",
       "    <tr>\n",
       "      <th>3</th>\n",
       "      <td>user_18</td>\n",
       "      <td>-3.500000</td>\n",
       "    </tr>\n",
       "    <tr>\n",
       "      <th>4</th>\n",
       "      <td>user_19</td>\n",
       "      <td>-82.333333</td>\n",
       "    </tr>\n",
       "    <tr>\n",
       "      <th>5</th>\n",
       "      <td>user_19</td>\n",
       "      <td>-148.000000</td>\n",
       "    </tr>\n",
       "    <tr>\n",
       "      <th>6</th>\n",
       "      <td>user_21</td>\n",
       "      <td>-78.500000</td>\n",
       "    </tr>\n",
       "    <tr>\n",
       "      <th>7</th>\n",
       "      <td>user_21</td>\n",
       "      <td>-112.500000</td>\n",
       "    </tr>\n",
       "    <tr>\n",
       "      <th>8</th>\n",
       "      <td>user_25</td>\n",
       "      <td>-127.500000</td>\n",
       "    </tr>\n",
       "    <tr>\n",
       "      <th>9</th>\n",
       "      <td>user_25</td>\n",
       "      <td>-69.333333</td>\n",
       "    </tr>\n",
       "    <tr>\n",
       "      <th>10</th>\n",
       "      <td>user_28</td>\n",
       "      <td>-136.500000</td>\n",
       "    </tr>\n",
       "    <tr>\n",
       "      <th>11</th>\n",
       "      <td>user_28</td>\n",
       "      <td>-53.000000</td>\n",
       "    </tr>\n",
       "    <tr>\n",
       "      <th>12</th>\n",
       "      <td>user_3</td>\n",
       "      <td>-158.500000</td>\n",
       "    </tr>\n",
       "    <tr>\n",
       "      <th>13</th>\n",
       "      <td>user_3</td>\n",
       "      <td>-70.000000</td>\n",
       "    </tr>\n",
       "  </tbody>\n",
       "</table>\n",
       "</div>"
      ],
      "text/plain": [
       "        uid    avg_diff\n",
       "0    user_1 -103.333333\n",
       "1    user_1   -6.000000\n",
       "2   user_18  -10.000000\n",
       "3   user_18   -3.500000\n",
       "4   user_19  -82.333333\n",
       "5   user_19 -148.000000\n",
       "6   user_21  -78.500000\n",
       "7   user_21 -112.500000\n",
       "8   user_25 -127.500000\n",
       "9   user_25  -69.333333\n",
       "10  user_28 -136.500000\n",
       "11  user_28  -53.000000\n",
       "12   user_3 -158.500000\n",
       "13   user_3  -70.000000"
      ]
     },
     "execution_count": 14,
     "metadata": {},
     "output_type": "execute_result"
    }
   ],
   "source": [
    "ab_test = pd.read_csv('../../data/ab-test.csv')\n",
    "ab_test = ab_test[ab_test['group'] == 'test'][['uid', 'diff']]\n",
    "ab_test = ab_test.rename(columns={'diff' : 'avg_diff'})\n",
    "ab_test"
   ]
  },
  {
   "cell_type": "code",
   "execution_count": 16,
   "id": "16d0b59d",
   "metadata": {},
   "outputs": [],
   "source": [
    "connection = sqlite3.connect(\"../../data/checking-logs.sqlite\")\n",
    "\n",
    "commits = pd.read_sql(\"SELECT uid FROM checker \" \\\n",
    "\"WHERE uid LIKE 'user_%' AND labname NOT LIKE 'project1'\", connection)\n",
    "\n",
    "pageviews = pd.read_sql(\"SELECT uid FROM pageviews \" \\\n",
    "\"WHERE uid LIKE 'user_%' \", connection)\n",
    "\n",
    "connection.close()"
   ]
  },
  {
   "cell_type": "code",
   "execution_count": 17,
   "id": "91a0989b",
   "metadata": {},
   "outputs": [],
   "source": [
    "commits = pd.DataFrame(commits.groupby('uid').size()).reset_index().rename(columns={0 : 'num_commits'})\n",
    "pageviews = pd.DataFrame(pageviews.groupby('uid').size()).reset_index().rename(columns={0 : 'pageviews'})"
   ]
  },
  {
   "cell_type": "code",
   "execution_count": 18,
   "id": "a62d86c4",
   "metadata": {},
   "outputs": [
    {
     "data": {
      "text/html": [
       "<div>\n",
       "<style scoped>\n",
       "    .dataframe tbody tr th:only-of-type {\n",
       "        vertical-align: middle;\n",
       "    }\n",
       "\n",
       "    .dataframe tbody tr th {\n",
       "        vertical-align: top;\n",
       "    }\n",
       "\n",
       "    .dataframe thead th {\n",
       "        text-align: right;\n",
       "    }\n",
       "</style>\n",
       "<table border=\"1\" class=\"dataframe\">\n",
       "  <thead>\n",
       "    <tr style=\"text-align: right;\">\n",
       "      <th></th>\n",
       "      <th>uid</th>\n",
       "      <th>avg_diff</th>\n",
       "      <th>pageviews</th>\n",
       "      <th>num_commits</th>\n",
       "    </tr>\n",
       "  </thead>\n",
       "  <tbody>\n",
       "    <tr>\n",
       "      <th>0</th>\n",
       "      <td>user_1</td>\n",
       "      <td>-103.333333</td>\n",
       "      <td>28</td>\n",
       "      <td>62</td>\n",
       "    </tr>\n",
       "    <tr>\n",
       "      <th>1</th>\n",
       "      <td>user_1</td>\n",
       "      <td>-6.000000</td>\n",
       "      <td>28</td>\n",
       "      <td>62</td>\n",
       "    </tr>\n",
       "    <tr>\n",
       "      <th>2</th>\n",
       "      <td>user_18</td>\n",
       "      <td>-10.000000</td>\n",
       "      <td>3</td>\n",
       "      <td>5</td>\n",
       "    </tr>\n",
       "    <tr>\n",
       "      <th>3</th>\n",
       "      <td>user_18</td>\n",
       "      <td>-3.500000</td>\n",
       "      <td>3</td>\n",
       "      <td>5</td>\n",
       "    </tr>\n",
       "    <tr>\n",
       "      <th>4</th>\n",
       "      <td>user_19</td>\n",
       "      <td>-82.333333</td>\n",
       "      <td>16</td>\n",
       "      <td>118</td>\n",
       "    </tr>\n",
       "    <tr>\n",
       "      <th>5</th>\n",
       "      <td>user_19</td>\n",
       "      <td>-148.000000</td>\n",
       "      <td>16</td>\n",
       "      <td>118</td>\n",
       "    </tr>\n",
       "    <tr>\n",
       "      <th>6</th>\n",
       "      <td>user_21</td>\n",
       "      <td>-78.500000</td>\n",
       "      <td>10</td>\n",
       "      <td>65</td>\n",
       "    </tr>\n",
       "    <tr>\n",
       "      <th>7</th>\n",
       "      <td>user_21</td>\n",
       "      <td>-112.500000</td>\n",
       "      <td>10</td>\n",
       "      <td>65</td>\n",
       "    </tr>\n",
       "    <tr>\n",
       "      <th>8</th>\n",
       "      <td>user_25</td>\n",
       "      <td>-127.500000</td>\n",
       "      <td>179</td>\n",
       "      <td>79</td>\n",
       "    </tr>\n",
       "    <tr>\n",
       "      <th>9</th>\n",
       "      <td>user_25</td>\n",
       "      <td>-69.333333</td>\n",
       "      <td>179</td>\n",
       "      <td>79</td>\n",
       "    </tr>\n",
       "    <tr>\n",
       "      <th>10</th>\n",
       "      <td>user_28</td>\n",
       "      <td>-136.500000</td>\n",
       "      <td>149</td>\n",
       "      <td>60</td>\n",
       "    </tr>\n",
       "    <tr>\n",
       "      <th>11</th>\n",
       "      <td>user_28</td>\n",
       "      <td>-53.000000</td>\n",
       "      <td>149</td>\n",
       "      <td>60</td>\n",
       "    </tr>\n",
       "    <tr>\n",
       "      <th>12</th>\n",
       "      <td>user_3</td>\n",
       "      <td>-158.500000</td>\n",
       "      <td>317</td>\n",
       "      <td>18</td>\n",
       "    </tr>\n",
       "    <tr>\n",
       "      <th>13</th>\n",
       "      <td>user_3</td>\n",
       "      <td>-70.000000</td>\n",
       "      <td>317</td>\n",
       "      <td>18</td>\n",
       "    </tr>\n",
       "  </tbody>\n",
       "</table>\n",
       "</div>"
      ],
      "text/plain": [
       "        uid    avg_diff  pageviews  num_commits\n",
       "0    user_1 -103.333333         28           62\n",
       "1    user_1   -6.000000         28           62\n",
       "2   user_18  -10.000000          3            5\n",
       "3   user_18   -3.500000          3            5\n",
       "4   user_19  -82.333333         16          118\n",
       "5   user_19 -148.000000         16          118\n",
       "6   user_21  -78.500000         10           65\n",
       "7   user_21 -112.500000         10           65\n",
       "8   user_25 -127.500000        179           79\n",
       "9   user_25  -69.333333        179           79\n",
       "10  user_28 -136.500000        149           60\n",
       "11  user_28  -53.000000        149           60\n",
       "12   user_3 -158.500000        317           18\n",
       "13   user_3  -70.000000        317           18"
      ]
     },
     "execution_count": 18,
     "metadata": {},
     "output_type": "execute_result"
    }
   ],
   "source": [
    "res = ab_test.merge(pageviews, on='uid', how='inner')\n",
    "res = res.merge(commits, on = 'uid', how='inner')\n",
    "res"
   ]
  },
  {
   "cell_type": "code",
   "execution_count": 28,
   "id": "ccd2dca0",
   "metadata": {},
   "outputs": [
    {
     "data": {
      "text/plain": [
       "array([[<Axes: xlabel='avg_diff', ylabel='avg_diff'>,\n",
       "        <Axes: xlabel='pageviews', ylabel='avg_diff'>,\n",
       "        <Axes: xlabel='num_commits', ylabel='avg_diff'>],\n",
       "       [<Axes: xlabel='avg_diff', ylabel='pageviews'>,\n",
       "        <Axes: xlabel='pageviews', ylabel='pageviews'>,\n",
       "        <Axes: xlabel='num_commits', ylabel='pageviews'>],\n",
       "       [<Axes: xlabel='avg_diff', ylabel='num_commits'>,\n",
       "        <Axes: xlabel='pageviews', ylabel='num_commits'>,\n",
       "        <Axes: xlabel='num_commits', ylabel='num_commits'>]], dtype=object)"
      ]
     },
     "execution_count": 28,
     "metadata": {},
     "output_type": "execute_result"
    },
    {
     "data": {
      "image/png": "[encoded data removed]",
      "text/plain": [
       "<Figure size 1500x800 with 9 Axes>"
      ]
     },
     "metadata": {},
     "output_type": "display_data"
    }
   ],
   "source": [
    "scatter_matrix(res, figsize=(15, 8), diagonal='kde', linewidth=3, s=200, color='red')"
   ]
  },
  {
   "cell_type": "markdown",
   "id": "d57d8ac8",
   "metadata": {},
   "source": [
    "at the end of your Jupyter Notebook, create a markdown cell and insert the questions:\n",
    "* “Can we say that if a user has a low number of pageviews then they likely have a low number of commits?” The answer: yes or no.\n",
    "* “Can we say that if a user has a low number of pageviews then they likely have a small average difference between the first commit and the lab deadline?” The answer: yes or no.\n",
    "* “Can we say that there are many users with a low number of commits and a few with a high number of commits”? The answer: yes or no.\n",
    "* “Can we say that there are many users with a small average difference and a few with a large average difference”? The answer: yes or no."
   ]
  },
  {
   "cell_type": "markdown",
   "id": "efcde630",
   "metadata": {},
   "source": [
    "1) no, тк корреляция отрицательная  \n",
    "2) no, тк корреляция отрицательная  \n",
    "3) yes, тк среднее значение лежит ближе к min, чем к max   \n",
    "4) no, тк среднее значение ближе к min( а то есть абсолютный максимум, так как значения отрицательные)  \n"
   ]
  },
  {
   "cell_type": "code",
   "execution_count": 30,
   "id": "947135e7",
   "metadata": {},
   "outputs": [
    {
     "data": {
      "text/plain": [
       "np.float64(-0.2868372295098113)"
      ]
     },
     "execution_count": 30,
     "metadata": {},
     "output_type": "execute_result"
    }
   ],
   "source": [
    "res['pageviews'].corr(res['num_commits'])"
   ]
  },
  {
   "cell_type": "code",
   "execution_count": 31,
   "id": "da58cddc",
   "metadata": {},
   "outputs": [
    {
     "data": {
      "text/plain": [
       "np.float64(-0.3672434515505602)"
      ]
     },
     "execution_count": 31,
     "metadata": {},
     "output_type": "execute_result"
    }
   ],
   "source": [
    "res['pageviews'].corr(res['avg_diff'])"
   ]
  },
  {
   "cell_type": "code",
   "execution_count": 36,
   "id": "769ac113",
   "metadata": {},
   "outputs": [
    {
     "data": {
      "text/plain": [
       "(np.int64(5), np.float64(58.142857142857146), np.int64(118))"
      ]
     },
     "execution_count": 36,
     "metadata": {},
     "output_type": "execute_result"
    }
   ],
   "source": [
    "res['num_commits'].min(), res['num_commits'].mean(), res['num_commits'].max()"
   ]
  },
  {
   "cell_type": "code",
   "execution_count": 35,
   "id": "94d51dad",
   "metadata": {},
   "outputs": [
    {
     "data": {
      "text/plain": [
       "(np.float64(-158.5), np.float64(-82.78571428571429), np.float64(-3.5))"
      ]
     },
     "execution_count": 35,
     "metadata": {},
     "output_type": "execute_result"
    }
   ],
   "source": [
    "res['avg_diff'].min(), res['avg_diff'].mean(), res['avg_diff'].max()"
   ]
  },
  {
   "cell_type": "code",
   "execution_count": null,
   "id": "1c803c9e",
   "metadata": {},
   "outputs": [],
   "source": []
  }
 ],
 "metadata": {
  "kernelspec": {
   "display_name": "Python 3",
   "language": "python",
   "name": "python3"
  },
  "language_info": {
   "codemirror_mode": {
    "name": "ipython",
    "version": 3
   },
   "file_extension": ".py",
   "mimetype": "text/x-python",
   "name": "python",
   "nbconvert_exporter": "python",
   "pygments_lexer": "ipython3",
   "version": "3.10.12"
  }
 },
 "nbformat": 4,
 "nbformat_minor": 5
}
