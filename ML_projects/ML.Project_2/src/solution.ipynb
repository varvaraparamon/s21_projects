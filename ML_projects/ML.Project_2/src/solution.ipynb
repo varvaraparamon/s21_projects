{
 "cells": [
  {
   "cell_type": "markdown",
   "id": "402d7df0",
   "metadata": {},
   "source": [
    "## 1. Answer the questions\n",
    "- Derive an analytical solution to the regression problem. Use a vector form of the equation.\n",
    "- What changes in the solution when L1 and L2 regularizations are added to the loss function.\n",
    "- Explain why L1 regularization is often used to select features. Why are there many weights equal to 0 after the model is fit?\n",
    "- Explain how you can use the same models (Linear regression, Ridge, etc.) but make it possible to fit nonlinear dependencies."
   ]
  },
  {
   "cell_type": "markdown",
   "id": "cd2eda3f",
   "metadata": {},
   "source": [
    "1. y = Xw  \n",
    "нам необходимо найти самое близкое y' к подпространству образованному векторами-столбцами признаков xi  \n",
    "То есть ищем проекцию y на x1, ..., xD = y'\n",
    "Разложим y на y_параллельное + y_перпендикулярное  \n",
    "y_параллельное = Xw  \n",
    "y_перпендик. = y -  x - Xw  \n",
    "значит скалярное произведение y_перпендик. на каждый из столбцов признаков в силу перпендикулярности равно 0:  \n",
    "XT(y-Xw) = 0 =>  \n",
    "w = (XT*X)^(-1)*XT*y\n"
   ]
  },
  {
   "cell_type": "markdown",
   "id": "e1440cca",
   "metadata": {},
   "source": [
    "2. l1 и l2 регуляризация - штраф, добавляющийся в функцию потерь с целью борьбы с большими весами. Особенно полезно, если в данных присутсвует проблема мультиколлинеарности.  \n",
    "к лосс функции добавляется в случае l1 - сумма по модулям весов, в случае l2 - сумма квадратов весов, умноженные на коэффициент регуляризации"
   ]
  },
  {
   "cell_type": "markdown",
   "id": "33fb6d71",
   "metadata": {},
   "source": [
    "3. если отрисовать l1-регуляризацию на графике фич, то получится гиперкуб. Его \"углы\" как правило находятся на осях -> часть других координат нулевая. Проходя по линии функций потерь очень большая вероятность наткнуться как раз на этот самый угол -> часть весов может занулиться."
   ]
  },
  {
   "cell_type": "markdown",
   "id": "13bf7b46",
   "metadata": {},
   "source": [
    "4. добавить новые фичи на основе существующих - логарифм, синус, полиномы, что угодно"
   ]
  },
  {
   "cell_type": "markdown",
   "id": "31494e27",
   "metadata": {},
   "source": [
    "## 2. Introduction — make all the preprocessing staff from the previous lesson\n",
    "\n",
    "- Import libraries.\n",
    "- Read Train and Test Parts.\n",
    "- Preprocess \"Interest Level\" feature."
   ]
  },
  {
   "cell_type": "code",
   "execution_count": 1,
   "id": "e4416a24",
   "metadata": {},
   "outputs": [],
   "source": [
    "import pandas as pd\n",
    "import numpy as np\n",
    "import matplotlib.pyplot as plt\n",
    "from sklearn.model_selection import train_test_split\n",
    "from sklearn.preprocessing import OneHotEncoder"
   ]
  },
  {
   "cell_type": "code",
   "execution_count": 2,
   "id": "2737abdf",
   "metadata": {},
   "outputs": [
    {
     "data": {
      "text/html": [
       "<div>\n",
       "<style scoped>\n",
       "    .dataframe tbody tr th:only-of-type {\n",
       "        vertical-align: middle;\n",
       "    }\n",
       "\n",
       "    .dataframe tbody tr th {\n",
       "        vertical-align: top;\n",
       "    }\n",
       "\n",
       "    .dataframe thead th {\n",
       "        text-align: right;\n",
       "    }\n",
       "</style>\n",
       "<table border=\"1\" class=\"dataframe\">\n",
       "  <thead>\n",
       "    <tr style=\"text-align: right;\">\n",
       "      <th></th>\n",
       "      <th>bathrooms</th>\n",
       "      <th>bedrooms</th>\n",
       "      <th>building_id</th>\n",
       "      <th>created</th>\n",
       "      <th>description</th>\n",
       "      <th>display_address</th>\n",
       "      <th>features</th>\n",
       "      <th>latitude</th>\n",
       "      <th>listing_id</th>\n",
       "      <th>longitude</th>\n",
       "      <th>manager_id</th>\n",
       "      <th>photos</th>\n",
       "      <th>price</th>\n",
       "      <th>street_address</th>\n",
       "      <th>interest_level</th>\n",
       "    </tr>\n",
       "  </thead>\n",
       "  <tbody>\n",
       "    <tr>\n",
       "      <th>4</th>\n",
       "      <td>1.0</td>\n",
       "      <td>1</td>\n",
       "      <td>8579a0b0d54db803821a35a4a615e97a</td>\n",
       "      <td>2016-06-16 05:55:27</td>\n",
       "      <td>Spacious 1 Bedroom 1 Bathroom in Williamsburg!...</td>\n",
       "      <td>145 Borinquen Place</td>\n",
       "      <td>[Dining Room, Pre-War, Laundry in Building, Di...</td>\n",
       "      <td>40.7108</td>\n",
       "      <td>7170325</td>\n",
       "      <td>-73.9539</td>\n",
       "      <td>a10db4590843d78c784171a107bdacb4</td>\n",
       "      <td>[https://photos.renthop.com/2/7170325_3bb5ac84...</td>\n",
       "      <td>2400</td>\n",
       "      <td>145 Borinquen Place</td>\n",
       "      <td>medium</td>\n",
       "    </tr>\n",
       "    <tr>\n",
       "      <th>6</th>\n",
       "      <td>1.0</td>\n",
       "      <td>2</td>\n",
       "      <td>b8e75fc949a6cd8225b455648a951712</td>\n",
       "      <td>2016-06-01 05:44:33</td>\n",
       "      <td>BRAND NEW GUT RENOVATED TRUE 2 BEDROOMFind you...</td>\n",
       "      <td>East 44th</td>\n",
       "      <td>[Doorman, Elevator, Laundry in Building, Dishw...</td>\n",
       "      <td>40.7513</td>\n",
       "      <td>7092344</td>\n",
       "      <td>-73.9722</td>\n",
       "      <td>955db33477af4f40004820b4aed804a0</td>\n",
       "      <td>[https://photos.renthop.com/2/7092344_7663c19a...</td>\n",
       "      <td>3800</td>\n",
       "      <td>230 East 44th</td>\n",
       "      <td>low</td>\n",
       "    </tr>\n",
       "    <tr>\n",
       "      <th>9</th>\n",
       "      <td>1.0</td>\n",
       "      <td>2</td>\n",
       "      <td>cd759a988b8f23924b5a2058d5ab2b49</td>\n",
       "      <td>2016-06-14 15:19:59</td>\n",
       "      <td>**FLEX 2 BEDROOM WITH FULL PRESSURIZED WALL**L...</td>\n",
       "      <td>East 56th Street</td>\n",
       "      <td>[Doorman, Elevator, Laundry in Building, Laund...</td>\n",
       "      <td>40.7575</td>\n",
       "      <td>7158677</td>\n",
       "      <td>-73.9625</td>\n",
       "      <td>c8b10a317b766204f08e613cef4ce7a0</td>\n",
       "      <td>[https://photos.renthop.com/2/7158677_c897a134...</td>\n",
       "      <td>3495</td>\n",
       "      <td>405 East 56th Street</td>\n",
       "      <td>medium</td>\n",
       "    </tr>\n",
       "  </tbody>\n",
       "</table>\n",
       "</div>"
      ],
      "text/plain": [
       "   bathrooms  bedrooms                       building_id              created  \\\n",
       "4        1.0         1  8579a0b0d54db803821a35a4a615e97a  2016-06-16 05:55:27   \n",
       "6        1.0         2  b8e75fc949a6cd8225b455648a951712  2016-06-01 05:44:33   \n",
       "9        1.0         2  cd759a988b8f23924b5a2058d5ab2b49  2016-06-14 15:19:59   \n",
       "\n",
       "                                         description      display_address  \\\n",
       "4  Spacious 1 Bedroom 1 Bathroom in Williamsburg!...  145 Borinquen Place   \n",
       "6  BRAND NEW GUT RENOVATED TRUE 2 BEDROOMFind you...            East 44th   \n",
       "9  **FLEX 2 BEDROOM WITH FULL PRESSURIZED WALL**L...     East 56th Street   \n",
       "\n",
       "                                            features  latitude  listing_id  \\\n",
       "4  [Dining Room, Pre-War, Laundry in Building, Di...   40.7108     7170325   \n",
       "6  [Doorman, Elevator, Laundry in Building, Dishw...   40.7513     7092344   \n",
       "9  [Doorman, Elevator, Laundry in Building, Laund...   40.7575     7158677   \n",
       "\n",
       "   longitude                        manager_id  \\\n",
       "4   -73.9539  a10db4590843d78c784171a107bdacb4   \n",
       "6   -73.9722  955db33477af4f40004820b4aed804a0   \n",
       "9   -73.9625  c8b10a317b766204f08e613cef4ce7a0   \n",
       "\n",
       "                                              photos  price  \\\n",
       "4  [https://photos.renthop.com/2/7170325_3bb5ac84...   2400   \n",
       "6  [https://photos.renthop.com/2/7092344_7663c19a...   3800   \n",
       "9  [https://photos.renthop.com/2/7158677_c897a134...   3495   \n",
       "\n",
       "         street_address interest_level  \n",
       "4   145 Borinquen Place         medium  \n",
       "6         230 East 44th            low  \n",
       "9  405 East 56th Street         medium  "
      ]
     },
     "execution_count": 2,
     "metadata": {},
     "output_type": "execute_result"
    }
   ],
   "source": [
    "train = pd.read_json(\"data/train.json\")\n",
    "train.head(3)"
   ]
  },
  {
   "cell_type": "code",
   "execution_count": 3,
   "id": "c6bb830d",
   "metadata": {},
   "outputs": [],
   "source": [
    "test = pd.read_json(\"data/test.json\")"
   ]
  },
  {
   "cell_type": "code",
   "execution_count": 4,
   "id": "de1d1b9b",
   "metadata": {},
   "outputs": [],
   "source": [
    "encoder = OneHotEncoder(handle_unknown='ignore', drop='first', sparse_output=False)\n",
    "interest_level_encoded = encoder.fit_transform(pd.DataFrame(train['interest_level']))"
   ]
  },
  {
   "cell_type": "code",
   "execution_count": 5,
   "id": "efd2434e",
   "metadata": {},
   "outputs": [],
   "source": [
    "encoded_data = pd.DataFrame(interest_level_encoded, columns=encoder.get_feature_names_out())\n",
    "df_encoded = pd.concat([train.reset_index(), encoded_data.reset_index()], axis=1)\n",
    "df_encoded = df_encoded.drop(columns=['interest_level'])"
   ]
  },
  {
   "cell_type": "code",
   "execution_count": 6,
   "id": "868e47ae",
   "metadata": {},
   "outputs": [
    {
     "data": {
      "text/html": [
       "<div>\n",
       "<style scoped>\n",
       "    .dataframe tbody tr th:only-of-type {\n",
       "        vertical-align: middle;\n",
       "    }\n",
       "\n",
       "    .dataframe tbody tr th {\n",
       "        vertical-align: top;\n",
       "    }\n",
       "\n",
       "    .dataframe thead th {\n",
       "        text-align: right;\n",
       "    }\n",
       "</style>\n",
       "<table border=\"1\" class=\"dataframe\">\n",
       "  <thead>\n",
       "    <tr style=\"text-align: right;\">\n",
       "      <th></th>\n",
       "      <th>bathrooms</th>\n",
       "      <th>bedrooms</th>\n",
       "      <th>building_id</th>\n",
       "      <th>created</th>\n",
       "      <th>description</th>\n",
       "      <th>display_address</th>\n",
       "      <th>features</th>\n",
       "      <th>latitude</th>\n",
       "      <th>listing_id</th>\n",
       "      <th>longitude</th>\n",
       "      <th>manager_id</th>\n",
       "      <th>photos</th>\n",
       "      <th>price</th>\n",
       "      <th>street_address</th>\n",
       "      <th>interest_level_low</th>\n",
       "      <th>interest_level_medium</th>\n",
       "    </tr>\n",
       "  </thead>\n",
       "  <tbody>\n",
       "    <tr>\n",
       "      <th>4</th>\n",
       "      <td>1.0</td>\n",
       "      <td>1</td>\n",
       "      <td>8579a0b0d54db803821a35a4a615e97a</td>\n",
       "      <td>2016-06-16 05:55:27</td>\n",
       "      <td>Spacious 1 Bedroom 1 Bathroom in Williamsburg!...</td>\n",
       "      <td>145 Borinquen Place</td>\n",
       "      <td>[Dining Room, Pre-War, Laundry in Building, Di...</td>\n",
       "      <td>40.7108</td>\n",
       "      <td>7170325</td>\n",
       "      <td>-73.9539</td>\n",
       "      <td>a10db4590843d78c784171a107bdacb4</td>\n",
       "      <td>[https://photos.renthop.com/2/7170325_3bb5ac84...</td>\n",
       "      <td>2400</td>\n",
       "      <td>145 Borinquen Place</td>\n",
       "      <td>False</td>\n",
       "      <td>True</td>\n",
       "    </tr>\n",
       "  </tbody>\n",
       "</table>\n",
       "</div>"
      ],
      "text/plain": [
       "   bathrooms  bedrooms                       building_id              created  \\\n",
       "4        1.0         1  8579a0b0d54db803821a35a4a615e97a  2016-06-16 05:55:27   \n",
       "\n",
       "                                         description      display_address  \\\n",
       "4  Spacious 1 Bedroom 1 Bathroom in Williamsburg!...  145 Borinquen Place   \n",
       "\n",
       "                                            features  latitude  listing_id  \\\n",
       "4  [Dining Room, Pre-War, Laundry in Building, Di...   40.7108     7170325   \n",
       "\n",
       "   longitude                        manager_id  \\\n",
       "4   -73.9539  a10db4590843d78c784171a107bdacb4   \n",
       "\n",
       "                                              photos  price  \\\n",
       "4  [https://photos.renthop.com/2/7170325_3bb5ac84...   2400   \n",
       "\n",
       "        street_address  interest_level_low  interest_level_medium  \n",
       "4  145 Borinquen Place               False                   True  "
      ]
     },
     "execution_count": 6,
     "metadata": {},
     "output_type": "execute_result"
    }
   ],
   "source": [
    "pd.get_dummies(train, columns=['interest_level'], drop_first=True).head(1) ##более легкий способ"
   ]
  },
  {
   "cell_type": "markdown",
   "id": "c9727fe4",
   "metadata": {},
   "source": [
    "## 3. Intro data analysis part 2\n",
    "\n",
    "- Let's generate additional features for better model quality. Consider a column called \"Features\". It consists of a list of highlights of the current flat.\n",
    "- Remove unused symbols ([,], ', \", and space) from the column.\n",
    "- Get all values in each list and collect the result in one huge list for the whole dataset. You can use DataFrame.iterrows().\n",
    "- How many unique values does a result list contain?\n",
    "- Let's get acquainted with the new library — Collections. With this package you could effectively get quantity statistics about your data.\n",
    "- Count the most popular functions from our huge list and take the top 20 for this moment.\n",
    "- If everything is correct, you should get next values:  'Elevator', 'CatsAllowed', 'HardwoodFloors', 'DogsAllowed', 'Doorman', 'Dishwasher', 'NoFee', 'LaundryinBuilding', 'FitnessCenter', 'Pre-War', 'LaundryinUnit', 'RoofDeck', 'OutdoorSpace', 'DiningRoom', 'HighSpeedInternet', 'Balcony', 'SwimmingPool', 'LaundryInBuilding', 'NewConstruction', 'Terrace'.\n",
    "- Now create 20 new features based on the top 20 values: 1 if the value is in the \"Feature\" column, otherwise 0.\n",
    "- Extend our feature set with 'bathrooms', 'bedrooms' and create a special variable feature_list with all feature names. Now we have 22 values. All models should be trained on these 22 features."
   ]
  },
  {
   "cell_type": "code",
   "execution_count": 7,
   "id": "b7c141ea",
   "metadata": {},
   "outputs": [],
   "source": [
    "def clear_feature(l):\n",
    "    symbs = set([\"]\", \"[\", \"'\", '\"', \" \"])\n",
    "    for i, word in enumerate(l):\n",
    "        for symb in symbs:\n",
    "            l[i].replace(symb, \"\")\n",
    "    return l"
   ]
  },
  {
   "cell_type": "code",
   "execution_count": 8,
   "id": "55be58d2",
   "metadata": {},
   "outputs": [],
   "source": [
    "res = []\n",
    "for i, row in df_encoded.iterrows():\n",
    "    cleared = clear_feature(row['features'])\n",
    "    res.extend(cleared)"
   ]
  },
  {
   "cell_type": "code",
   "execution_count": 9,
   "id": "e39a993f",
   "metadata": {},
   "outputs": [
    {
     "data": {
      "text/plain": [
       "1556"
      ]
     },
     "execution_count": 9,
     "metadata": {},
     "output_type": "execute_result"
    }
   ],
   "source": [
    "# кол-во уникальных значений:\n",
    "len(set(res))"
   ]
  },
  {
   "cell_type": "code",
   "execution_count": 10,
   "id": "f2f7713c",
   "metadata": {},
   "outputs": [
    {
     "data": {
      "text/plain": [
       "[('Elevator', 25915),\n",
       " ('Cats Allowed', 23540),\n",
       " ('Hardwood Floors', 23527),\n",
       " ('Dogs Allowed', 22035),\n",
       " ('Doorman', 20898),\n",
       " ('Dishwasher', 20426),\n",
       " ('No Fee', 18062),\n",
       " ('Laundry in Building', 16344),\n",
       " ('Fitness Center', 13252),\n",
       " ('Pre-War', 9148),\n",
       " ('Laundry in Unit', 8738),\n",
       " ('Roof Deck', 6542),\n",
       " ('Outdoor Space', 5268),\n",
       " ('Dining Room', 5136),\n",
       " ('High Speed Internet', 4299),\n",
       " ('Balcony', 2992),\n",
       " ('Swimming Pool', 2730),\n",
       " ('Laundry In Building', 2593),\n",
       " ('New Construction', 2559),\n",
       " ('Terrace', 2283)]"
      ]
     },
     "execution_count": 10,
     "metadata": {},
     "output_type": "execute_result"
    }
   ],
   "source": [
    "from collections import Counter\n",
    "\n",
    "res_counter = Counter(res).most_common(20)\n",
    "res_counter"
   ]
  },
  {
   "cell_type": "code",
   "execution_count": 11,
   "id": "03858f8f",
   "metadata": {},
   "outputs": [],
   "source": [
    "res_labels = set(x[0] for x in res_counter)"
   ]
  },
  {
   "cell_type": "code",
   "execution_count": 12,
   "id": "630e2366",
   "metadata": {},
   "outputs": [],
   "source": [
    "df = pd.DataFrame(data = [[0]*20 for i in range(len(df_encoded))], columns=list(res_labels))\n",
    "\n",
    "for i, row in df.iterrows():\n",
    "    for word in df_encoded['features'][i]:\n",
    "        if word in res_labels:\n",
    "            row[word] = 1"
   ]
  },
  {
   "cell_type": "code",
   "execution_count": 13,
   "id": "b15cdbc4",
   "metadata": {},
   "outputs": [
    {
     "data": {
      "text/html": [
       "<div>\n",
       "<style scoped>\n",
       "    .dataframe tbody tr th:only-of-type {\n",
       "        vertical-align: middle;\n",
       "    }\n",
       "\n",
       "    .dataframe tbody tr th {\n",
       "        vertical-align: top;\n",
       "    }\n",
       "\n",
       "    .dataframe thead th {\n",
       "        text-align: right;\n",
       "    }\n",
       "</style>\n",
       "<table border=\"1\" class=\"dataframe\">\n",
       "  <thead>\n",
       "    <tr style=\"text-align: right;\">\n",
       "      <th></th>\n",
       "      <th>index</th>\n",
       "      <th>bathrooms</th>\n",
       "      <th>index</th>\n",
       "      <th>bedrooms</th>\n",
       "      <th>index</th>\n",
       "      <th>Laundry in Building</th>\n",
       "      <th>Dining Room</th>\n",
       "      <th>Outdoor Space</th>\n",
       "      <th>Pre-War</th>\n",
       "      <th>Elevator</th>\n",
       "      <th>...</th>\n",
       "      <th>Laundry in Unit</th>\n",
       "      <th>No Fee</th>\n",
       "      <th>Terrace</th>\n",
       "      <th>Cats Allowed</th>\n",
       "      <th>Balcony</th>\n",
       "      <th>Laundry In Building</th>\n",
       "      <th>Swimming Pool</th>\n",
       "      <th>Roof Deck</th>\n",
       "      <th>Hardwood Floors</th>\n",
       "      <th>New Construction</th>\n",
       "    </tr>\n",
       "  </thead>\n",
       "  <tbody>\n",
       "    <tr>\n",
       "      <th>0</th>\n",
       "      <td>0</td>\n",
       "      <td>1.0</td>\n",
       "      <td>0</td>\n",
       "      <td>1</td>\n",
       "      <td>0</td>\n",
       "      <td>1</td>\n",
       "      <td>1</td>\n",
       "      <td>0</td>\n",
       "      <td>1</td>\n",
       "      <td>0</td>\n",
       "      <td>...</td>\n",
       "      <td>0</td>\n",
       "      <td>0</td>\n",
       "      <td>0</td>\n",
       "      <td>1</td>\n",
       "      <td>0</td>\n",
       "      <td>0</td>\n",
       "      <td>0</td>\n",
       "      <td>0</td>\n",
       "      <td>1</td>\n",
       "      <td>0</td>\n",
       "    </tr>\n",
       "    <tr>\n",
       "      <th>1</th>\n",
       "      <td>1</td>\n",
       "      <td>1.0</td>\n",
       "      <td>1</td>\n",
       "      <td>2</td>\n",
       "      <td>1</td>\n",
       "      <td>1</td>\n",
       "      <td>0</td>\n",
       "      <td>0</td>\n",
       "      <td>0</td>\n",
       "      <td>1</td>\n",
       "      <td>...</td>\n",
       "      <td>0</td>\n",
       "      <td>1</td>\n",
       "      <td>0</td>\n",
       "      <td>0</td>\n",
       "      <td>0</td>\n",
       "      <td>0</td>\n",
       "      <td>0</td>\n",
       "      <td>0</td>\n",
       "      <td>1</td>\n",
       "      <td>0</td>\n",
       "    </tr>\n",
       "    <tr>\n",
       "      <th>2</th>\n",
       "      <td>2</td>\n",
       "      <td>1.0</td>\n",
       "      <td>2</td>\n",
       "      <td>2</td>\n",
       "      <td>2</td>\n",
       "      <td>1</td>\n",
       "      <td>0</td>\n",
       "      <td>0</td>\n",
       "      <td>0</td>\n",
       "      <td>1</td>\n",
       "      <td>...</td>\n",
       "      <td>1</td>\n",
       "      <td>0</td>\n",
       "      <td>0</td>\n",
       "      <td>0</td>\n",
       "      <td>0</td>\n",
       "      <td>0</td>\n",
       "      <td>0</td>\n",
       "      <td>0</td>\n",
       "      <td>1</td>\n",
       "      <td>0</td>\n",
       "    </tr>\n",
       "    <tr>\n",
       "      <th>3</th>\n",
       "      <td>3</td>\n",
       "      <td>1.5</td>\n",
       "      <td>3</td>\n",
       "      <td>3</td>\n",
       "      <td>3</td>\n",
       "      <td>0</td>\n",
       "      <td>0</td>\n",
       "      <td>0</td>\n",
       "      <td>0</td>\n",
       "      <td>0</td>\n",
       "      <td>...</td>\n",
       "      <td>0</td>\n",
       "      <td>0</td>\n",
       "      <td>0</td>\n",
       "      <td>0</td>\n",
       "      <td>0</td>\n",
       "      <td>0</td>\n",
       "      <td>0</td>\n",
       "      <td>0</td>\n",
       "      <td>0</td>\n",
       "      <td>0</td>\n",
       "    </tr>\n",
       "    <tr>\n",
       "      <th>4</th>\n",
       "      <td>4</td>\n",
       "      <td>1.0</td>\n",
       "      <td>4</td>\n",
       "      <td>0</td>\n",
       "      <td>4</td>\n",
       "      <td>1</td>\n",
       "      <td>0</td>\n",
       "      <td>0</td>\n",
       "      <td>0</td>\n",
       "      <td>1</td>\n",
       "      <td>...</td>\n",
       "      <td>0</td>\n",
       "      <td>0</td>\n",
       "      <td>0</td>\n",
       "      <td>0</td>\n",
       "      <td>0</td>\n",
       "      <td>0</td>\n",
       "      <td>0</td>\n",
       "      <td>0</td>\n",
       "      <td>0</td>\n",
       "      <td>0</td>\n",
       "    </tr>\n",
       "  </tbody>\n",
       "</table>\n",
       "<p>5 rows × 25 columns</p>\n",
       "</div>"
      ],
      "text/plain": [
       "   index  bathrooms  index  bedrooms  index  Laundry in Building  Dining Room  \\\n",
       "0      0        1.0      0         1      0                    1            1   \n",
       "1      1        1.0      1         2      1                    1            0   \n",
       "2      2        1.0      2         2      2                    1            0   \n",
       "3      3        1.5      3         3      3                    0            0   \n",
       "4      4        1.0      4         0      4                    1            0   \n",
       "\n",
       "   Outdoor Space  Pre-War  Elevator  ...  Laundry in Unit  No Fee  Terrace  \\\n",
       "0              0        1         0  ...                0       0        0   \n",
       "1              0        0         1  ...                0       1        0   \n",
       "2              0        0         1  ...                1       0        0   \n",
       "3              0        0         0  ...                0       0        0   \n",
       "4              0        0         1  ...                0       0        0   \n",
       "\n",
       "   Cats Allowed  Balcony  Laundry In Building  Swimming Pool  Roof Deck  \\\n",
       "0             1        0                    0              0          0   \n",
       "1             0        0                    0              0          0   \n",
       "2             0        0                    0              0          0   \n",
       "3             0        0                    0              0          0   \n",
       "4             0        0                    0              0          0   \n",
       "\n",
       "   Hardwood Floors  New Construction  \n",
       "0                1                 0  \n",
       "1                1                 0  \n",
       "2                1                 0  \n",
       "3                0                 0  \n",
       "4                0                 0  \n",
       "\n",
       "[5 rows x 25 columns]"
      ]
     },
     "execution_count": 13,
     "metadata": {},
     "output_type": "execute_result"
    }
   ],
   "source": [
    "df = pd.concat([df_encoded['bathrooms'].reset_index(), df_encoded['bedrooms'].reset_index(), df.reset_index()], axis=1)\n",
    "df.head()"
   ]
  },
  {
   "cell_type": "code",
   "execution_count": 14,
   "id": "6fe17954",
   "metadata": {},
   "outputs": [],
   "source": [
    "df = df.drop(columns=['index'])"
   ]
  },
  {
   "cell_type": "code",
   "execution_count": 15,
   "id": "1052e718",
   "metadata": {},
   "outputs": [],
   "source": [
    "feature_list = list(df.columns)"
   ]
  },
  {
   "cell_type": "markdown",
   "id": "97df7ffa",
   "metadata": {},
   "source": [
    "## Models implementation — Linear regression\n",
    "\n",
    "- Initialize the random number generator with a seed of 21.\n",
    "- Implement a Python class for a linear regression algorithm with two basic methods — fit and predict. Use stochastic gradient descent (SGD) to find optimal model weights. For better understanding, we recommend implementing separate versions of the algorithm with the analytical solution and non-stochastic gradient descent under the hood.\n",
    "- What is determenistic model? Make SGD determenistic.\n",
    "- Define the R squared (R2) coefficient and implement a function to calculate it.\n",
    "- Make predictions with your algorithm and estimate the model with MAE, RMSE and R2 metrics.\n",
    "- Initialize LinearRegression() from sklearn.linear_model, fit the model, and predict the training and test parts as in the previous lesson.\n",
    "- Compare the quality metrics and make sure the difference is small (between your implementations and sklearn).\n",
    "- Store the metrics as in the previous lesson in a table with columns model, train, test for MAE table, RMSE table, and R2 coefficient."
   ]
  },
  {
   "cell_type": "code",
   "execution_count": 16,
   "id": "eb7cd07b",
   "metadata": {},
   "outputs": [],
   "source": [
    "import random\n",
    "random.seed(21)"
   ]
  },
  {
   "cell_type": "code",
   "execution_count": 17,
   "id": "fc1c53e0",
   "metadata": {},
   "outputs": [],
   "source": [
    "# аналитическое решение\n",
    "\n",
    "class LinearRegressionAN:\n",
    "    def __init__(self):\n",
    "        self.weights = None\n",
    "\n",
    "    def fit(self, X, y):\n",
    "        X = np.insert(X, 0, 1, axis=1)\n",
    "        X_reversed = np.linalg.inv(X.T.dot(X))\n",
    "        self.weights = X_reversed.dot(X.T.dot(y))\n",
    "        \n",
    "    def predict(self, X):\n",
    "        X = np.insert(X, 0, 1, axis=1)\n",
    "        return X @ self.weights"
   ]
  },
  {
   "cell_type": "code",
   "execution_count": 18,
   "id": "3cf0ea8d",
   "metadata": {},
   "outputs": [],
   "source": [
    "# GD\n",
    "\n",
    "class LinearRegressionGD:\n",
    "    def __init__(self, lr=10e-3, max_iter=1000):\n",
    "        self.weights = None\n",
    "        self.bias = None\n",
    "        self.lr = lr\n",
    "        self.max_iter = max_iter\n",
    "        \n",
    "    def fit(self, X, y):\n",
    "        n_samples, n_features = X.shape\n",
    "        self.bias, self.weights = 0, np.zeros(n_features)\n",
    "\n",
    "        for _ in range(self.max_iter):\n",
    "            y_pred = X @ self.weights + self.bias\n",
    "\n",
    "            err = y_pred - y\n",
    "            grad_b = 2 / n_samples * np.sum(err)\n",
    "            grad_w = 2 / n_samples * X.T @ err\n",
    "            \n",
    "            self.bias -= self.lr * grad_b\n",
    "            self.weights -=  self.lr * grad_w\n",
    "            \n",
    "    def predict(self, X):\n",
    "        return X @ self.weights + self.bias"
   ]
  },
  {
   "cell_type": "code",
   "execution_count": 19,
   "id": "5a19b94a",
   "metadata": {},
   "outputs": [],
   "source": [
    "# SGD\n",
    "# чтобы сгд выдавал всегда один и тот же результат фиксируем random seed\n",
    "\n",
    "class LinearRegressionSGD:\n",
    "    def __init__(self, lr=10e-3, max_iter=1000, random_state=21):\n",
    "        self.weights = None\n",
    "        self.bias = None\n",
    "        self.lr = lr\n",
    "        self.max_iter = max_iter\n",
    "        self.random_state = random_state\n",
    "        \n",
    "    def fit(self, X, y):\n",
    "        np.random.seed(self.random_state)\n",
    "        \n",
    "        n_samples, n_features = X.shape\n",
    "        self.bias, self.weights = 0, np.zeros(n_features)\n",
    "\n",
    "        for _ in range(self.max_iter):\n",
    "            i = np.random.randint(n_samples)\n",
    "            y_pred = X.iloc[i] @ self.weights + self.bias\n",
    "\n",
    "            err = y_pred - y.iloc[i]\n",
    "            self.bias -= 2 * self.lr * err\n",
    "            self.weights -= 2 * self.lr * err * X.iloc[i]\n",
    "\n",
    "    def predict(self, X):\n",
    "        return X @ self.weights + self.bias\n",
    "\n"
   ]
  },
  {
   "cell_type": "code",
   "execution_count": 20,
   "id": "e9893b07",
   "metadata": {},
   "outputs": [],
   "source": [
    "def mae_my(y_pred, y):\n",
    "    return 1 / len(y) * sum(np.abs(y - y_pred))\n",
    "\n",
    "def rmse_my(y_pred, y):\n",
    "    mse = 1 / len(y) * sum(np.square(y - y_pred))\n",
    "    return np.sqrt(mse)\n",
    "\n",
    "def r2_my(y_pred, y):\n",
    "    return 1 - sum(np.square(y - y_pred))/sum(np.square(y - y.mean()))"
   ]
  },
  {
   "cell_type": "code",
   "execution_count": 21,
   "id": "aa6069aa",
   "metadata": {},
   "outputs": [],
   "source": [
    "X = df\n",
    "y = df_encoded['price']\n",
    "\n",
    "X_train, X_test, y_train, y_test = train_test_split(X, y, random_state=21, test_size=0.2)"
   ]
  },
  {
   "cell_type": "code",
   "execution_count": null,
   "id": "6609976f",
   "metadata": {},
   "outputs": [
    {
     "data": {
      "text/plain": [
       "(1049.5117652386841, np.float64(2193.9422611603177), 0.32585381050787654)"
      ]
     },
     "execution_count": 22,
     "metadata": {},
     "output_type": "execute_result"
    }
   ],
   "source": [
    "linreg_an = LinearRegressionAN()\n",
    "linreg_an.fit(X_train, y_train)  \n",
    "y_pred_an = linreg_an.predict(X_test)\n",
    "\n",
    "mae_my(y_pred_an, y_test), rmse_my(y_pred_an, y_test), r2_my(y_pred_an, y_test)"
   ]
  },
  {
   "cell_type": "code",
   "execution_count": 23,
   "id": "9be164fd",
   "metadata": {},
   "outputs": [
    {
     "data": {
      "text/plain": [
       "(1016.7704625577406, np.float64(2178.233989368011), 0.3354728069519719)"
      ]
     },
     "execution_count": 23,
     "metadata": {},
     "output_type": "execute_result"
    }
   ],
   "source": [
    "linreg_gd = LinearRegressionGD()\n",
    "linreg_gd.fit(X_train, y_train)\n",
    "y_pred_gd = linreg_gd.predict(X_test)\n",
    "\n",
    "mae_my(y_pred_gd, y_test), rmse_my(y_pred_gd, y_test), r2_my(y_pred_gd, y_test)"
   ]
  },
  {
   "cell_type": "code",
   "execution_count": 24,
   "id": "2f161772",
   "metadata": {},
   "outputs": [
    {
     "data": {
      "text/plain": [
       "(1008.4694867236212, np.float64(2173.69782892445), 0.33823767357660206)"
      ]
     },
     "execution_count": 24,
     "metadata": {},
     "output_type": "execute_result"
    }
   ],
   "source": [
    "linreg_sgd = LinearRegressionSGD(lr=0.01, max_iter=10000)\n",
    "linreg_sgd.fit(X_train, y_train)\n",
    "y_pred_sgd = linreg_sgd.predict(X_test)\n",
    "\n",
    "mae_my(y_pred_sgd, y_test), rmse_my(y_pred_sgd, y_test), r2_my(y_pred_sgd, y_test)"
   ]
  },
  {
   "cell_type": "code",
   "execution_count": null,
   "id": "25506213",
   "metadata": {},
   "outputs": [
    {
     "data": {
      "text/plain": [
       "(1049.5117652386868, np.float64(2193.94226116032), 0.3258538105078752)"
      ]
     },
     "execution_count": 25,
     "metadata": {},
     "output_type": "execute_result"
    }
   ],
   "source": [
    "from sklearn.linear_model import LinearRegression\n",
    "\n",
    "linreg = LinearRegression()\n",
    "linreg.fit(X_train, y_train)\n",
    "y_pred = linreg.predict(X_test) \n",
    "\n",
    "mae_my(y_pred, y_test), rmse_my(y_pred, y_test), r2_my(y_pred, y_test)"
   ]
  },
  {
   "cell_type": "code",
   "execution_count": 26,
   "id": "b93c44f8",
   "metadata": {},
   "outputs": [],
   "source": [
    "res_mae = pd.DataFrame(columns=['model', 'train', 'test'])\n",
    "res_rmse = pd.DataFrame(columns=['model', 'train', 'test'])\n",
    "res_r2 = pd.DataFrame(columns=['model', 'train', 'test'])\n",
    "\n",
    "def append_results(model, model_name, res_mae=res_mae, res_rmse=res_rmse, res_r2=res_r2, X_train=X_train, X_test=X_test, y_train=y_train, y_test=y_test):\n",
    "    y_pred_train = model.predict(X_train)\n",
    "    y_pred_test = model.predict(X_test)\n",
    "\n",
    "    mae_train = mae_my(y_pred_train, y_train)\n",
    "    mae_test = mae_my(y_pred_test, y_test)\n",
    "    rmse_train = rmse_my(y_pred_train, y_train)\n",
    "    rmse_test = rmse_my(y_pred_test, y_test)\n",
    "    r2_train = r2_my(y_pred_train, y_train)\n",
    "    r2_test = r2_my(y_pred_test, y_test)\n",
    "\n",
    "    mae_row = pd.DataFrame({'model' : [model_name], 'train' : [mae_train], 'test' : [mae_test]})\n",
    "    rmse_row = pd.DataFrame({'model' : [model_name], 'train' : [rmse_train], 'test' : [rmse_test]})\n",
    "    r2_row = pd.DataFrame({'model' : [model_name], 'train' : [r2_train], 'test' : [r2_test]})\n",
    "\n",
    "    res_mae = pd.concat([res_mae, mae_row])\n",
    "    res_rmse = pd.concat([res_rmse, rmse_row], ignore_index=True)\n",
    "    res_r2 = pd.concat([res_r2, r2_row], ignore_index=True)\n",
    "\n",
    "    return res_mae, res_rmse, res_r2\n",
    "    "
   ]
  },
  {
   "cell_type": "code",
   "execution_count": 27,
   "id": "67c53edf",
   "metadata": {},
   "outputs": [
    {
     "name": "stderr",
     "output_type": "stream",
     "text": [
      "/tmp/ipykernel_25862/1512106394.py:20: FutureWarning: The behavior of DataFrame concatenation with empty or all-NA entries is deprecated. In a future version, this will no longer exclude empty or all-NA columns when determining the result dtypes. To retain the old behavior, exclude the relevant entries before the concat operation.\n",
      "  res_mae = pd.concat([res_mae, mae_row])\n",
      "/tmp/ipykernel_25862/1512106394.py:21: FutureWarning: The behavior of DataFrame concatenation with empty or all-NA entries is deprecated. In a future version, this will no longer exclude empty or all-NA columns when determining the result dtypes. To retain the old behavior, exclude the relevant entries before the concat operation.\n",
      "  res_rmse = pd.concat([res_rmse, rmse_row], ignore_index=True)\n",
      "/tmp/ipykernel_25862/1512106394.py:22: FutureWarning: The behavior of DataFrame concatenation with empty or all-NA entries is deprecated. In a future version, this will no longer exclude empty or all-NA columns when determining the result dtypes. To retain the old behavior, exclude the relevant entries before the concat operation.\n",
      "  res_r2 = pd.concat([res_r2, r2_row], ignore_index=True)\n"
     ]
    }
   ],
   "source": [
    "res_mae, res_rmse, res_r2 = append_results(linreg_an, \"Analytical\", res_mae, res_rmse, res_r2, X_train, X_test, y_train, y_test)\n",
    "res_mae, res_rmse, res_r2 = append_results(linreg_gd, \"GD\", res_mae, res_rmse, res_r2, X_train, X_test, y_train, y_test)\n",
    "res_mae, res_rmse, res_r2 = append_results(linreg_sgd, \"SGD\", res_mae, res_rmse, res_r2, X_train, X_test, y_train, y_test)\n",
    "res_mae, res_rmse, res_r2 = append_results(linreg, \"Skleran original\", res_mae, res_rmse, res_r2, X_train, X_test, y_train, y_test)"
   ]
  },
  {
   "cell_type": "markdown",
   "id": "7246ee26",
   "metadata": {},
   "source": [
    "## 5.Regularized models implementation — Ridge, Lasso, ElasticNet\n",
    "\n",
    "- Implement Ridge, Lasso, ElasticNet algorithms: extend the loss function with L2, L1 and both regularizations accordingly.\n",
    "- Make predictions with your algorithm and estimate the model with MAE, RMSE and R2 metrics.\n",
    "- Initialize Ridge(), Lasso(), and ElasticNet() from sklearn.linear_model, fit the model, and make predictions for the training and test - samples as in the previous lesson.\n",
    "- Compare quality metrics and make sure the difference is small (between your implementations and sklearn).\n",
    "- Store the metrics as in the previous lesson in a table "
   ]
  },
  {
   "cell_type": "code",
   "execution_count": 28,
   "id": "41f8c516",
   "metadata": {},
   "outputs": [],
   "source": [
    "class LinearRegressionSGD_Lasso:\n",
    "    def __init__(self, lr=10e-3, max_iter=1000, random_state=21, alpha=0.1):\n",
    "        self.weights = None\n",
    "        self.bias = None\n",
    "        self.lr = lr\n",
    "        self.max_iter = max_iter\n",
    "        self.random_state = random_state\n",
    "        self.alpha = alpha\n",
    "        \n",
    "    def fit(self, X, y):\n",
    "        np.random.seed(self.random_state)\n",
    "        \n",
    "        n_samples, n_features = X.shape\n",
    "        self.bias, self.weights = 0, np.zeros(n_features)\n",
    "\n",
    "        for _ in range(self.max_iter):\n",
    "            i = np.random.randint(n_samples)\n",
    "            y_pred = X.iloc[i] @ self.weights + self.bias\n",
    "\n",
    "            err = y_pred - y.iloc[i]\n",
    "            self.bias -= 2 * self.lr * err\n",
    "            self.weights -= self.lr * (2 * err * X.iloc[i] + self.alpha * np.sign(self.weights))\n",
    "\n",
    "    def predict(self, X):\n",
    "        return X @ self.weights + self.bias"
   ]
  },
  {
   "cell_type": "code",
   "execution_count": 29,
   "id": "055cffd2",
   "metadata": {},
   "outputs": [],
   "source": [
    "class LinearRegressionSGD_Ridge:\n",
    "    def __init__(self, lr=10e-3, max_iter=1000, random_state=21, alpha=0.1):\n",
    "        self.weights = None\n",
    "        self.bias = None\n",
    "        self.lr = lr\n",
    "        self.max_iter = max_iter\n",
    "        self.random_state = random_state\n",
    "        self.alpha = alpha\n",
    "        \n",
    "    def fit(self, X, y):\n",
    "        np.random.seed(self.random_state)\n",
    "        \n",
    "        n_samples, n_features = X.shape\n",
    "        self.bias, self.weights = 0, np.zeros(n_features)\n",
    "\n",
    "        for _ in range(self.max_iter):\n",
    "            i = np.random.randint(n_samples)\n",
    "            y_pred = X.iloc[i] @ self.weights + self.bias\n",
    "\n",
    "            err = y_pred - y.iloc[i]\n",
    "            self.bias -= 2 * self.lr * err\n",
    "            self.weights -= 2 * self.lr * (err * X.iloc[i] + self.alpha * self.weights)\n",
    "\n",
    "    def predict(self, X):\n",
    "        return X @ self.weights + self.bias"
   ]
  },
  {
   "cell_type": "code",
   "execution_count": 30,
   "id": "181ca20a",
   "metadata": {},
   "outputs": [],
   "source": [
    "class LinearRegressionSGD_ElasticNet:\n",
    "    def __init__(self, lr=10e-3, max_iter=1000, random_state=21, alpha=0.1):\n",
    "        self.weights = None\n",
    "        self.bias = None\n",
    "        self.lr = lr\n",
    "        self.max_iter = max_iter\n",
    "        self.random_state = random_state\n",
    "        self.alpha = alpha\n",
    "        \n",
    "    def fit(self, X, y):\n",
    "        np.random.seed(self.random_state)\n",
    "        \n",
    "        n_samples, n_features = X.shape\n",
    "        self.bias, self.weights = 0, np.zeros(n_features)\n",
    "\n",
    "        for _ in range(self.max_iter):\n",
    "            i = np.random.randint(n_samples)\n",
    "            y_pred = X.iloc[i] @ self.weights + self.bias\n",
    "\n",
    "            err = y_pred - y.iloc[i]\n",
    "            self.bias -= 2 * self.lr * err\n",
    "            self.weights -= self.lr * (2 * err * X.iloc[i] + 2 * self.alpha * self.weights + self.alpha * np.sign(self.weights))\n",
    "\n",
    "    def predict(self, X):\n",
    "        return X @ self.weights + self.bias"
   ]
  },
  {
   "cell_type": "code",
   "execution_count": 31,
   "id": "2ec58ef5",
   "metadata": {},
   "outputs": [
    {
     "data": {
      "text/plain": [
       "(1008.3231222864138, np.float64(2173.613921394713), 0.33828876234307226)"
      ]
     },
     "execution_count": 31,
     "metadata": {},
     "output_type": "execute_result"
    }
   ],
   "source": [
    "lasso_my = LinearRegressionSGD_Lasso(lr=0.01, max_iter=10000)\n",
    "lasso_my.fit(X_train, y_train)\n",
    "y_pred_lasso_my = lasso_my.predict(X_test)\n",
    "\n",
    "mae_my(y_pred_lasso_my, y_test), rmse_my(y_pred_lasso_my, y_test), r2_my(y_pred_lasso_my, y_test)"
   ]
  },
  {
   "cell_type": "code",
   "execution_count": 32,
   "id": "6af3f7a4",
   "metadata": {},
   "outputs": [
    {
     "data": {
      "text/plain": [
       "(896.7569479244339, np.float64(2163.521577593467), 0.3444193022423313)"
      ]
     },
     "execution_count": 32,
     "metadata": {},
     "output_type": "execute_result"
    }
   ],
   "source": [
    "ridge_my = LinearRegressionSGD_Ridge(lr=0.01, max_iter=10000)\n",
    "ridge_my.fit(X_train, y_train)\n",
    "y_pred_ridge_my = ridge_my.predict(X_test)\n",
    "\n",
    "mae_my(y_pred_ridge_my, y_test), rmse_my(y_pred_ridge_my, y_test), r2_my(y_pred_ridge_my, y_test)"
   ]
  },
  {
   "cell_type": "code",
   "execution_count": 33,
   "id": "40d11969",
   "metadata": {},
   "outputs": [
    {
     "data": {
      "text/plain": [
       "(896.7570465518085, np.float64(2163.5397707071947), 0.34440827660296347)"
      ]
     },
     "execution_count": 33,
     "metadata": {},
     "output_type": "execute_result"
    }
   ],
   "source": [
    "elasticnet_my = LinearRegressionSGD_ElasticNet(lr=0.01, max_iter=10000)\n",
    "elasticnet_my.fit(X_train, y_train)\n",
    "y_pred_elasticnet_my = elasticnet_my.predict(X_test)\n",
    "\n",
    "mae_my(y_pred_elasticnet_my, y_test), rmse_my(y_pred_elasticnet_my, y_test), r2_my(y_pred_elasticnet_my, y_test)"
   ]
  },
  {
   "cell_type": "code",
   "execution_count": 34,
   "id": "b984de38",
   "metadata": {},
   "outputs": [
    {
     "data": {
      "text/plain": [
       "(1049.0602626444872, np.float64(2193.7202212064512), 0.32599025877895327)"
      ]
     },
     "execution_count": 34,
     "metadata": {},
     "output_type": "execute_result"
    }
   ],
   "source": [
    "from sklearn.linear_model import Lasso, Ridge, ElasticNet\n",
    "lasso = Lasso(alpha=0.1)\n",
    "lasso.fit(X_train, y_train)\n",
    "y_pred_lasso = lasso.predict(X_test)\n",
    "\n",
    "mae_my(y_pred_lasso, y_test), rmse_my(y_pred_lasso, y_test), r2_my(y_pred_lasso, y_test)"
   ]
  },
  {
   "cell_type": "code",
   "execution_count": 35,
   "id": "89106786",
   "metadata": {},
   "outputs": [
    {
     "data": {
      "text/plain": [
       "(1049.5035390907296, np.float64(2193.9381147346944), 0.32585635870109175)"
      ]
     },
     "execution_count": 35,
     "metadata": {},
     "output_type": "execute_result"
    }
   ],
   "source": [
    "ridge = Ridge(alpha=0.1)\n",
    "ridge.fit(X_train, y_train)\n",
    "y_pred_ridge = ridge.predict(X_test)\n",
    "\n",
    "mae_my(y_pred_ridge, y_test), rmse_my(y_pred_ridge, y_test), r2_my(y_pred_ridge, y_test)"
   ]
  },
  {
   "cell_type": "code",
   "execution_count": 36,
   "id": "add4da25",
   "metadata": {},
   "outputs": [
    {
     "data": {
      "text/plain": [
       "(966.8898939901201, np.float64(2165.5731695818854), 0.3431753841580778)"
      ]
     },
     "execution_count": 36,
     "metadata": {},
     "output_type": "execute_result"
    }
   ],
   "source": [
    "elasticnet = ElasticNet(alpha=0.1)\n",
    "elasticnet.fit(X_train, y_train)\n",
    "y_pred_elasticnet = elasticnet.predict(X_test)\n",
    "\n",
    "mae_my(y_pred_elasticnet, y_test), rmse_my(y_pred_elasticnet, y_test), r2_my(y_pred_elasticnet, y_test)"
   ]
  },
  {
   "cell_type": "code",
   "execution_count": 37,
   "id": "bdd29c11",
   "metadata": {},
   "outputs": [],
   "source": [
    "res_mae, res_rmse, res_r2 = append_results(lasso_my, \"Lasso my\", res_mae, res_rmse, res_r2)\n",
    "res_mae, res_rmse, res_r2 = append_results(lasso, \"Lasso original\", res_mae, res_rmse, res_r2)\n",
    "res_mae, res_rmse, res_r2 = append_results(ridge_my, \"Ridge my\", res_mae, res_rmse, res_r2)\n",
    "res_mae, res_rmse, res_r2 = append_results(ridge, \"Ridge original\", res_mae, res_rmse, res_r2)\n",
    "res_mae, res_rmse, res_r2 = append_results(elasticnet_my, \"ElasticNet my\", res_mae, res_rmse, res_r2)\n",
    "res_mae, res_rmse, res_r2 = append_results(elasticnet, \"ElasticNet original\", res_mae, res_rmse, res_r2)"
   ]
  },
  {
   "cell_type": "markdown",
   "id": "56243ed0",
   "metadata": {},
   "source": [
    "это все с регуляризацией, там метрики +- такие же"
   ]
  },
  {
   "cell_type": "markdown",
   "id": "3c9117dd",
   "metadata": {},
   "source": [
    "## 6. Feature normalization\n",
    "\n",
    "1. First, write several examples of why and where feature normalization is mandatory and vice versa.\n",
    "2. Let's consider the first of the classical normalization methods — MinMaxScaler. Write a mathematical formula for this method.\n",
    "3. Implement your own function or class for MinMaxScaler feature normalization.\n",
    "4. Initialize MinMaxScaler() from sklearn.preprocessing.\n",
    "5. Compare the feature normalization with your own method and with sklearn.\n",
    "6. Repeat the steps from b to e for another normalization method StandardScaler."
   ]
  },
  {
   "cell_type": "markdown",
   "id": "11f2569e",
   "metadata": {},
   "source": [
    "нормализация нужна для того, чтобы все признаки по возможности своего влияния на результат перед входом в модель были равны.  \n",
    "Особенно важно для алгоритмов, чувствительных к расстоянию - например, KNN  \n",
    "По сути мы ограничиваем данные в заданном диапазоне  \n",
    "Для линейных моделей нормализация способствует повышению производительности модели - тк числа меньше, то вычисления быстрее  "
   ]
  },
  {
   "cell_type": "markdown",
   "id": "f8b5b19f",
   "metadata": {},
   "source": [
    "все формулы в функциях"
   ]
  },
  {
   "cell_type": "code",
   "execution_count": 39,
   "id": "06da8abe",
   "metadata": {},
   "outputs": [],
   "source": [
    "def MinMaxScaler_my(X):\n",
    "    X = pd.DataFrame(X)\n",
    "    X_scaled = (X - X.min(axis=0)) / (X.max(axis=0) - X.min(axis=0))\n",
    "    return X_scaled.reset_index(drop=True)\n",
    "\n",
    "def StandardSclaler_my(X):\n",
    "    X = pd.DataFrame(X)\n",
    "    X_scaled = (X - X.mean(axis=0))/(X.std(axis=0))\n",
    "    return X_scaled.reset_index(drop=True)\n"
   ]
  },
  {
   "cell_type": "code",
   "execution_count": 40,
   "id": "7079248d",
   "metadata": {},
   "outputs": [],
   "source": [
    "from sklearn.preprocessing import MinMaxScaler, StandardScaler\n",
    "\n",
    "X_train_minmax_my = MinMaxScaler_my(X_train)\n",
    "X_train_minmax = pd.DataFrame(MinMaxScaler().fit_transform(X_train), columns=X_train.columns)\n",
    "\n",
    "\n",
    "X_train_standard_my = StandardSclaler_my(X_train)\n",
    "X_train_standard= pd.DataFrame(StandardScaler().fit_transform(X_train), columns=X_train.columns)"
   ]
  },
  {
   "cell_type": "code",
   "execution_count": 41,
   "id": "fb2f6adc",
   "metadata": {},
   "outputs": [
    {
     "name": "stdout",
     "output_type": "stream",
     "text": [
      "MinMax максимальное отклонение: 1.1102230246251565e-16, cреднее: 5.950029104483058e-20\n",
      "StandardScaler максимальное отклонение: 0.00022161598935710458, cреднее: 9.518907874769516e-06\n"
     ]
    }
   ],
   "source": [
    "diff_minmax = np.abs(X_train_minmax - X_train_minmax_my)\n",
    "diff_standard = np.abs(X_train_standard - X_train_standard_my)\n",
    "\n",
    "print(f\"MinMax максимальное отклонение: {np.max(diff_minmax)}, cреднее: {np.mean(diff_minmax)}\")\n",
    "print(f\"StandardScaler максимальное отклонение: {np.max(diff_standard)}, cреднее: {np.mean(diff_standard)}\")"
   ]
  },
  {
   "cell_type": "markdown",
   "id": "37bc538c",
   "metadata": {},
   "source": [
    "## 7. Fit custom and sklearn models with normalized data\n",
    "\n",
    "- Fit all models — Linear Regression, Ridge, Lasso, and ElasticNet — with MinMaxScaler.\n",
    "- Fit all models — Linear Regression, Ridge, Lasso, and ElasticNet — with StandardScaler.\n",
    "- Add all results to our dataframe with metrics on samples."
   ]
  },
  {
   "cell_type": "code",
   "execution_count": 42,
   "id": "76e17da0",
   "metadata": {},
   "outputs": [],
   "source": [
    "X_test_minmax_my = MinMaxScaler_my(X_test)\n",
    "X_test_standard_my = StandardSclaler_my(X_test)"
   ]
  },
  {
   "cell_type": "code",
   "execution_count": 43,
   "id": "6689e52a",
   "metadata": {},
   "outputs": [],
   "source": [
    "linreg_an_minmax = LinearRegressionAN()\n",
    "linreg_an_minmax.fit(X_train_minmax_my, y_train)\n",
    "linreg_an_standard = LinearRegressionAN()\n",
    "linreg_an_standard.fit(X_train_standard_my, y_train)\n",
    "\n",
    "lasso_my_minmax = LinearRegressionSGD_Lasso(lr=0.01, max_iter=10000)\n",
    "lasso_my_minmax.fit(X_train_minmax_my, y_train)\n",
    "lasso_my_standard = LinearRegressionSGD_Lasso(lr=0.01, max_iter=10000)\n",
    "lasso_my_standard.fit(X_train_standard_my, y_train)\n",
    "\n",
    "ridge_my_minmax = LinearRegressionSGD_Ridge(lr=0.01, max_iter=10000)\n",
    "ridge_my_minmax.fit(X_train_minmax_my, y_train)\n",
    "ridge_my_standard = LinearRegressionSGD_Ridge(lr=0.01, max_iter=10000)\n",
    "ridge_my_standard.fit(X_train_standard_my, y_train)\n",
    "\n",
    "elasticnet_my_minmax = LinearRegressionSGD_ElasticNet(lr=0.01, max_iter=10000)\n",
    "elasticnet_my_minmax.fit(X_train_minmax_my, y_train)\n",
    "elasticnet_my_standard = LinearRegressionSGD_ElasticNet(lr=0.01, max_iter=10000)\n",
    "elasticnet_my_standard.fit(X_train_standard_my, y_train)\n"
   ]
  },
  {
   "cell_type": "code",
   "execution_count": 44,
   "id": "8723e4d6",
   "metadata": {},
   "outputs": [],
   "source": [
    "res_mae, res_rmse, res_r2 = append_results(linreg_an_minmax, \"Linreg MinMax\", res_mae, res_rmse, res_r2, X_train_minmax_my, X_test_minmax_my, y_train.reset_index(drop=True), y_test.reset_index(drop=True))\n",
    "res_mae, res_rmse, res_r2 = append_results(linreg_an_standard, \"Linreg Standard\", res_mae, res_rmse, res_r2, X_train_standard_my, X_test_standard_my, y_train.reset_index(drop=True), y_test.reset_index(drop=True))\n",
    "res_mae, res_rmse, res_r2 = append_results(lasso_my_minmax, \"Lasso MinMax\", res_mae, res_rmse, res_r2, X_train_minmax_my, X_test_minmax_my, y_train.reset_index(drop=True), y_test.reset_index(drop=True))\n",
    "res_mae, res_rmse, res_r2 = append_results(lasso_my_standard, \"Lasso Standard\", res_mae, res_rmse, res_r2, X_train_standard_my, X_test_standard_my, y_train.reset_index(drop=True), y_test.reset_index(drop=True))\n",
    "res_mae, res_rmse, res_r2 = append_results(ridge_my_minmax, \"Ridge MinMax\", res_mae, res_rmse, res_r2, X_train_minmax_my, X_test_minmax_my, y_train.reset_index(drop=True), y_test.reset_index(drop=True))\n",
    "res_mae, res_rmse, res_r2 = append_results(ridge_my_standard, \"Ridge Standard\", res_mae, res_rmse, res_r2, X_train_standard_my, X_test_standard_my, y_train.reset_index(drop=True), y_test.reset_index(drop=True))\n",
    "res_mae, res_rmse, res_r2 = append_results(elasticnet_my_minmax, \"ElasticNet MinMax\", res_mae, res_rmse, res_r2, X_train_minmax_my, X_test_minmax_my, y_train.reset_index(drop=True), y_test.reset_index(drop=True))\n",
    "res_mae, res_rmse, res_r2 = append_results(elasticnet_my_standard, \"ElasticNet Standardl\", res_mae, res_rmse, res_r2, X_train_standard_my, X_test_standard_my, y_train.reset_index(drop=True), y_test.reset_index(drop=True))"
   ]
  },
  {
   "cell_type": "markdown",
   "id": "5b2e2222",
   "metadata": {},
   "source": [
    "## 8. Overfit models\n",
    "\n",
    "- Let's look at an overfitted model in practice. From theory, you know that polynomial regression is easy to overfit. So let's create a toy example and see how regularization works in real life.\n",
    "- In the previous lesson, we created polynomial features with degree 10. Here we repeat these steps from the previous lesson, remembering that we have only 3 basic features — 'bathrooms', 'bedrooms', 'interest_level'.\n",
    "- And train and fit all our implemented algorithms — Linear Regression, Ridge, Lasso, and ElasticNet — on a set of polynomial features.\n",
    "- Store the results of the quality metrics in the result dataframe.\n",
    "- Analyze the results and select the best model according to your opinion.\n",
    "- Additionally try different alpha parameters of regularization in algorithms, choose the best one and analyze results."
   ]
  },
  {
   "cell_type": "code",
   "execution_count": 45,
   "id": "787b6070",
   "metadata": {},
   "outputs": [],
   "source": [
    "# надо изменить рабочие датасеты\n",
    "\n",
    "X_overfit = train[['bathrooms', 'bedrooms', 'interest_level']].reset_index(drop=True)\n",
    "X_overfit = pd.get_dummies(X_overfit, columns=['interest_level'], dtype=int)"
   ]
  },
  {
   "cell_type": "code",
   "execution_count": 46,
   "id": "469adc68",
   "metadata": {},
   "outputs": [],
   "source": [
    "from sklearn.preprocessing import PolynomialFeatures\n",
    "poly = PolynomialFeatures(10)\n",
    "X_overfit = pd.DataFrame(poly.fit_transform(X_overfit))"
   ]
  },
  {
   "cell_type": "code",
   "execution_count": 47,
   "id": "59a4dbc6",
   "metadata": {},
   "outputs": [],
   "source": [
    "X_overfit_train, X_overfit_test, y_overfit_train, y_overfit_test = train_test_split(X_overfit, y, random_state=21)"
   ]
  },
  {
   "cell_type": "code",
   "execution_count": 48,
   "id": "b818c224",
   "metadata": {},
   "outputs": [
    {
     "ename": "LinAlgError",
     "evalue": "Singular matrix",
     "output_type": "error",
     "traceback": [
      "\u001b[0;31m---------------------------------------------------------------------------\u001b[0m",
      "\u001b[0;31mLinAlgError\u001b[0m                               Traceback (most recent call last)",
      "Cell \u001b[0;32mIn[48], line 2\u001b[0m\n\u001b[1;32m      1\u001b[0m linreg_overfit \u001b[38;5;241m=\u001b[39m LinearRegressionAN()\n\u001b[0;32m----> 2\u001b[0m \u001b[43mlinreg_overfit\u001b[49m\u001b[38;5;241;43m.\u001b[39;49m\u001b[43mfit\u001b[49m\u001b[43m(\u001b[49m\u001b[43mX_overfit_train\u001b[49m\u001b[43m,\u001b[49m\u001b[43m \u001b[49m\u001b[43my_overfit_train\u001b[49m\u001b[43m)\u001b[49m\n\u001b[1;32m      3\u001b[0m y_pred_linreg_overfit \u001b[38;5;241m=\u001b[39m linreg_overfit\u001b[38;5;241m.\u001b[39mpredict(X_overfit_test)\n\u001b[1;32m      5\u001b[0m mae_my(y_pred_linreg_overfit, y_overfit_test), rmse_my(y_pred_linreg_overfit, y_overfit_test), r2_my(y_pred_linreg_overfit, y_overfit_test)\n",
      "Cell \u001b[0;32mIn[17], line 9\u001b[0m, in \u001b[0;36mLinearRegressionAN.fit\u001b[0;34m(self, X, y)\u001b[0m\n\u001b[1;32m      7\u001b[0m \u001b[38;5;28;01mdef\u001b[39;00m \u001b[38;5;21mfit\u001b[39m(\u001b[38;5;28mself\u001b[39m, X, y):\n\u001b[1;32m      8\u001b[0m     X \u001b[38;5;241m=\u001b[39m np\u001b[38;5;241m.\u001b[39minsert(X, \u001b[38;5;241m0\u001b[39m, \u001b[38;5;241m1\u001b[39m, axis\u001b[38;5;241m=\u001b[39m\u001b[38;5;241m1\u001b[39m)\n\u001b[0;32m----> 9\u001b[0m     X_reversed \u001b[38;5;241m=\u001b[39m \u001b[43mnp\u001b[49m\u001b[38;5;241;43m.\u001b[39;49m\u001b[43mlinalg\u001b[49m\u001b[38;5;241;43m.\u001b[39;49m\u001b[43minv\u001b[49m\u001b[43m(\u001b[49m\u001b[43mX\u001b[49m\u001b[38;5;241;43m.\u001b[39;49m\u001b[43mT\u001b[49m\u001b[38;5;241;43m.\u001b[39;49m\u001b[43mdot\u001b[49m\u001b[43m(\u001b[49m\u001b[43mX\u001b[49m\u001b[43m)\u001b[49m\u001b[43m)\u001b[49m\n\u001b[1;32m     10\u001b[0m     \u001b[38;5;28mself\u001b[39m\u001b[38;5;241m.\u001b[39mweights \u001b[38;5;241m=\u001b[39m X_reversed\u001b[38;5;241m.\u001b[39mdot(X\u001b[38;5;241m.\u001b[39mT\u001b[38;5;241m.\u001b[39mdot(y))\n",
      "File \u001b[0;32m~/.local/lib/python3.10/site-packages/numpy/linalg/_linalg.py:608\u001b[0m, in \u001b[0;36minv\u001b[0;34m(a)\u001b[0m\n\u001b[1;32m    605\u001b[0m signature \u001b[38;5;241m=\u001b[39m \u001b[38;5;124m'\u001b[39m\u001b[38;5;124mD->D\u001b[39m\u001b[38;5;124m'\u001b[39m \u001b[38;5;28;01mif\u001b[39;00m isComplexType(t) \u001b[38;5;28;01melse\u001b[39;00m \u001b[38;5;124m'\u001b[39m\u001b[38;5;124md->d\u001b[39m\u001b[38;5;124m'\u001b[39m\n\u001b[1;32m    606\u001b[0m \u001b[38;5;28;01mwith\u001b[39;00m errstate(call\u001b[38;5;241m=\u001b[39m_raise_linalgerror_singular, invalid\u001b[38;5;241m=\u001b[39m\u001b[38;5;124m'\u001b[39m\u001b[38;5;124mcall\u001b[39m\u001b[38;5;124m'\u001b[39m,\n\u001b[1;32m    607\u001b[0m               over\u001b[38;5;241m=\u001b[39m\u001b[38;5;124m'\u001b[39m\u001b[38;5;124mignore\u001b[39m\u001b[38;5;124m'\u001b[39m, divide\u001b[38;5;241m=\u001b[39m\u001b[38;5;124m'\u001b[39m\u001b[38;5;124mignore\u001b[39m\u001b[38;5;124m'\u001b[39m, under\u001b[38;5;241m=\u001b[39m\u001b[38;5;124m'\u001b[39m\u001b[38;5;124mignore\u001b[39m\u001b[38;5;124m'\u001b[39m):\n\u001b[0;32m--> 608\u001b[0m     ainv \u001b[38;5;241m=\u001b[39m \u001b[43m_umath_linalg\u001b[49m\u001b[38;5;241;43m.\u001b[39;49m\u001b[43minv\u001b[49m\u001b[43m(\u001b[49m\u001b[43ma\u001b[49m\u001b[43m,\u001b[49m\u001b[43m \u001b[49m\u001b[43msignature\u001b[49m\u001b[38;5;241;43m=\u001b[39;49m\u001b[43msignature\u001b[49m\u001b[43m)\u001b[49m\n\u001b[1;32m    609\u001b[0m \u001b[38;5;28;01mreturn\u001b[39;00m wrap(ainv\u001b[38;5;241m.\u001b[39mastype(result_t, copy\u001b[38;5;241m=\u001b[39m\u001b[38;5;28;01mFalse\u001b[39;00m))\n",
      "File \u001b[0;32m~/.local/lib/python3.10/site-packages/numpy/linalg/_linalg.py:104\u001b[0m, in \u001b[0;36m_raise_linalgerror_singular\u001b[0;34m(err, flag)\u001b[0m\n\u001b[1;32m    103\u001b[0m \u001b[38;5;28;01mdef\u001b[39;00m \u001b[38;5;21m_raise_linalgerror_singular\u001b[39m(err, flag):\n\u001b[0;32m--> 104\u001b[0m     \u001b[38;5;28;01mraise\u001b[39;00m LinAlgError(\u001b[38;5;124m\"\u001b[39m\u001b[38;5;124mSingular matrix\u001b[39m\u001b[38;5;124m\"\u001b[39m)\n",
      "\u001b[0;31mLinAlgError\u001b[0m: Singular matrix"
     ]
    }
   ],
   "source": [
    "linreg_overfit = LinearRegressionAN()\n",
    "linreg_overfit.fit(X_overfit_train, y_overfit_train)\n",
    "y_pred_linreg_overfit = linreg_overfit.predict(X_overfit_test)\n",
    "\n",
    "mae_my(y_pred_linreg_overfit, y_overfit_test), rmse_my(y_pred_linreg_overfit, y_overfit_test), r2_my(y_pred_linreg_overfit, y_overfit_test)"
   ]
  },
  {
   "cell_type": "code",
   "execution_count": null,
   "id": "62990f40",
   "metadata": {},
   "outputs": [
    {
     "data": {
      "text/plain": [
       "(nan, np.float64(nan), nan)"
      ]
     },
     "execution_count": 48,
     "metadata": {},
     "output_type": "execute_result"
    }
   ],
   "source": [
    "lasso_overfit = LinearRegressionSGD_Lasso(lr=0.1, max_iter=10000)\n",
    "lasso_overfit.fit(X_overfit_train, y_overfit_train)\n",
    "y_pred_lasso_overfit = lasso_overfit.predict(X_overfit_test)\n",
    "\n",
    "mae_my(y_pred_lasso_overfit, y_overfit_test), rmse_my(y_pred_lasso_overfit, y_overfit_test), r2_my(y_pred_lasso_overfit, y_overfit_test)"
   ]
  },
  {
   "cell_type": "code",
   "execution_count": null,
   "id": "5caec856",
   "metadata": {},
   "outputs": [
    {
     "data": {
      "text/plain": [
       "(nan, np.float64(nan), nan)"
      ]
     },
     "execution_count": 49,
     "metadata": {},
     "output_type": "execute_result"
    }
   ],
   "source": [
    "ridge_overfit = LinearRegressionSGD_Ridge(lr=0.1, max_iter=10000)\n",
    "ridge_overfit.fit(X_overfit_train, y_overfit_train)\n",
    "y_pred_ridge_overfit = ridge_overfit.predict(X_overfit_test)\n",
    "\n",
    "mae_my(y_pred_ridge_overfit, y_overfit_test), rmse_my(y_pred_ridge_overfit, y_overfit_test), r2_my(y_pred_ridge_overfit, y_overfit_test)"
   ]
  },
  {
   "cell_type": "code",
   "execution_count": null,
   "id": "dd25010f",
   "metadata": {},
   "outputs": [
    {
     "data": {
      "text/plain": [
       "(nan, np.float64(nan), nan)"
      ]
     },
     "execution_count": 95,
     "metadata": {},
     "output_type": "execute_result"
    }
   ],
   "source": [
    "elasticnet_overfit = LinearRegressionSGD_ElasticNet(lr=0.1, max_iter=10000)\n",
    "elasticnet_overfit.fit(X_overfit_train, y_overfit_train)\n",
    "y_pred_elasticnet_overfit = elasticnet_overfit.predict(X_overfit_test)\n",
    "\n",
    "mae_my(y_pred_elasticnet_overfit, y_overfit_test), rmse_my(y_pred_elasticnet_overfit, y_overfit_test), r2_my(y_pred_elasticnet_overfit, y_overfit_test)"
   ]
  },
  {
   "cell_type": "markdown",
   "id": "45b17c79",
   "metadata": {},
   "source": [
    "в общем, все очень-очень печально :)  \n",
    "результаты в таблицу вносить не буду, просто запомним, что линейная зависимость признаков - это плохо  \n",
    "я пробовала оригинальные lasso и т.д. они реализованы через coordinate descent, а не sgd и таких вычислений мой ноутбук не выдерживает  \n",
    "но даже при градиентном решении лин. зав. - плохо, т.к. эллипсы ошибок получаются более вытянутыми, то скорость сходимости градиентного спуска ниже."
   ]
  },
  {
   "cell_type": "markdown",
   "id": "0e90902c",
   "metadata": {},
   "source": [
    "# 9. Naive models\n",
    "\n",
    "- Calculate the mean and median metrics from the previous lesson and add the results to the final dataframe."
   ]
  },
  {
   "cell_type": "code",
   "execution_count": 49,
   "id": "336653de",
   "metadata": {},
   "outputs": [],
   "source": [
    "train_mean = y_train.mean()\n",
    "test_mean = y_test.mean()\n",
    "\n",
    "train_median = y_train.median()\n",
    "test_median = y_test.median()"
   ]
  },
  {
   "cell_type": "code",
   "execution_count": 50,
   "id": "7deb25f5",
   "metadata": {},
   "outputs": [],
   "source": [
    "mae_train = mae_my(train_mean, y_train)\n",
    "mae_test = mae_my(test_mean, y_test)\n",
    "rmse_train = rmse_my(train_mean, y_train)\n",
    "rmse_test = rmse_my(test_mean, y_test)\n",
    "r2_train = r2_my(train_mean, y_train)\n",
    "r2_test = r2_my(test_mean, y_test)\n",
    "\n",
    "mae_row = pd.DataFrame({'model' : ['mean'], 'train' : [mae_train], 'test' : [mae_test]})\n",
    "rmse_row = pd.DataFrame({'model' : ['mean'], 'train' : [rmse_train], 'test' : [rmse_test]})\n",
    "r2_row = pd.DataFrame({'model' : ['mean'], 'train' : [r2_train], 'test' : [r2_test]})\n",
    "\n",
    "res_mae = pd.concat([res_mae, mae_row])\n",
    "res_rmse = pd.concat([res_rmse, rmse_row], ignore_index=True)\n",
    "res_r2 = pd.concat([res_r2, r2_row], ignore_index=True)\n",
    "\n",
    "\n",
    "\n",
    "mae_train = mae_my(train_median, y_train)\n",
    "mae_test = mae_my(test_median, y_test)\n",
    "rmse_train = rmse_my(train_median, y_train)\n",
    "rmse_test = rmse_my(test_median, y_test)\n",
    "r2_train = r2_my(train_median, y_train)\n",
    "r2_test = r2_my(test_median, y_test)\n",
    "\n",
    "mae_row = pd.DataFrame({'model' : ['median'], 'train' : [mae_train], 'test' : [mae_test]})\n",
    "rmse_row = pd.DataFrame({'model' : ['median'], 'train' : [rmse_train], 'test' : [rmse_test]})\n",
    "r2_row = pd.DataFrame({'model' : ['median'], 'train' : [r2_train], 'test' : [r2_test]})\n",
    "\n",
    "res_mae = pd.concat([res_mae, mae_row])\n",
    "res_rmse = pd.concat([res_rmse, rmse_row], ignore_index=True)\n",
    "res_r2 = pd.concat([res_r2, r2_row], ignore_index=True)"
   ]
  },
  {
   "cell_type": "markdown",
   "id": "77a1fba8",
   "metadata": {},
   "source": [
    "# 10. Compare results\n",
    "\n",
    "- Print your final tables\n",
    "- What is the best model?\n",
    "- Which is the most stable model?"
   ]
  },
  {
   "cell_type": "code",
   "execution_count": 51,
   "id": "5dff76d6",
   "metadata": {},
   "outputs": [
    {
     "data": {
      "text/html": [
       "<div>\n",
       "<style scoped>\n",
       "    .dataframe tbody tr th:only-of-type {\n",
       "        vertical-align: middle;\n",
       "    }\n",
       "\n",
       "    .dataframe tbody tr th {\n",
       "        vertical-align: top;\n",
       "    }\n",
       "\n",
       "    .dataframe thead th {\n",
       "        text-align: right;\n",
       "    }\n",
       "</style>\n",
       "<table border=\"1\" class=\"dataframe\">\n",
       "  <thead>\n",
       "    <tr style=\"text-align: right;\">\n",
       "      <th></th>\n",
       "      <th>model</th>\n",
       "      <th>train</th>\n",
       "      <th>test</th>\n",
       "    </tr>\n",
       "  </thead>\n",
       "  <tbody>\n",
       "    <tr>\n",
       "      <th>0</th>\n",
       "      <td>Analytical</td>\n",
       "      <td>1247.439141</td>\n",
       "      <td>1049.511765</td>\n",
       "    </tr>\n",
       "    <tr>\n",
       "      <th>0</th>\n",
       "      <td>GD</td>\n",
       "      <td>1218.760602</td>\n",
       "      <td>1016.770463</td>\n",
       "    </tr>\n",
       "    <tr>\n",
       "      <th>0</th>\n",
       "      <td>SGD</td>\n",
       "      <td>1212.553390</td>\n",
       "      <td>1008.469487</td>\n",
       "    </tr>\n",
       "    <tr>\n",
       "      <th>0</th>\n",
       "      <td>Skleran original</td>\n",
       "      <td>1247.439141</td>\n",
       "      <td>1049.511765</td>\n",
       "    </tr>\n",
       "    <tr>\n",
       "      <th>0</th>\n",
       "      <td>Lasso my</td>\n",
       "      <td>1212.413633</td>\n",
       "      <td>1008.323122</td>\n",
       "    </tr>\n",
       "    <tr>\n",
       "      <th>0</th>\n",
       "      <td>Lasso original</td>\n",
       "      <td>1247.034238</td>\n",
       "      <td>1049.060263</td>\n",
       "    </tr>\n",
       "    <tr>\n",
       "      <th>0</th>\n",
       "      <td>Ridge my</td>\n",
       "      <td>1104.233309</td>\n",
       "      <td>896.756948</td>\n",
       "    </tr>\n",
       "    <tr>\n",
       "      <th>0</th>\n",
       "      <td>Ridge original</td>\n",
       "      <td>1247.431700</td>\n",
       "      <td>1049.503539</td>\n",
       "    </tr>\n",
       "    <tr>\n",
       "      <th>0</th>\n",
       "      <td>ElasticNet my</td>\n",
       "      <td>1104.235982</td>\n",
       "      <td>896.757047</td>\n",
       "    </tr>\n",
       "    <tr>\n",
       "      <th>0</th>\n",
       "      <td>ElasticNet original</td>\n",
       "      <td>1173.153651</td>\n",
       "      <td>966.889894</td>\n",
       "    </tr>\n",
       "    <tr>\n",
       "      <th>0</th>\n",
       "      <td>Linreg MinMax</td>\n",
       "      <td>1247.439141</td>\n",
       "      <td>2253.050548</td>\n",
       "    </tr>\n",
       "    <tr>\n",
       "      <th>0</th>\n",
       "      <td>Linreg Standard</td>\n",
       "      <td>1247.439141</td>\n",
       "      <td>1046.619300</td>\n",
       "    </tr>\n",
       "    <tr>\n",
       "      <th>0</th>\n",
       "      <td>Lasso MinMax</td>\n",
       "      <td>1142.795609</td>\n",
       "      <td>1145.038069</td>\n",
       "    </tr>\n",
       "    <tr>\n",
       "      <th>0</th>\n",
       "      <td>Lasso Standard</td>\n",
       "      <td>1112.305688</td>\n",
       "      <td>905.325757</td>\n",
       "    </tr>\n",
       "    <tr>\n",
       "      <th>0</th>\n",
       "      <td>Ridge MinMax</td>\n",
       "      <td>1288.428484</td>\n",
       "      <td>1070.874109</td>\n",
       "    </tr>\n",
       "    <tr>\n",
       "      <th>0</th>\n",
       "      <td>Ridge Standard</td>\n",
       "      <td>1088.603302</td>\n",
       "      <td>877.090284</td>\n",
       "    </tr>\n",
       "    <tr>\n",
       "      <th>0</th>\n",
       "      <td>ElasticNet MinMax</td>\n",
       "      <td>1288.459063</td>\n",
       "      <td>1070.907020</td>\n",
       "    </tr>\n",
       "    <tr>\n",
       "      <th>0</th>\n",
       "      <td>ElasticNet Standardl</td>\n",
       "      <td>1088.559117</td>\n",
       "      <td>877.043284</td>\n",
       "    </tr>\n",
       "    <tr>\n",
       "      <th>0</th>\n",
       "      <td>mean</td>\n",
       "      <td>1609.882309</td>\n",
       "      <td>1316.741138</td>\n",
       "    </tr>\n",
       "    <tr>\n",
       "      <th>0</th>\n",
       "      <td>median</td>\n",
       "      <td>1442.898154</td>\n",
       "      <td>1230.050046</td>\n",
       "    </tr>\n",
       "  </tbody>\n",
       "</table>\n",
       "</div>"
      ],
      "text/plain": [
       "                  model        train         test\n",
       "0            Analytical  1247.439141  1049.511765\n",
       "0                    GD  1218.760602  1016.770463\n",
       "0                   SGD  1212.553390  1008.469487\n",
       "0      Skleran original  1247.439141  1049.511765\n",
       "0              Lasso my  1212.413633  1008.323122\n",
       "0        Lasso original  1247.034238  1049.060263\n",
       "0              Ridge my  1104.233309   896.756948\n",
       "0        Ridge original  1247.431700  1049.503539\n",
       "0         ElasticNet my  1104.235982   896.757047\n",
       "0   ElasticNet original  1173.153651   966.889894\n",
       "0         Linreg MinMax  1247.439141  2253.050548\n",
       "0       Linreg Standard  1247.439141  1046.619300\n",
       "0          Lasso MinMax  1142.795609  1145.038069\n",
       "0        Lasso Standard  1112.305688   905.325757\n",
       "0          Ridge MinMax  1288.428484  1070.874109\n",
       "0        Ridge Standard  1088.603302   877.090284\n",
       "0     ElasticNet MinMax  1288.459063  1070.907020\n",
       "0  ElasticNet Standardl  1088.559117   877.043284\n",
       "0                  mean  1609.882309  1316.741138\n",
       "0                median  1442.898154  1230.050046"
      ]
     },
     "execution_count": 51,
     "metadata": {},
     "output_type": "execute_result"
    }
   ],
   "source": [
    "res_mae"
   ]
  },
  {
   "cell_type": "code",
   "execution_count": 52,
   "id": "b2da4573",
   "metadata": {},
   "outputs": [
    {
     "data": {
      "text/html": [
       "<div>\n",
       "<style scoped>\n",
       "    .dataframe tbody tr th:only-of-type {\n",
       "        vertical-align: middle;\n",
       "    }\n",
       "\n",
       "    .dataframe tbody tr th {\n",
       "        vertical-align: top;\n",
       "    }\n",
       "\n",
       "    .dataframe thead th {\n",
       "        text-align: right;\n",
       "    }\n",
       "</style>\n",
       "<table border=\"1\" class=\"dataframe\">\n",
       "  <thead>\n",
       "    <tr style=\"text-align: right;\">\n",
       "      <th></th>\n",
       "      <th>model</th>\n",
       "      <th>train</th>\n",
       "      <th>test</th>\n",
       "    </tr>\n",
       "  </thead>\n",
       "  <tbody>\n",
       "    <tr>\n",
       "      <th>0</th>\n",
       "      <td>Analytical</td>\n",
       "      <td>24567.312851</td>\n",
       "      <td>2193.942261</td>\n",
       "    </tr>\n",
       "    <tr>\n",
       "      <th>1</th>\n",
       "      <td>GD</td>\n",
       "      <td>24567.802283</td>\n",
       "      <td>2178.233989</td>\n",
       "    </tr>\n",
       "    <tr>\n",
       "      <th>2</th>\n",
       "      <td>SGD</td>\n",
       "      <td>24579.023175</td>\n",
       "      <td>2173.697829</td>\n",
       "    </tr>\n",
       "    <tr>\n",
       "      <th>3</th>\n",
       "      <td>Skleran original</td>\n",
       "      <td>24567.312851</td>\n",
       "      <td>2193.942261</td>\n",
       "    </tr>\n",
       "    <tr>\n",
       "      <th>4</th>\n",
       "      <td>Lasso my</td>\n",
       "      <td>24579.020471</td>\n",
       "      <td>2173.613921</td>\n",
       "    </tr>\n",
       "    <tr>\n",
       "      <th>5</th>\n",
       "      <td>Lasso original</td>\n",
       "      <td>24567.312936</td>\n",
       "      <td>2193.720221</td>\n",
       "    </tr>\n",
       "    <tr>\n",
       "      <th>6</th>\n",
       "      <td>Ridge my</td>\n",
       "      <td>24581.351393</td>\n",
       "      <td>2163.521578</td>\n",
       "    </tr>\n",
       "    <tr>\n",
       "      <th>7</th>\n",
       "      <td>Ridge original</td>\n",
       "      <td>24567.312851</td>\n",
       "      <td>2193.938115</td>\n",
       "    </tr>\n",
       "    <tr>\n",
       "      <th>8</th>\n",
       "      <td>ElasticNet my</td>\n",
       "      <td>24581.355007</td>\n",
       "      <td>2163.539771</td>\n",
       "    </tr>\n",
       "    <tr>\n",
       "      <th>9</th>\n",
       "      <td>ElasticNet original</td>\n",
       "      <td>24569.338881</td>\n",
       "      <td>2165.573170</td>\n",
       "    </tr>\n",
       "    <tr>\n",
       "      <th>10</th>\n",
       "      <td>Linreg MinMax</td>\n",
       "      <td>24567.312851</td>\n",
       "      <td>3098.412571</td>\n",
       "    </tr>\n",
       "    <tr>\n",
       "      <th>11</th>\n",
       "      <td>Linreg Standard</td>\n",
       "      <td>24567.312851</td>\n",
       "      <td>2192.238986</td>\n",
       "    </tr>\n",
       "    <tr>\n",
       "      <th>12</th>\n",
       "      <td>Lasso MinMax</td>\n",
       "      <td>24587.282739</td>\n",
       "      <td>2275.101117</td>\n",
       "    </tr>\n",
       "    <tr>\n",
       "      <th>13</th>\n",
       "      <td>Lasso Standard</td>\n",
       "      <td>24586.099664</td>\n",
       "      <td>2193.846215</td>\n",
       "    </tr>\n",
       "    <tr>\n",
       "      <th>14</th>\n",
       "      <td>Ridge MinMax</td>\n",
       "      <td>24621.662556</td>\n",
       "      <td>2481.829363</td>\n",
       "    </tr>\n",
       "    <tr>\n",
       "      <th>15</th>\n",
       "      <td>Ridge Standard</td>\n",
       "      <td>24588.203019</td>\n",
       "      <td>2207.016345</td>\n",
       "    </tr>\n",
       "    <tr>\n",
       "      <th>16</th>\n",
       "      <td>ElasticNet MinMax</td>\n",
       "      <td>24621.665011</td>\n",
       "      <td>2481.871229</td>\n",
       "    </tr>\n",
       "    <tr>\n",
       "      <th>17</th>\n",
       "      <td>ElasticNet Standardl</td>\n",
       "      <td>24588.203127</td>\n",
       "      <td>2207.009073</td>\n",
       "    </tr>\n",
       "    <tr>\n",
       "      <th>18</th>\n",
       "      <td>mean</td>\n",
       "      <td>24635.093764</td>\n",
       "      <td>2672.071973</td>\n",
       "    </tr>\n",
       "    <tr>\n",
       "      <th>19</th>\n",
       "      <td>median</td>\n",
       "      <td>24645.554970</td>\n",
       "      <td>2719.160632</td>\n",
       "    </tr>\n",
       "  </tbody>\n",
       "</table>\n",
       "</div>"
      ],
      "text/plain": [
       "                   model         train         test\n",
       "0             Analytical  24567.312851  2193.942261\n",
       "1                     GD  24567.802283  2178.233989\n",
       "2                    SGD  24579.023175  2173.697829\n",
       "3       Skleran original  24567.312851  2193.942261\n",
       "4               Lasso my  24579.020471  2173.613921\n",
       "5         Lasso original  24567.312936  2193.720221\n",
       "6               Ridge my  24581.351393  2163.521578\n",
       "7         Ridge original  24567.312851  2193.938115\n",
       "8          ElasticNet my  24581.355007  2163.539771\n",
       "9    ElasticNet original  24569.338881  2165.573170\n",
       "10         Linreg MinMax  24567.312851  3098.412571\n",
       "11       Linreg Standard  24567.312851  2192.238986\n",
       "12          Lasso MinMax  24587.282739  2275.101117\n",
       "13        Lasso Standard  24586.099664  2193.846215\n",
       "14          Ridge MinMax  24621.662556  2481.829363\n",
       "15        Ridge Standard  24588.203019  2207.016345\n",
       "16     ElasticNet MinMax  24621.665011  2481.871229\n",
       "17  ElasticNet Standardl  24588.203127  2207.009073\n",
       "18                  mean  24635.093764  2672.071973\n",
       "19                median  24645.554970  2719.160632"
      ]
     },
     "execution_count": 52,
     "metadata": {},
     "output_type": "execute_result"
    }
   ],
   "source": [
    "res_rmse"
   ]
  },
  {
   "cell_type": "code",
   "execution_count": 54,
   "id": "0f466960",
   "metadata": {},
   "outputs": [
    {
     "data": {
      "text/html": [
       "<div>\n",
       "<style scoped>\n",
       "    .dataframe tbody tr th:only-of-type {\n",
       "        vertical-align: middle;\n",
       "    }\n",
       "\n",
       "    .dataframe tbody tr th {\n",
       "        vertical-align: top;\n",
       "    }\n",
       "\n",
       "    .dataframe thead th {\n",
       "        text-align: right;\n",
       "    }\n",
       "</style>\n",
       "<table border=\"1\" class=\"dataframe\">\n",
       "  <thead>\n",
       "    <tr style=\"text-align: right;\">\n",
       "      <th></th>\n",
       "      <th>model</th>\n",
       "      <th>train</th>\n",
       "      <th>test</th>\n",
       "    </tr>\n",
       "  </thead>\n",
       "  <tbody>\n",
       "    <tr>\n",
       "      <th>0</th>\n",
       "      <td>Analytical</td>\n",
       "      <td>0.005495</td>\n",
       "      <td>0.325854</td>\n",
       "    </tr>\n",
       "    <tr>\n",
       "      <th>1</th>\n",
       "      <td>GD</td>\n",
       "      <td>0.005456</td>\n",
       "      <td>0.335473</td>\n",
       "    </tr>\n",
       "    <tr>\n",
       "      <th>2</th>\n",
       "      <td>SGD</td>\n",
       "      <td>0.004547</td>\n",
       "      <td>0.338238</td>\n",
       "    </tr>\n",
       "    <tr>\n",
       "      <th>3</th>\n",
       "      <td>Skleran original</td>\n",
       "      <td>0.005495</td>\n",
       "      <td>0.325854</td>\n",
       "    </tr>\n",
       "    <tr>\n",
       "      <th>4</th>\n",
       "      <td>Lasso my</td>\n",
       "      <td>0.004547</td>\n",
       "      <td>0.338289</td>\n",
       "    </tr>\n",
       "    <tr>\n",
       "      <th>5</th>\n",
       "      <td>Lasso original</td>\n",
       "      <td>0.005495</td>\n",
       "      <td>0.325990</td>\n",
       "    </tr>\n",
       "    <tr>\n",
       "      <th>6</th>\n",
       "      <td>Ridge my</td>\n",
       "      <td>0.004358</td>\n",
       "      <td>0.344419</td>\n",
       "    </tr>\n",
       "    <tr>\n",
       "      <th>7</th>\n",
       "      <td>Ridge original</td>\n",
       "      <td>0.005495</td>\n",
       "      <td>0.325856</td>\n",
       "    </tr>\n",
       "    <tr>\n",
       "      <th>8</th>\n",
       "      <td>ElasticNet my</td>\n",
       "      <td>0.004358</td>\n",
       "      <td>0.344408</td>\n",
       "    </tr>\n",
       "    <tr>\n",
       "      <th>9</th>\n",
       "      <td>ElasticNet original</td>\n",
       "      <td>0.005331</td>\n",
       "      <td>0.343175</td>\n",
       "    </tr>\n",
       "    <tr>\n",
       "      <th>10</th>\n",
       "      <td>Linreg MinMax</td>\n",
       "      <td>0.005495</td>\n",
       "      <td>-0.344566</td>\n",
       "    </tr>\n",
       "    <tr>\n",
       "      <th>11</th>\n",
       "      <td>Linreg Standard</td>\n",
       "      <td>0.005495</td>\n",
       "      <td>0.326900</td>\n",
       "    </tr>\n",
       "    <tr>\n",
       "      <th>12</th>\n",
       "      <td>Lasso MinMax</td>\n",
       "      <td>0.003878</td>\n",
       "      <td>0.275055</td>\n",
       "    </tr>\n",
       "    <tr>\n",
       "      <th>13</th>\n",
       "      <td>Lasso Standard</td>\n",
       "      <td>0.003974</td>\n",
       "      <td>0.325913</td>\n",
       "    </tr>\n",
       "    <tr>\n",
       "      <th>14</th>\n",
       "      <td>Ridge MinMax</td>\n",
       "      <td>0.001090</td>\n",
       "      <td>0.137324</td>\n",
       "    </tr>\n",
       "    <tr>\n",
       "      <th>15</th>\n",
       "      <td>Ridge Standard</td>\n",
       "      <td>0.003803</td>\n",
       "      <td>0.317795</td>\n",
       "    </tr>\n",
       "    <tr>\n",
       "      <th>16</th>\n",
       "      <td>ElasticNet MinMax</td>\n",
       "      <td>0.001090</td>\n",
       "      <td>0.137295</td>\n",
       "    </tr>\n",
       "    <tr>\n",
       "      <th>17</th>\n",
       "      <td>ElasticNet Standardl</td>\n",
       "      <td>0.003803</td>\n",
       "      <td>0.317800</td>\n",
       "    </tr>\n",
       "    <tr>\n",
       "      <th>18</th>\n",
       "      <td>mean</td>\n",
       "      <td>0.000000</td>\n",
       "      <td>0.000000</td>\n",
       "    </tr>\n",
       "    <tr>\n",
       "      <th>19</th>\n",
       "      <td>median</td>\n",
       "      <td>-0.000849</td>\n",
       "      <td>-0.035556</td>\n",
       "    </tr>\n",
       "  </tbody>\n",
       "</table>\n",
       "</div>"
      ],
      "text/plain": [
       "                   model     train      test\n",
       "0             Analytical  0.005495  0.325854\n",
       "1                     GD  0.005456  0.335473\n",
       "2                    SGD  0.004547  0.338238\n",
       "3       Skleran original  0.005495  0.325854\n",
       "4               Lasso my  0.004547  0.338289\n",
       "5         Lasso original  0.005495  0.325990\n",
       "6               Ridge my  0.004358  0.344419\n",
       "7         Ridge original  0.005495  0.325856\n",
       "8          ElasticNet my  0.004358  0.344408\n",
       "9    ElasticNet original  0.005331  0.343175\n",
       "10         Linreg MinMax  0.005495 -0.344566\n",
       "11       Linreg Standard  0.005495  0.326900\n",
       "12          Lasso MinMax  0.003878  0.275055\n",
       "13        Lasso Standard  0.003974  0.325913\n",
       "14          Ridge MinMax  0.001090  0.137324\n",
       "15        Ridge Standard  0.003803  0.317795\n",
       "16     ElasticNet MinMax  0.001090  0.137295\n",
       "17  ElasticNet Standardl  0.003803  0.317800\n",
       "18                  mean  0.000000  0.000000\n",
       "19                median -0.000849 -0.035556"
      ]
     },
     "execution_count": 54,
     "metadata": {},
     "output_type": "execute_result"
    }
   ],
   "source": [
    "res_r2"
   ]
  },
  {
   "cell_type": "markdown",
   "id": "f3bb303a",
   "metadata": {},
   "source": [
    "лучшие модели - ridge и lasso"
   ]
  },
  {
   "cell_type": "markdown",
   "id": "f9852fbc",
   "metadata": {},
   "source": [
    "# 11. Addition task\n",
    "\n",
    "- There are some tricks with the target variable for better model quality. If we have a distribution with a heavy tail, you can use a monotone function to \"improve\" the distribution. In practice, you can use logarithmic functions. We recommend that you do this exercise and compare the results. But don't forget to do the inverse transformation if you want to compare metrics.\n",
    "- The next trick is outliers. The angle of the linear regression line depends strongly on outliers. And often you should remove these points from !allert! only training data. You should explain why they were removed from the training sample only. We recommend that you do this exercise and compare the results.\n",
    "- It will also be a useful exercise to implement a linear regression algorithm with batch and mini-batch training or analytical solution (as mentioned in 4.1)."
   ]
  },
  {
   "cell_type": "code",
   "execution_count": 55,
   "id": "8fe67e92",
   "metadata": {},
   "outputs": [],
   "source": [
    "y_train_log = np.log1p(y_train)\n",
    "y_test_log = np.log1p(y_test)"
   ]
  },
  {
   "cell_type": "code",
   "execution_count": 56,
   "id": "d1d29b61",
   "metadata": {},
   "outputs": [
    {
     "data": {
      "text/plain": [
       "(891.4170558913837, np.float64(2077.9029727644142), 0.39528014929718625)"
      ]
     },
     "execution_count": 56,
     "metadata": {},
     "output_type": "execute_result"
    }
   ],
   "source": [
    "# используем ridge как одну из лучших моделей для тестирования трюков\n",
    "\n",
    "ridge = LinearRegressionSGD_Ridge(lr=0.01, max_iter=10000)\n",
    "ridge.fit(X_train, y_train_log)\n",
    "y_pred = np.expm1(ridge.predict(X_test)) \n",
    "\n",
    "mae_my(y_pred, y_test), rmse_my(y_pred, y_test), r2_my(y_pred, y_test)"
   ]
  },
  {
   "cell_type": "code",
   "execution_count": 57,
   "id": "cb7383ab",
   "metadata": {},
   "outputs": [],
   "source": [
    "q_low = y_train.quantile(0.01)\n",
    "q_high = y_train.quantile(0.99)\n",
    "\n",
    "mask = (y_train > q_low) & (y_train < q_high)\n",
    "\n",
    "X_train_clean, y_train_clean = X_train[mask.values], y_train[mask.values]"
   ]
  },
  {
   "cell_type": "code",
   "execution_count": 58,
   "id": "4ee201de",
   "metadata": {},
   "outputs": [
    {
     "data": {
      "text/plain": [
       "(818.6127042536398, np.float64(2155.1699909430804), 0.3494708548075838)"
      ]
     },
     "execution_count": 58,
     "metadata": {},
     "output_type": "execute_result"
    }
   ],
   "source": [
    "ridge = LinearRegressionSGD_Ridge(lr=0.001, max_iter=10000, alpha=0.001)\n",
    "ridge.fit(X_train_clean, y_train_clean)\n",
    "y_pred = ridge.predict(X_test)\n",
    "\n",
    "mae_my(y_pred, y_test), rmse_my(y_pred, y_test), r2_my(y_pred, y_test)"
   ]
  },
  {
   "cell_type": "markdown",
   "id": "5a9f048b",
   "metadata": {},
   "source": [
    "если удалить выбросы из теста, то мы не сможем получить полную картину инференса модели"
   ]
  },
  {
   "cell_type": "code",
   "execution_count": 59,
   "id": "9ae5e92d",
   "metadata": {},
   "outputs": [],
   "source": [
    "class LinearRegressionMiniBatchGD:\n",
    "    def __init__(self, lr=10e-3, max_iter=1000, random_state=21, batch_size=32):\n",
    "        self.weights = None\n",
    "        self.bias = None\n",
    "        self.lr = lr\n",
    "        self.max_iter = max_iter\n",
    "        self.random_state = random_state\n",
    "        self.batch_size = batch_size\n",
    "        \n",
    "    def fit(self, X, y):\n",
    "        np.random.seed(self.random_state)\n",
    "        \n",
    "        n_samples, n_features = X.shape\n",
    "        self.bias, self.weights = 0, np.zeros(n_features)\n",
    "\n",
    "        for _ in range(self.max_iter):\n",
    "            idx = np.random.choice(n_samples, self.batch_size, replace=False)\n",
    "            X_batch, y_batch = X.iloc[idx], y.iloc[idx]\n",
    "\n",
    "            y_pred = X_batch @ self.weights + self.bias\n",
    "\n",
    "            err = y_pred - y_batch\n",
    "            grad_b = 2 / self.batch_size * np.sum(err)\n",
    "            grad_w = 2 / self.batch_size * X_batch.T @ err\n",
    "            \n",
    "            self.bias -= self.lr * grad_b\n",
    "            self.weights -=  self.lr * grad_w\n",
    "\n",
    "    def predict(self, X):\n",
    "        return X @ self.weights + self.bias\n"
   ]
  },
  {
   "cell_type": "code",
   "execution_count": 60,
   "id": "469f0673",
   "metadata": {},
   "outputs": [
    {
     "data": {
      "text/plain": [
       "(891.0189444646536, np.float64(2125.385698234495), 0.36732714104647524)"
      ]
     },
     "execution_count": 60,
     "metadata": {},
     "output_type": "execute_result"
    }
   ],
   "source": [
    "linreg_batch = LinearRegressionMiniBatchGD(lr=0.005, max_iter=1000, batch_size=32)\n",
    "linreg_batch.fit(X_train, y_train)\n",
    "y_pred = linreg_batch.predict(X_test)\n",
    "\n",
    "mae_my(y_pred, y_test), rmse_my(y_pred, y_test), r2_my(y_pred, y_test)"
   ]
  }
 ],
 "metadata": {
  "kernelspec": {
   "display_name": "Python 3",
   "language": "python",
   "name": "python3"
  },
  "language_info": {
   "codemirror_mode": {
    "name": "ipython",
    "version": 3
   },
   "file_extension": ".py",
   "mimetype": "text/x-python",
   "name": "python",
   "nbconvert_exporter": "python",
   "pygments_lexer": "ipython3",
   "version": "3.10.12"
  }
 },
 "nbformat": 4,
 "nbformat_minor": 5
}
